{
 "cells": [
  {
   "cell_type": "markdown",
   "metadata": {},
   "source": [
    "# Q1\n",
    "The function $f$ is defined by\n",
    "$$f:x\\mapsto\\frac{ax}{bx-a},\\,x\\in\\mathbb{R},x\\neq\\frac{a}{b},$$\n",
    "\n",
    "where $a$ and $b$ are non-zero constants. \n",
    "\n",
    "- (a) (i)\tDetermine if $f^{-1}$  exists. If yes, find $f^{-1}(x)$.  \n",
    "- (a) (ii)\tHence, or otherwise, find the rule of the composite function, $f^2(x)$  and state the range of $f^2$.\n",
    "- (a) (iii)\tSolve the equation $f^{-1}(x)=x$.\n",
    "\n",
    "- (b) The function $g$ is defined by \n",
    "\t\t$$ g:x\\mapsto\\frac{1}{x},\\text{for all real non-zero }x.$$\n",
    "\tState whether the composite function $fg$ exists, justifying your answer.\n"
   ]
  },
  {
   "cell_type": "markdown",
   "metadata": {},
   "source": [
    "## Answer\n",
    "- (a) (i) We observe that the graph of $f(x)$ is a one-to-one function as any horizontal line $y=k$, $k\\in \\mathbb{R}$ cuts the graph at most once.\n",
    "\n",
    "<center>\n",
    "\n",
    "Insert picture here.\n",
    "\n",
    "</center>\n",
    "\n",
    "As such, the inverse function exist. Let $y=\\frac{ax}{bx-a}$, we make $x$ the subject"
   ]
  },
  {
   "cell_type": "code",
   "execution_count": 5,
   "metadata": {},
   "outputs": [
    {
     "data": {
      "text/latex": [
       "$\\displaystyle x=\\frac{a y}{- a + b y} $"
      ],
      "text/plain": [
       "<IPython.core.display.Math object>"
      ]
     },
     "metadata": {},
     "output_type": "display_data"
    }
   ],
   "source": [
    "# Modules for algebraic manipulation and pretty printing\n",
    "from sympy import *\n",
    "from IPython.display import Math,display,Latex\n",
    "\n",
    "x, y = symbols('x y')\n",
    "a, b = symbols('a b', real=True)\n",
    "\n",
    "f_inverse = solve((y-(a*x)/(b*x-a)),x)\n",
    "display(Math(f'x={ latex(f_inverse[0])}'))"
   ]
  },
  {
   "cell_type": "markdown",
   "metadata": {},
   "source": [
    "Thus, $f^{-1}(x)=\\frac{a x}{- a + b x}$. From the graph, we see that $R_f = (-\\infty,0) \\cup (0,\\infty)$. Therefore, $D_{f^{-1}} = (-\\infty,0) \\cup (0,\\infty)$ as well."
   ]
  },
  {
   "cell_type": "markdown",
   "metadata": {},
   "source": [
    "- (a) (ii) The smart way is to notice that $f(x)=f^{-1}(x)$ and as such, \n",
    "\n",
    "\\begin{align*}\n",
    "f(x) &= f^{-1}(x)\\\\\n",
    "f(f(x)) &= f(f^{-1}(x))\\\\\n",
    "f^2(x) &= x.\n",
    "\\end{align*}\n",
    "\n",
    "Altenatively, we can brute force it by evaluating the rule of the composite function via the definition given."
   ]
  },
  {
   "cell_type": "code",
   "execution_count": 17,
   "metadata": {},
   "outputs": [
    {
     "name": "stdout",
     "output_type": "stream",
     "text": [
      "Checking the composition of function\n"
     ]
    },
    {
     "data": {
      "text/latex": [
       "$\\displaystyle f^2(x)=\\frac{a^{2} x}{\\left(- a + b x\\right) \\left(\\frac{a b x}{- a + b x} - a\\right)}$"
      ],
      "text/plain": [
       "<IPython.core.display.Math object>"
      ]
     },
     "metadata": {},
     "output_type": "display_data"
    },
    {
     "name": "stdout",
     "output_type": "stream",
     "text": [
      "After simplification\n"
     ]
    },
    {
     "data": {
      "text/latex": [
       "$\\displaystyle f^2(x)=x$"
      ],
      "text/plain": [
       "<IPython.core.display.Math object>"
      ]
     },
     "metadata": {},
     "output_type": "display_data"
    }
   ],
   "source": [
    "from sympy import Function\n",
    "\n",
    "# We need to do the following to define the function f in the question\n",
    "class f(Function):\n",
    "    a, b = symbols('a b', real=True)\n",
    "    @classmethod\n",
    "    def eval(cls, x):\n",
    "        return (a*x)/(b*x-a)\n",
    "\n",
    "print('Checking the composition of function')\n",
    "display(Math(f'f^2(x)={ latex(f(f(x)))}'))\n",
    "print('After simplification')\n",
    "display(Math(f'f^2(x)={ latex(simplify(f(f(x))))}'))"
   ]
  },
  {
   "cell_type": "markdown",
   "metadata": {},
   "source": [
    "Since $f^2(x)=x$ and $D_f=\\mathbb{R}\\backslash\\left\\{ \\frac{a}{b}\\right\\} $, we have $R_f=\\mathbb{R}\\backslash\\left\\{ \\frac{a}{b}\\right\\} $ as well."
   ]
  },
  {
   "cell_type": "markdown",
   "metadata": {},
   "source": [
    "- (a) (iii) We have that "
   ]
  },
  {
   "cell_type": "code",
   "execution_count": 20,
   "metadata": {},
   "outputs": [
    {
     "data": {
      "text/latex": [
       "$\\displaystyle x=0$"
      ],
      "text/plain": [
       "<IPython.core.display.Math object>"
      ]
     },
     "metadata": {},
     "output_type": "display_data"
    },
    {
     "data": {
      "text/latex": [
       "$\\displaystyle x=\\frac{2 a}{b}$"
      ],
      "text/plain": [
       "<IPython.core.display.Math object>"
      ]
     },
     "metadata": {},
     "output_type": "display_data"
    }
   ],
   "source": [
    "from sympy import Function\n",
    "from IPython.display import Math,display,Latex\n",
    "\n",
    "# Note that f_inv has the same rule as f. So, we can reuse the same function\n",
    "class f(Function):\n",
    "    a, b = symbols('a b', real=True)\n",
    "    @classmethod\n",
    "    def eval(cls, x):\n",
    "        return (a*x)/(b*x-a)\n",
    "\n",
    "\n",
    "for x_vals in solve(f(x)-x,x):\n",
    "    display(Math(f'x={ latex(x_vals) }.'))"
   ]
  },
  {
   "cell_type": "markdown",
   "metadata": {},
   "source": [
    "- (b) Observe that the graph of $g$ looks like \n",
    "\n",
    "<center>\n",
    "\n",
    "INSERT PICTURE HERE\n",
    "\n",
    "</center>\n",
    "\n",
    "As such $R_g=\\mathbb{R}\\backslash{0}$. Since $D_f=\\mathbb{R}\\backslash\\left\\{ \\frac{a}{b}\\right\\} $, we have that $R_g \\nsubseteq D_f$ as $\\frac{a}{b}\\in R_g$, but $\\frac{a}{b} \\notin D_f$. Thus, the function $fg$ does not exist."
   ]
  },
  {
   "cell_type": "code",
   "execution_count": 16,
   "metadata": {},
   "outputs": [
    {
     "data": {
      "text/plain": [
       "'x'"
      ]
     },
     "execution_count": 16,
     "metadata": {},
     "output_type": "execute_result"
    }
   ],
   "source": [
    "latex(simplify(f(f(x))))"
   ]
  },
  {
   "cell_type": "code",
   "execution_count": null,
   "metadata": {},
   "outputs": [],
   "source": []
  }
 ],
 "metadata": {
  "interpreter": {
   "hash": "bfb4883d108fc92ac768439090a2e92bb9a1f760a54beeecfd6762b5dcd70fe3"
  },
  "kernelspec": {
   "display_name": "Python 3.10.2 64-bit",
   "language": "python",
   "name": "python3"
  },
  "language_info": {
   "codemirror_mode": {
    "name": "ipython",
    "version": 3
   },
   "file_extension": ".py",
   "mimetype": "text/x-python",
   "name": "python",
   "nbconvert_exporter": "python",
   "pygments_lexer": "ipython3",
   "version": "3.10.2"
  },
  "orig_nbformat": 4
 },
 "nbformat": 4,
 "nbformat_minor": 2
}
