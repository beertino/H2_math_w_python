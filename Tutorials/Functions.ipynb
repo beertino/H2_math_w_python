{
 "cells": [
  {
   "cell_type": "markdown",
   "metadata": {},
   "source": [
    "# Exercise 1 2021/NJC/Functions/Q2 H2 Mathematics\n",
    "For some unknown constants $a$ and $k$, the functions $f$, $g$ and $h$ are defined by \n",
    "$$ f\t:x\\mapsto\\left(2-x\\right)\\left(4+x\\right),\\,x<2,$$\n",
    "$$ g\t:x\\mapsto\\left(2-x\\right)\\left(4+x\\right),\\,x\\leq k,$$\n",
    "$$ h\t:x\\mapsto2^{x^{3}},\\,x\\in\\left(-\\infty,a\\right).$$\n",
    "\n",
    "\n",
    "- (i)\tFind the range of $f$, and show that $f^{-1}$ does not exist.\n",
    "- (ii)\tFind the greatest value of $k$ such that $g^{-1}$  exists. Using this greatest value of $k$, define $g^{-1}$  in a similar form.\n",
    "- (iii)\tFind the range of values of $a$ such that the composite function $fh$ exists."
   ]
  },
  {
   "cell_type": "markdown",
   "metadata": {},
   "source": [
    "## Answer\n",
    "- (i) The graph of $f$ looks like \n",
    "\n",
    "<center>\n",
    "\n",
    "<img src = '.\\img\\function_q1_1.png' width = '480' height ='480'>\n",
    "\n",
    "</center>\n",
    "\n",
    "The maximum turning point is at $(1,9)$. Thus, $R_f=(-\\infty,9]$.\n",
    "\n",
    "The horizontal line $y=1$ passes through the graph twice, thus, the function cannot be one-to-one and consequently, cannot have an inverse. \n",
    "\n",
    "- (ii) From the graph drawn earlier, the greatest value of $k$ for $g^{-1}$ to exist is 1. With the value of $k$, let $y=(2-x)(4+x)$, we make $x$ the subject."
   ]
  },
  {
   "cell_type": "code",
   "execution_count": 4,
   "metadata": {},
   "outputs": [
    {
     "data": {
      "text/latex": [
       "$\\displaystyle x=- \\sqrt{9 - y} - 1$"
      ],
      "text/plain": [
       "<IPython.core.display.Math object>"
      ]
     },
     "metadata": {},
     "output_type": "display_data"
    },
    {
     "data": {
      "text/latex": [
       "$\\displaystyle x=\\sqrt{9 - y} - 1$"
      ],
      "text/plain": [
       "<IPython.core.display.Math object>"
      ]
     },
     "metadata": {},
     "output_type": "display_data"
    }
   ],
   "source": [
    "from sympy import *\n",
    "from h2_math import *\n",
    "\n",
    "# Denote that x is a variable in the expression\n",
    "x = symbols('x')\n",
    "\n",
    "# Defining a function with name f\n",
    "f = make_fn('(2-x)*(4+x)')\n",
    "\n",
    "print_inverse(f)"
   ]
  },
  {
   "cell_type": "markdown",
   "metadata": {},
   "source": [
    "Since $x\\leq k$, $g^{-1}:x\\mapsto -1-\\sqrt{9-x}$."
   ]
  },
  {
   "cell_type": "markdown",
   "metadata": {},
   "source": [
    "- (iii) For $fh$ to exists, we need $R_h\\subseteq D_f$ as such we need to solve $2^{a^3}<2$, so $a< (\\frac{\\ln 9}{\\ln 2})^{\\frac{1}{3}}=1$."
   ]
  },
  {
   "cell_type": "markdown",
   "metadata": {},
   "source": [
    "# Exercise 2 2021/NJC/Functions/Q2 H2 Mathematics\n",
    "The functions $f$ and $g$ are defined by\n",
    "$$ f:x\\mapsto e^{\\left|3-x\\right|},\\,x\\in\\mathbb{R},$$\n",
    "$$ g:x\\mapsto\\left(x-1\\right)^{2}+a,\\,x\\in\\mathbb{R}\\,\\text{and\\,}a\\,\\text{is a positive constant.}$$\n",
    "\n",
    "- (i)\tSketch the graph of $y = f(x)$, and show that $f^{-1}$  does not exist.\t\n",
    "- (ii)\tThe function $f$ has an inverse if its domain is restricted to $x\\geq b$. State the smallest possible value of $b$ and define, in similar form, the inverse function $f^{-1}$  corresponding to this domain for $f$.\n",
    "- (iii)\tUsing the value of $b$ in (ii), find the smallest possible value of $a$ such that the composite function $f^{-1}g$  exists. State the range of $f^{-1}g$  for this value of $a$.\t\n"
   ]
  },
  {
   "cell_type": "markdown",
   "metadata": {},
   "source": [
    "## Answer\n",
    "(i) We have that \n",
    "\n",
    "<center>\n",
    "\n",
    "<img src = '.\\img\\function_q2_1.png' width = '480' height ='480'>\n",
    "\n",
    "</center>\n",
    "\n",
    "The horizontal line $y=2$ passes through the graph twice, thus, the function cannot be one-to-one and consequently, cannot have an inverse. \n",
    "\n",
    "(ii) From the graph, we see that that the smallest possible value of $b$ is 1."
   ]
  },
  {
   "cell_type": "code",
   "execution_count": 5,
   "metadata": {},
   "outputs": [
    {
     "data": {
      "text/latex": [
       "$\\displaystyle x=\\log{\\left(y \\right)} + 3$"
      ],
      "text/plain": [
       "<IPython.core.display.Math object>"
      ]
     },
     "metadata": {},
     "output_type": "display_data"
    }
   ],
   "source": [
    "from sympy import *\n",
    "from h2_math import *\n",
    "\n",
    "# Denote that x is a variable in the expression\n",
    "x = symbols('x')\n",
    "\n",
    "# Defining a function with name f\n",
    "f = make_fn('(exp(1))**(x-3)')\n",
    "\n",
    "print_inverse(f)"
   ]
  },
  {
   "cell_type": "markdown",
   "metadata": {},
   "source": [
    "Thus, $f^{-1}(x)=\\ln(x)+3$."
   ]
  },
  {
   "cell_type": "markdown",
   "metadata": {},
   "source": [
    "- (iii) $f^{-1}g$ exists if $[a,\\infty)=R_g \\subseteq D_{f^{-1}}=R_f=[1,\\infty)$. Therefore, the smallest possible value of $a$ is 1.\n",
    "\n",
    "If $a=1$, $R_g=[1,\\infty)$ and therefore, $R_{f^{-1}g}=[3,\\infty)$ based on the graph drawn in part(i)."
   ]
  },
  {
   "cell_type": "markdown",
   "metadata": {},
   "source": [
    "# Exercise 3 2021/NJC/Functions/Q3 H2 Mathematics\n",
    "It is given that $\\lambda$  is an unknown constant. The functions $f$ and $g$ are defined as follows:\n",
    "$$ f:x\\mapsto\\frac{5-x}{1-x},\\,x\\in\\mathbb{R},x\\neq1,$$\n",
    "$$ g:x\\mapsto2x^{2}+4x+\\lambda,\\,x\\in\\mathbb{R},x>-2.$$\n",
    "\n",
    "- (a) (i) Explain why $f^{-1}$ exists, and show that $f^{-1}(x)=f(x)$.\n",
    "- (a) (ii) Hence, or otherwise, evaluate $f^{51}(4)$, where $f^{n}(x)$ denotes \n",
    "$$ \\underset{n\\,\\text{times}}{\\underbrace{fff\\cdots f}}(x).$$\n",
    "- (b) (i)\tFind the range of values of $\\lambda$ such that $fg$ exists.\n",
    "- (b) (ii)\tGiven that $fg$ exists, find the range of $fg$ in terms of $\\lambda$.\n"
   ]
  },
  {
   "cell_type": "markdown",
   "metadata": {},
   "source": [
    "## Answer\n",
    "- (a) (i) We observe that the graph of $f(x)$ is a one-to-one function as any horizontal line $y=k$, $k\\in \\mathbb{R}$ cuts the graph at most once.\n",
    "\n",
    "<center>\n",
    "\n",
    "<img src = '.\\img\\function_q3_1.png' width = '480' height ='480'>\n",
    "\n",
    "</center>\n",
    "\n",
    "As such, the inverse function exist. Let $y=\\frac{5-x}{1-x}$, we make $x$ the subject"
   ]
  },
  {
   "cell_type": "code",
   "execution_count": 6,
   "metadata": {},
   "outputs": [
    {
     "data": {
      "text/latex": [
       "$\\displaystyle x=\\frac{y - 5}{y - 1}$"
      ],
      "text/plain": [
       "<IPython.core.display.Math object>"
      ]
     },
     "metadata": {},
     "output_type": "display_data"
    }
   ],
   "source": [
    "from sympy import *\n",
    "from h2_math import *\n",
    "\n",
    "# Denote that x is a variable in the expression\n",
    "x = symbols('x')\n",
    "\n",
    "# Defining a function with name f\n",
    "f = make_fn('(5-x)/(1-x)')\n",
    "\n",
    "print_inverse(f)\n"
   ]
  },
  {
   "cell_type": "markdown",
   "metadata": {},
   "source": [
    "Thus, $f^{-1}(x)=\\frac{x-5}{x-1}=f(x)$."
   ]
  },
  {
   "cell_type": "markdown",
   "metadata": {},
   "source": [
    "- (a) (ii) From part (i), we see that $f^2(x)=x$, which further implies that $f^51(x) =f^{{50}}(f(x))=f(x)=\\frac{5-x}{1-x}$. As such, $$f^{{51}}(4)=\\frac{5-4}{1-4}=-\\frac{1}{3}.$$\n",
    "\n",
    "We verify our solution by bruteforcing our way to get the composite function."
   ]
  },
  {
   "cell_type": "code",
   "execution_count": 7,
   "metadata": {},
   "outputs": [
    {
     "name": "stdout",
     "output_type": "stream",
     "text": [
      "Checking the composition of function\n"
     ]
    },
    {
     "data": {
      "text/latex": [
       "$\\displaystyle f^{51}(x)=\\frac{x - 5}{x - 1}$"
      ],
      "text/plain": [
       "<IPython.core.display.Math object>"
      ]
     },
     "metadata": {},
     "output_type": "display_data"
    },
    {
     "name": "stdout",
     "output_type": "stream",
     "text": [
      "Evaluating at x=4\n"
     ]
    },
    {
     "data": {
      "text/latex": [
       "$\\displaystyle f^{51}(4)=- \\frac{1}{3}$"
      ],
      "text/plain": [
       "<IPython.core.display.Math object>"
      ]
     },
     "metadata": {},
     "output_type": "display_data"
    }
   ],
   "source": [
    "from sympy import *\n",
    "from h2_math import *\n",
    "\n",
    "x = symbols('x')\n",
    "\n",
    "# Defining a function with name f\n",
    "f = make_fn('(5-x)/(1-x)')\n",
    "\n",
    "print('Checking the composition of function')\n",
    "display(Math(f'f^{{51}}(x)={ latex(self_compose(f,51))}'))\n",
    "\n",
    "print('Evaluating at x=4')\n",
    "# We use .subs() method to do the substitution and evaluate them\n",
    "display(Math(f'f^{{51}}(4)={ latex(self_compose(f,51).subs(x,4))}'))"
   ]
  },
  {
   "cell_type": "markdown",
   "metadata": {},
   "source": [
    "- (b) (i) $fg$ exists when $R_g \\subseteq D_f$. First, we note that by completing square $g(x)=2\\left(x+1\\right)^{2}+\\left(\\lambda-2\\right)$ with minimum turning point point at $x=-1>-2$. \n",
    "\n",
    "<center>\n",
    "\n",
    "<img src = '.\\img\\function_q3_2.png' width = '480' height ='480'>\n",
    "\n",
    "</center>\n",
    "\n",
    "As such, $R_g=[\\lambda -2,\\infty)$. Thus, for $R_g$ to be a subset of $D_f$, we would then require \n",
    "\n",
    "\\begin{align*}\n",
    "\\lambda - 2 &> 1\\\\\n",
    "\\lambda &>3.\n",
    "\\end{align*}"
   ]
  },
  {
   "cell_type": "markdown",
   "metadata": {},
   "source": [
    "- (b) (ii) We note that for $x>1$, if $x_0<x_1$, $f(x_0)<f(x_1)$ and $f(x)<1$ as $x=1$ is a vertical asympotote of $f$. Therefore, \n",
    "\n",
    "\\begin{align*}\n",
    "R_{fg} &= [f(\\lambda - 2),1)\\\\\n",
    "&= [\\frac{\\lambda - 7}{\\lambda -3},1).\n",
    "\\end{align*}"
   ]
  },
  {
   "cell_type": "markdown",
   "metadata": {},
   "source": [
    "# Exercise 4 2021/NJC/Functions/Q4 H2 Mathematics\n",
    "The function $f$ is defined by\n",
    "$$f:x\\mapsto\\frac{ax}{bx-a},\\,x\\in\\mathbb{R},x\\neq\\frac{a}{b},$$\n",
    "\n",
    "where $a$ and $b$ are non-zero constants. \n",
    "\n",
    "- (a) (i)\tDetermine if $f^{-1}$  exists. If yes, find $f^{-1}(x)$.  \n",
    "- (a) (ii)\tHence, or otherwise, find the rule of the composite function, $f^2(x)$  and state the range of $f^2$.\n",
    "- (a) (iii)\tSolve the equation $f^{-1}(x)=x$.\n",
    "\n",
    "- (b) The function $g$ is defined by \n",
    "\t\t$$ g:x\\mapsto\\frac{1}{x},\\text{for all real non-zero }x.$$\n",
    "\tState whether the composite function $fg$ exists, justifying your answer.\n"
   ]
  },
  {
   "cell_type": "markdown",
   "metadata": {},
   "source": [
    "## Answer\n",
    "- (a) (i) We observe that the graph of $f(x)$ is a one-to-one function as any horizontal line $y=k$, $k\\in \\mathbb{R}$ cuts the graph at most once.\n",
    "\n",
    "<center>\n",
    "\n",
    "<img src = '.\\img\\function_q3_1.png' width = '480' height ='480'>\n",
    "\n",
    "</center>\n",
    "\n",
    "As such, the inverse function exist. Let $y=\\frac{ax}{bx-a}$, we make $x$ the subject"
   ]
  },
  {
   "cell_type": "code",
   "execution_count": 9,
   "metadata": {},
   "outputs": [
    {
     "data": {
      "text/latex": [
       "$\\displaystyle x=\\frac{a y}{- a + b y}$"
      ],
      "text/plain": [
       "<IPython.core.display.Math object>"
      ]
     },
     "metadata": {},
     "output_type": "display_data"
    }
   ],
   "source": [
    "# Modules for algebraic manipulation and pretty printing\n",
    "from sympy import *\n",
    "from h2_math import *\n",
    "\n",
    "# Denote that x is a variable in the expression\n",
    "x = symbols('x')\n",
    "\n",
    "# Since we have more symbols beyond x in our expression\n",
    "# We also need to represent the real numbers a and b symbolically\n",
    "a, b = symbols('a b', real=True)\n",
    "\n",
    "# Defining a function with name f\n",
    "class f(Function):\n",
    "    @classmethod\n",
    "    def eval(cls, x):\n",
    "        # Return the rule of the function \n",
    "        return (a*x)/(b*x-a)\n",
    "\n",
    "print_inverse(f)"
   ]
  },
  {
   "cell_type": "markdown",
   "metadata": {},
   "source": [
    "Thus, $f^{-1}(x)=\\frac{a x}{- a + b x}$. From the graph, we see that $R_f = (-\\infty,0) \\cup (0,\\infty)$. Therefore, $D_{f^{-1}} = (-\\infty,0) \\cup (0,\\infty)$ as well."
   ]
  },
  {
   "cell_type": "markdown",
   "metadata": {},
   "source": [
    "- (a) (ii) The smart way is to notice that $f(x)=f^{-1}(x)$ and as such, \n",
    "\n",
    "\\begin{align*}\n",
    "f(x) &= f^{-1}(x)\\\\\n",
    "f(f(x)) &= f(f^{-1}(x))\\\\\n",
    "f^2(x) &= x.\n",
    "\\end{align*}\n",
    "\n",
    "Altenatively, we can brute force it by evaluating the rule of the composite function via the definition given."
   ]
  },
  {
   "cell_type": "code",
   "execution_count": 1,
   "metadata": {},
   "outputs": [
    {
     "name": "stdout",
     "output_type": "stream",
     "text": [
      "Checking the composition of function\n"
     ]
    },
    {
     "data": {
      "text/latex": [
       "$\\displaystyle f^2(x)=\\frac{a^{2} x}{\\left(- a + b x\\right) \\left(\\frac{a b x}{- a + b x} - a\\right)}$"
      ],
      "text/plain": [
       "<IPython.core.display.Math object>"
      ]
     },
     "metadata": {},
     "output_type": "display_data"
    },
    {
     "name": "stdout",
     "output_type": "stream",
     "text": [
      "After simplification\n"
     ]
    },
    {
     "data": {
      "text/latex": [
       "$\\displaystyle f^2(x)=x$"
      ],
      "text/plain": [
       "<IPython.core.display.Math object>"
      ]
     },
     "metadata": {},
     "output_type": "display_data"
    }
   ],
   "source": [
    "# Modules for algebraic manipulation and pretty printing\n",
    "from sympy import *\n",
    "from h2_math import *\n",
    "\n",
    "# Denote that x is a variable in the expression\n",
    "x = symbols('x')\n",
    "\n",
    "# We also need to represent the real numbers a and b symbolically\n",
    "a, b = symbols('a b', real=True)\n",
    "\n",
    "# Defining a function with name f\n",
    "class f(Function):\n",
    "    @classmethod\n",
    "    def eval(cls, x):\n",
    "        # Return the rule of the function \n",
    "        return (a*x)/(b*x-a)\n",
    "\n",
    "print('Checking the composition of function')\n",
    "display(Math(f'f^2(x)={ latex(self_compose(f,2,simp=False))}'))\n",
    "\n",
    "print('After simplification')\n",
    "display(Math(f'f^2(x)={ latex(self_compose(f,2))}'))"
   ]
  },
  {
   "cell_type": "markdown",
   "metadata": {},
   "source": [
    "Since $f^2(x)=x$ and $D_f=\\mathbb{R}\\backslash\\left\\{ \\frac{a}{b}\\right\\} $, we have $R_f=\\mathbb{R}\\backslash\\left\\{ \\frac{a}{b}\\right\\} $ as well."
   ]
  },
  {
   "cell_type": "markdown",
   "metadata": {},
   "source": [
    "- (a) (iii) We have that "
   ]
  },
  {
   "cell_type": "code",
   "execution_count": 2,
   "metadata": {},
   "outputs": [
    {
     "data": {
      "text/latex": [
       "$\\displaystyle x=0.$"
      ],
      "text/plain": [
       "<IPython.core.display.Math object>"
      ]
     },
     "metadata": {},
     "output_type": "display_data"
    },
    {
     "data": {
      "text/latex": [
       "$\\displaystyle x=\\frac{2 a}{b}.$"
      ],
      "text/plain": [
       "<IPython.core.display.Math object>"
      ]
     },
     "metadata": {},
     "output_type": "display_data"
    }
   ],
   "source": [
    "from sympy import *\n",
    "from h2_math import *\n",
    "\n",
    "# Denote that x is a variable in the expression\n",
    "x = symbols('x')\n",
    "\n",
    "# We also need to represent the real numbers a and b symbolically\n",
    "a, b = symbols('a b', real=True)\n",
    "\n",
    "# Defining a function with name f\n",
    "class f(Function):\n",
    "    @classmethod\n",
    "    def eval(cls, x):\n",
    "        # Return the rule of the function \n",
    "        return (a*x)/(b*x-a)\n",
    "\n",
    "for x_vals in solve(f(x)-x,x):\n",
    "    display(Math(f'x={ latex(x_vals) }.'))"
   ]
  },
  {
   "cell_type": "markdown",
   "metadata": {},
   "source": [
    "- (b) Observe that the graph of $g$ looks like \n",
    "\n",
    "<center>\n",
    "\n",
    "<img src = '.\\img\\function_q4_1.png' width = '480' height ='480'>\n",
    "\n",
    "</center>\n",
    "\n",
    "As such $R_g=\\mathbb{R}\\backslash{0}$. Since $D_f=\\mathbb{R}\\backslash\\left\\{ \\frac{a}{b}\\right\\} $, we have that $R_g \\nsubseteq D_f$ as $\\frac{a}{b}\\in R_g$, but $\\frac{a}{b} \\notin D_f$. Thus, the function $fg$ does not exist."
   ]
  },
  {
   "cell_type": "markdown",
   "metadata": {},
   "source": [
    "## Exercise 5 2021/NJC/Functions/Q4 H2 Mathematics\n",
    "\n",
    "It is given that\n",
    "\n",
    "$$f\\left(x\\right)=\\left|\\frac{x-2a}{2}\\right|\\,\\text{for}\\,0\\leq x<4a,\\,\\text{where }a\\,\\text{is a positive constant,}$$\n",
    "\n",
    "and that $f(x)=f(x+4a)$ for all real values of $x$.\n",
    "\n",
    "- **(i)**\tFind the values of $f(-5a)$ and $f(8a)$ in terms of $a$.\n",
    "- **(ii)**\tSketch the graph of $y=f(x)$ for $-6a\\leq x\\leq 10a$.\n",
    "- **(iii)**\tHence or otherwise, find the exact value of ${\\displaystyle \\int_{-6a}^{10a}f\\left(x\\right)\\,dx}$  in terms of $a$. \n"
   ]
  },
  {
   "cell_type": "markdown",
   "metadata": {},
   "source": [
    "### Answer\n",
    "- (i) Since $f(x) = f(x+4a)$ and $a$ is a positive constant, we have that\n",
    "$$\\begin{align*}\n",
    "f(-5a) &= f(-a) \\\\\n",
    "    &= f(3a) \\\\\n",
    "    &= \\left|\\frac{3a-2a}{2}\\right| \\\\\n",
    "    &=\\left|\\frac{a}{2}\\right| \\\\\n",
    "    &=\\frac{a}{2} \\\\\n",
    "f(8a) &= f(4a) \\\\\n",
    "    &= f(0) \\\\\n",
    "    &= \\left|\\frac{0-2a}{2}\\right| \\\\\n",
    "    &=\\left|\\frac{-2a}{2}\\right| \\\\\n",
    "    &=\\left|a\\right| \\\\\n",
    "    &=a \\\\\n",
    "\\end{align*}$$"
   ]
  },
  {
   "cell_type": "markdown",
   "metadata": {},
   "source": [
    "- (ii) The graph looks like\n",
    "\n",
    "    <center>\n",
    "\n",
    "    <img src = '.\\img\\function_q5_1.png' width = '768' height ='240'>\n",
    "\n",
    "    </center>"
   ]
  },
  {
   "cell_type": "markdown",
   "metadata": {},
   "source": [
    "- (iii) From the graph above, we can easily see that that ${\\displaystyle \\int_{-6a}^{10a}f\\left(x\\right)\\,dx}$ is \n",
    "    $$\\begin{align}\n",
    "    \t4\\left(\\frac{1}{2}\\left(2a-\\left(-2\\right)\\right)\\left(a\\right)\\right) = 8a^{2}.\n",
    "    \\end{align}$$"
   ]
  },
  {
   "cell_type": "markdown",
   "metadata": {},
   "source": [
    "# Exercise 6 2021/NJC/Functions/Q4 H2 Mathematics\n",
    "The function $f$ is defined as\n",
    "$$ f:x\\mapsto x^2-\\lambda x+3, x\\in \\mathbb{R},$$\n",
    "\n",
    "where $\\lambda$ is a non-zero constant.\n",
    "- **(i)** Find the range of $f$, giving your answer in terms of $\\lambda$.\t\n",
    "\n",
    "The function $f$ has an inverse function if its domain is restricted to $x\\leq k$. \n",
    "- **(ii)** State the greatest value of $k$ in terms of $\\lambda$.  \n",
    "\n",
    "Using the result in **(ii)** for the case $\\lambda=4$,\n",
    "\n",
    "- **(iii)**\tsketch, on the same diagram, the graphs of $y=f(x)$ and $y=f^{-1}(x)$, illustrating clearly the relationship between the two graphs, and labelling the axial intercept(s), if any.\n",
    "- **(iv)** Find the exact solution of $f(x)=f^{-1}(x)$."
   ]
  },
  {
   "cell_type": "markdown",
   "metadata": {},
   "source": [
    "- (i) By completing the square, we see that \n",
    "    $$ \\begin{align*}\n",
    "    x^2-\\lambda x+3 &= \\left(x-\\frac{\\lambda}{2}\\right)^{2}+3-\\left(\\frac{\\lambda}{2}\\right)^{2} \\\\\n",
    "                    &\\geq 3-\\frac{\\lambda^2}{4}.\n",
    "    \\end{align*}$$ \n",
    "    Therefore, $R_f=[3-\\frac{\\lambda^2}{4},\\infty)$.\n",
    "- (ii) Since $f$ is a quadratic function with only one minimum turning point in the domain (\\mathbb{R}) at $x=\\frac{\\lambda}{2}$, $k=\\frac{\\lambda}.{2}$.\n",
    "- (iii) The graphs is given below.\n",
    "    <center>\n",
    "\n",
    "    <img src = '.\\img\\function_q6_1.png' width = '400'>\n",
    "\n",
    "    </center>\n",
    "- (iv) We see that the solution to $f\\left(x\\right)=f^{-1}(x)$ is also a solution $f(x)=x$ (observe the graph). Thus, we have that"
   ]
  },
  {
   "cell_type": "code",
   "execution_count": 11,
   "metadata": {},
   "outputs": [
    {
     "data": {
      "text/latex": [
       "$\\displaystyle x=\\frac{5}{2} - \\frac{\\sqrt{13}}{2}.$"
      ],
      "text/plain": [
       "<IPython.core.display.Math object>"
      ]
     },
     "metadata": {},
     "output_type": "display_data"
    },
    {
     "data": {
      "text/latex": [
       "$\\displaystyle x=\\frac{\\sqrt{13}}{2} + \\frac{5}{2}.$"
      ],
      "text/plain": [
       "<IPython.core.display.Math object>"
      ]
     },
     "metadata": {},
     "output_type": "display_data"
    }
   ],
   "source": [
    "from sympy import *\n",
    "from h2_math import *\n",
    "\n",
    "# Denote that x is a variable in the expression\n",
    "x = symbols('x')\n",
    "\n",
    "# Defining a function with name f\n",
    "f = make_fn('x**2-4*x+3')\n",
    "\n",
    "for x_vals in solve(f(x)-x,x):\n",
    "    # The next line is for use in Markdown\n",
    "    # print(latex(x_vals)) \n",
    "    display(Math(f'x={ latex(x_vals) }.'))"
   ]
  },
  {
   "cell_type": "markdown",
   "metadata": {},
   "source": [
    "Since $x \\leq \\frac{\\lambda}{2}=\\frac{4}{2}=2$, we have that $x= \\frac{5}{2} - \\frac{\\sqrt{13}}{2}$."
   ]
  },
  {
   "cell_type": "markdown",
   "metadata": {},
   "source": [
    "# Exercise 7 2021/NJC/Functions/Q7 H2 Mathematics\n",
    "The function $f$ is defined by \n",
    "$$f:x\\mapsto (7+x)(1-x)-15, x\\in [-2,\\infty).$$\n",
    " \n",
    "- (i)\tShow that $f^{-1}$ exists, and find its domain.\n",
    "- (ii)\tSketch, on the same diagram, the graphs of \n",
    "\t$$y =f(x), y=f^{-1}(x) \\text{ and } y=f^{-1}f(x),$$\n",
    "\tshowing clearly the relationship between the graphs.\n",
    "- (iii)\tHence find the exact solution of $f^{-1}f(x)\\leq f(x)$.\t"
   ]
  },
  {
   "cell_type": "markdown",
   "metadata": {},
   "source": [
    "### Solution\n",
    "- (i) From the following sketch of the graph of $y=f(x)$, any horizontal line intersects the graph of $y=f(x)$ at most once. Thus the function $f$ is one-one. It follows that $f^{-1}$ exists. Note that $D_{f^{-1}}=R_f=(-\\infty,0]$.\n",
    "    <center>\n",
    "\n",
    "    <img src = '.\\img\\function_q7_1.png' width = '400'>\n",
    "\n",
    "    </center>\n",
    "- (ii) We have\n",
    "    <center>\n",
    "\n",
    "    <img src = '.\\img\\function_q7_2.png' width = '400'>\n",
    "\n",
    "    </center>\n",
    "\n",
    "- (iii) From the graph in (ii), we observe that the solution to $f^{-1}f(x)\\leq f(x)$  is in the form $-2\\leq x\\leq k$  where $k$ is the $x$-coordinate of the point of intersection of the three curves: $y=f(x)$, $y=f^{-1}(x)$ and $y=f^{-1}f(x)=x$.  \n",
    "    Solving $f(x)=x$ for $k$:"
   ]
  },
  {
   "cell_type": "code",
   "execution_count": 12,
   "metadata": {},
   "outputs": [
    {
     "data": {
      "text/latex": [
       "$\\displaystyle x=- \\frac{7}{2} - \\frac{\\sqrt{17}}{2}.$"
      ],
      "text/plain": [
       "<IPython.core.display.Math object>"
      ]
     },
     "metadata": {},
     "output_type": "display_data"
    },
    {
     "data": {
      "text/latex": [
       "$\\displaystyle x=- \\frac{7}{2} + \\frac{\\sqrt{17}}{2}.$"
      ],
      "text/plain": [
       "<IPython.core.display.Math object>"
      ]
     },
     "metadata": {},
     "output_type": "display_data"
    }
   ],
   "source": [
    "from sympy import *\n",
    "from h2_math import *\n",
    "\n",
    "# Denote that x is a variable in the expression\n",
    "x = symbols('x')\n",
    "\n",
    "# Defining a function with name f\n",
    "f = make_fn('(7+x)*(1-x)-15')\n",
    "\n",
    "for x_vals in solve(f(x)-x,x):\n",
    "    # The next line is for use in Markdown\n",
    "    # print(latex(x_vals)) \n",
    "    display(Math(f'x={ latex(x_vals) }.'))"
   ]
  },
  {
   "cell_type": "markdown",
   "metadata": {},
   "source": [
    "Since $-2\\leq x$, $k=- \\frac{7}{2} + \\frac{\\sqrt{17}}{2}$. As such, $-2\\leq x \\leq - \\frac{7}{2} + \\frac{\\sqrt{17}}{2}$."
   ]
  },
  {
   "cell_type": "markdown",
   "metadata": {},
   "source": [
    "# Exercise 8 2021/NJC/Functions/Q8 H2 Mathematics\n",
    "The functions $f$ and $g$ are defined by \n",
    "$$\\begin{align*}\n",
    "f\t:x &\\mapsto\\frac{3x}{x+2},\\ &,x>-2\\\\\n",
    "g\t:x &\\mapsto x^{2}+1,\\ &,x\\leq5 \n",
    "\\end{align*}$$\n",
    "\n",
    "Sketch, on separate diagrams, the graph of $y=f(x)$ and $y=g(x)$. \n",
    "\n",
    "Determine, whether each of the following composite functions exists:\n",
    "- (a) $fg$\n",
    "- (b) $gf$ \n",
    "\n",
    "If any of the functions exists, then find its rule, domain and range.\t\n"
   ]
  },
  {
   "cell_type": "markdown",
   "metadata": {},
   "source": [
    "### Solution\n",
    "We have the graphs \n",
    "\n",
    "<center>\n",
    "\n",
    "<img src = '.\\img\\function_q8_1.png' width = '682'>\n",
    "\n",
    "</center>\n",
    "\n",
    "- (a) From the graphs above, we see that $R_g=[1,\\infty)$ and $D_f=(-2,\\infty)$. As $R_g \\subseteq D_f$, $fg$ exists. The composition is given by "
   ]
  },
  {
   "cell_type": "code",
   "execution_count": 14,
   "metadata": {},
   "outputs": [
    {
     "name": "stdout",
     "output_type": "stream",
     "text": [
      "The rule of fg\n"
     ]
    },
    {
     "data": {
      "text/latex": [
       "$\\displaystyle fg(x)=\\frac{3 x^{2} + 3}{x^{2} + 3}$"
      ],
      "text/plain": [
       "<IPython.core.display.Math object>"
      ]
     },
     "metadata": {},
     "output_type": "display_data"
    }
   ],
   "source": [
    "from sympy import *\n",
    "from h2_math import *\n",
    "\n",
    "# Defining the symbol for the parameters/arguments/input of the functions f,g\n",
    "x = symbols('x')\n",
    "\n",
    "# Defining functions f and g\n",
    "f = make_fn('(3*x)/(x+2)')\n",
    "g = make_fn('x**2+1')\n",
    "\n",
    "print('The rule of fg')\n",
    "#Compose f(g(x)) \n",
    "display(Math(f'fg(x)={ latex(f(g(x)))}'))\n",
    "\n",
    "# print(latex(f(g(x)))) For Markdown use"
   ]
  },
  {
   "cell_type": "markdown",
   "metadata": {},
   "source": [
    "By definition, $D_{fg}=D_g=(-\\infty,5]$. \n",
    "To find the range, observe that $y=f(x)$ is an increasing function, i.e as $x_1\\leq x_2$, we have $f(x_1)\\leq f(x_2)$. As such, as $R_g=[1,\\infty)$, we have $R_{fg}=[1,3)$."
   ]
  },
  {
   "cell_type": "markdown",
   "metadata": {},
   "source": [
    "- (b) Similarly, from the graphs above, we see that $R_f=[-\\infty,3)$ and $D_f=(-\\infty,5)$. As $R_f \\subseteq D_g$, $gf$ exists. The composition is given by "
   ]
  },
  {
   "cell_type": "code",
   "execution_count": 15,
   "metadata": {},
   "outputs": [
    {
     "name": "stdout",
     "output_type": "stream",
     "text": [
      "The rule of gf\n"
     ]
    },
    {
     "data": {
      "text/latex": [
       "$\\displaystyle gf(x)=\\frac{9 x^{2}}{\\left(x + 2\\right)^{2}} + 1$"
      ],
      "text/plain": [
       "<IPython.core.display.Math object>"
      ]
     },
     "metadata": {},
     "output_type": "display_data"
    }
   ],
   "source": [
    "from sympy import *\n",
    "from h2_math import *\n",
    "\n",
    "# Defining the symbol for the parameters/arguments/input of the functions f,g\n",
    "x = symbols('x')\n",
    "\n",
    "# Defining functions f and g\n",
    "f = make_fn('(3*x)/(x+2)')\n",
    "g = make_fn('x**2+1')\n",
    "\n",
    "print('The rule of gf')\n",
    "#Compose g(f(x)) \n",
    "display(Math(f'gf(x)={ latex(g(f(x)))}'))\n",
    "\n",
    "#print(latex(g(f(x)))) #For Markdown use"
   ]
  },
  {
   "cell_type": "markdown",
   "metadata": {},
   "source": [
    "By definition, $D_{gf}=D_f=(-2,\\infty]$. \n",
    "Unlike part (i), we can't $g$ isn't an increasing function (it has a local minimum turning point). As such, to find the range, we can just sketch the graph $gf$ with the domain $D_{gf}$ mentioned above. Observe that from the graph, $R_{gf}=[1,\\infty)$.\n",
    "\n",
    "<center>\n",
    "\n",
    "<img src = '.\\img\\function_q8_2.png' width = '400'>\n",
    "\n",
    "</center>"
   ]
  },
  {
   "cell_type": "markdown",
   "metadata": {},
   "source": [
    "# Exercise 9 2021/NJC/Functions/Q9 H2 Mathematics\n",
    "The functions $f$ and $g$ are defined by\n",
    "$$\\begin{align*}\n",
    "f\t:x &\\mapsto\\frac{2}{x^{2}+1},\\,x\\leq k\\,\\text{ and }k\\,\\text{ is an unknown constant}, \\\\\n",
    "g\t:x &\\mapsto\\frac{1}{x-1},\\,x\\in[2,\\infty)\n",
    "\\end{align*}$$\n",
    "\n",
    "\n",
    "It is given that $f^{-1}$ exists. State the largest value of $k$, and use this value to\n",
    "\n",
    "- (i)\tdefine $f^{-1}$ and\n",
    "- (ii)\tshow that the composite function $f^{-1}g$ exists. Also, find its range.\n"
   ]
  },
  {
   "cell_type": "markdown",
   "metadata": {},
   "source": [
    "### Solution\n",
    "\n",
    "We see that the graph of $y=\\frac{2}{x^2+1}$ on the whole real number line looks like. \n",
    "<center>\n",
    "\n",
    "<img src = '.\\img\\function_q9_1.png' width = '400'>\n",
    "\n",
    "</center>\n",
    "\n",
    "As such, if we want $f^{-1}$ to exists and $x\\leq k$, then the largest value of $k$ is $0$.\n",
    "\n",
    "- (i)"
   ]
  },
  {
   "cell_type": "code",
   "execution_count": 16,
   "metadata": {},
   "outputs": [
    {
     "data": {
      "text/latex": [
       "$\\displaystyle x=\\sqrt{\\frac{2 - y}{y}}$"
      ],
      "text/plain": [
       "<IPython.core.display.Math object>"
      ]
     },
     "metadata": {},
     "output_type": "display_data"
    },
    {
     "data": {
      "text/latex": [
       "$\\displaystyle x=- \\sqrt{- \\frac{y - 2}{y}}$"
      ],
      "text/plain": [
       "<IPython.core.display.Math object>"
      ]
     },
     "metadata": {},
     "output_type": "display_data"
    }
   ],
   "source": [
    "from sympy import *\n",
    "from h2_math import *\n",
    "\n",
    "# Denote that x is a variable in the expression\n",
    "x = symbols('x')\n",
    "\n",
    "# Defining a function with name f\n",
    "f = make_fn('2/(x**2+1)')\n",
    "\n",
    "print_inverse(f)"
   ]
  },
  {
   "cell_type": "markdown",
   "metadata": {},
   "source": [
    "As $x\\leq k = 0$, we have that $f^{-1}(x)=-\\sqrt{-\\frac{x-2}{x}}$, $D_f=(-\\infty,0]$.\n",
    "\n",
    "- (ii) We see that the graph of $y=g(x)$ is given below\n",
    "\n",
    "    <center>\n",
    "\n",
    "    <img src = '.\\img\\function_q9_2.png' width = '400'>\n",
    "\n",
    "    </center>\n",
    "    \n",
    "    We have that $R_g=(0,1] \\subseteq D_{f^{-1}}=R_f=(0,2]$. As such $f^{-1}g$ exists.\n",
    "\n",
    "    To find the range of $f^{-1}g$, we plot the graph of $y=f^{-1}g(x)$ with $D_{f^{-1}g}=D_g=[2,\\infty)$."
   ]
  },
  {
   "cell_type": "code",
   "execution_count": 18,
   "metadata": {},
   "outputs": [
    {
     "name": "stdout",
     "output_type": "stream",
     "text": [
      "The rule of f^{-1}g\n"
     ]
    },
    {
     "data": {
      "text/latex": [
       "$\\displaystyle f^{-1}g(x)=- \\sqrt{2 x - 3}$"
      ],
      "text/plain": [
       "<IPython.core.display.Math object>"
      ]
     },
     "metadata": {},
     "output_type": "display_data"
    }
   ],
   "source": [
    "from sympy import *\n",
    "from h2_math import *\n",
    "\n",
    "# Defining the symbol for the parameters/arguments/input of the functions f,g\n",
    "x = symbols('x')\n",
    "\n",
    "# Defining functions f and g\n",
    "f_inv = make_fn('-sqrt((2-x)/x)')\n",
    "g = make_fn('1/(x-1)')\n",
    "\n",
    "print('The rule of f^{-1}g')\n",
    "#Compose g(f(x)) \n",
    "display(Math(f'f^{{-1}}g(x)={ latex(simplify(f_inv(g(x))))}'))\n",
    "\n",
    "#print(latex(g(f(x)))) #For Markdown use"
   ]
  },
  {
   "cell_type": "markdown",
   "metadata": {},
   "source": [
    "The graph look like \n",
    "\n",
    "<center>\n",
    "\n",
    "<img src = '.\\img\\function_q9_3.png' width = '400'>\n",
    "\n",
    "</center>\n",
    "\n",
    "As such, $R_{f^{-1}g}=(-\\infty,-1]$."
   ]
  },
  {
   "cell_type": "markdown",
   "metadata": {},
   "source": [
    "# Exercise 10 2021/NJC/Functions/Q10 H2 Mathematics\n",
    "The function $f$ is defined by\n",
    "$$f:x\\mapsto x^2-4x+1, x\\leq a \\text{ and }a \\text{ is an unknown constant}.$$\n",
    "\n",
    "- (i)\tFind the largest value of $a$ for which $f^{-1}$ exists, and define $f^{-1}$ for this case.\n",
    "- (ii)\tUsing the value of $a$ in (i), sketch, on the same the diagram, the graphs of $$y=f(x), y=f^{-1}(x) \\text{ and } ff^{-1}(x).$$\n",
    "    Hence solve $f(x)=f^{-1}(x)$, leaving your answer in exact form."
   ]
  },
  {
   "cell_type": "markdown",
   "metadata": {},
   "source": [
    "### Solution\n",
    "- (i) By completing the square, we see that \n",
    "    $$ \\begin{align*}\n",
    "    x^2- 4x+1 &= \\left(x-2\\right)^{2}+1-\\left(2)^{2}\\right) \\\\\n",
    "              &= \\left(x-2\\right)^{2}-3 \\\\\n",
    "                    &\\geq -3.\n",
    "    \\end{align*}$$ \n",
    "     Since $f$ is a quadratic function with only one minimum turning point in the $\\mathbb{R}$ at $x=2$, $a=2$.\n",
    "\n",
    "    Next, we find the rule of $f^{-1}$."
   ]
  },
  {
   "cell_type": "code",
   "execution_count": 19,
   "metadata": {},
   "outputs": [
    {
     "data": {
      "text/latex": [
       "$\\displaystyle x=2 - \\sqrt{y + 3}$"
      ],
      "text/plain": [
       "<IPython.core.display.Math object>"
      ]
     },
     "metadata": {},
     "output_type": "display_data"
    },
    {
     "data": {
      "text/latex": [
       "$\\displaystyle x=\\sqrt{y + 3} + 2$"
      ],
      "text/plain": [
       "<IPython.core.display.Math object>"
      ]
     },
     "metadata": {},
     "output_type": "display_data"
    }
   ],
   "source": [
    "from sympy import *\n",
    "from h2_math import *\n",
    "\n",
    "# Denote that x is a variable in the expression\n",
    "x = symbols('x')\n",
    "\n",
    "# Defining a function with name f\n",
    "f = make_fn('x**2-4*x+1')\n",
    "\n",
    "print_inverse(f)"
   ]
  },
  {
   "cell_type": "markdown",
   "metadata": {},
   "source": [
    "As $x\\leq 2$, $f^{-1}(x)=2-\\sqrt{x+3}$ with $D_{f^{-1}}=R_f=[-3,\\infty)$."
   ]
  },
  {
   "cell_type": "markdown",
   "metadata": {},
   "source": [
    "- (ii) The graphs are given below\n",
    "    <center>\n",
    "\n",
    "    <img src = '.\\img\\function_q10_1.png' width = '400'>\n",
    "\n",
    "    </center>"
   ]
  },
  {
   "cell_type": "markdown",
   "metadata": {},
   "source": [
    " We see that the solution to $f\\left(x\\right)=f^{-1}(x)$ is also a solution $f(x)=x$ (observe the graph). Thus, we have that"
   ]
  },
  {
   "cell_type": "code",
   "execution_count": 20,
   "metadata": {},
   "outputs": [
    {
     "data": {
      "text/latex": [
       "$\\displaystyle x=\\frac{5}{2} - \\frac{\\sqrt{21}}{2}.$"
      ],
      "text/plain": [
       "<IPython.core.display.Math object>"
      ]
     },
     "metadata": {},
     "output_type": "display_data"
    },
    {
     "data": {
      "text/latex": [
       "$\\displaystyle x=\\frac{\\sqrt{21}}{2} + \\frac{5}{2}.$"
      ],
      "text/plain": [
       "<IPython.core.display.Math object>"
      ]
     },
     "metadata": {},
     "output_type": "display_data"
    }
   ],
   "source": [
    "from sympy import *\n",
    "from h2_math import *\n",
    "\n",
    "# Denote that x is a variable in the expression\n",
    "x = symbols('x')\n",
    "\n",
    "# Defining a function with name f\n",
    "f = make_fn('x**2-4*x+1')\n",
    "\n",
    "for x_vals in solve(f(x)-x,x):\n",
    "    # The next line is for use in Markdown\n",
    "    display(Math(f'x={ latex(x_vals) }.'))\n",
    "    #print(latex(x_vals)) "
   ]
  },
  {
   "cell_type": "markdown",
   "metadata": {},
   "source": [
    "Since $x\\leq 2$, $x= \\frac{5}{2} - \\frac{\\sqrt{21}}{2}$."
   ]
  },
  {
   "cell_type": "markdown",
   "metadata": {},
   "source": [
    "# Exercise 11 2021/NJC/Functions/Q11 H2 Mathematics\n",
    "The functions $f$ and $g$ are defined by\n",
    "$$\\begin{align*}\n",
    "f&:x\\mapsto\\frac{1}{2}\\left(x^{3}-3x+2\\right),x\\in\\mathbb{R}\\\\\n",
    "g&:x\\mapsto\\sqrt{x+1},x\\in[-1,\\infty)\n",
    "\\end{align*}$$\n",
    " \n",
    "\n",
    "- (i)\tSketch the graphs of $y = f(x)$ and $y = g(x)$, labelling clearly the coordinates of stationary points and axial intercepts, if any.\n",
    "- (ii)\tDetermine if $f^{-1}$ exists, justifying your answer. \n",
    "- (iii)\tThe composite function $gf$ exists if the domain of $f$ is restricted to $x\\geq k$.  Given that the range of $gf$ is $[1,\\infty)$, find the range of possible values of $k$."
   ]
  },
  {
   "cell_type": "markdown",
   "metadata": {},
   "source": [
    "### Solution\n",
    "- (i) We see that the graphs looked like\n",
    "\n",
    "<center>\n",
    "\n",
    "<img src = '.\\img\\function_q11_1.png' width = '1095'>\n",
    "\n",
    "</center>\n",
    "\n",
    "- (ii) The horizontal line $y=1$  intersects the graph of $y=f(x)$  more than once. Hence the function $f$ is not one-one. It follows that $f^{-1}$  does not exist.\n",
    "\n",
    "- (iii) Observe from the graph of $y = g(x)$ that in order to obtain $R_{gf}=[1,\\infty)$, we require $R_f=[0,\\infty)$. \n",
    "\n",
    "    Therefore from the graph of $y = f(x)$, required answer is $-2\\leq k \\leq 1$. \n",
    "\n"
   ]
  },
  {
   "cell_type": "markdown",
   "metadata": {},
   "source": [
    "# Exercise 12 2021/NJC/Functions/Q12 H2 Mathematics\n",
    "The function $f$ is defined by\n",
    "$$f:x\\mapsto \\frac{e^x-1}{e-1} \\text{ for }x\\in \\mathbb{R}.$$\n",
    "\n",
    "Sketch the graph of $y=f(x)$ and state the range of $f$.\n",
    "\n",
    "Another function $h$ is defined by\n",
    "\n",
    "$$h:x\\mapsto\\begin{cases}\n",
    "\\left(x-1\\right)^{2}+1 & ,\\,x\\le1\\\\\n",
    "1-\\frac{\\left|1-x\\right|}{2} & ,\\,1<x\\leq4\n",
    "\\end{cases}$$\n",
    " \n",
    "Sketch the graph of $y=h(x)$ for $x\\leq 4$ and explain why the composite function $f^{-1}h$ exists. Hence find the exact value of $(f^{-1}h)^{-1}(3)$.\n"
   ]
  },
  {
   "cell_type": "markdown",
   "metadata": {},
   "source": [
    "### Solution\n",
    "The graph of $f$ looks like\n",
    "\n",
    "<center>\n",
    "\n",
    "<img src = '.\\img\\function_q12_1.png' width = '400'>\n",
    "\n",
    "</center>\n",
    "\n",
    "From the graph, we see that $R_h=[-\\frac{1}{2},\\infty)\\subseteq (\\frac{1}{1-e},\\infty)=R_f=D_{f^{-1}}$. So, $f^{-1}h$ exists.\n",
    "\n",
    "<center>\n",
    "\n",
    "<img src = '.\\img\\function_q12_2.png' width = '400'>\n",
    "\n",
    "</center>\n",
    "\n",
    "Let the value that we are asked to find be $a$. Thus, we have\n",
    "$$\\begin{align*}\n",
    "\\left(f^{-1}h\\right)^{-1}\\left(3\\right)\t&=a \\\\\n",
    "f^{-1}h\\left(\\left(f^{-1}h\\right)^{-1}\\left(3\\right)\\right)\t&=f^{-1}h\\left(a\\right) \\\\\n",
    "3\t&=f^{-1}h\\left(a\\right) \\\\\n",
    "f\\left(3\\right)\t&=f\\left(f^{-1}h\\left(a\\right)\\right) \\\\\n",
    "\\frac{e^{3}-1}{e-1}\t&=h\\left(a\\right) \\\\\n",
    "1+e+e^{2}\t& =h\\left(a\\right)\n",
    "\\end{align*}$$"
   ]
  },
  {
   "cell_type": "markdown",
   "metadata": {},
   "source": [
    "Since $1+e+e^2 > 0$, from the graph of $h$, we conclude that the piece of the piecewise function $h$ that can give rise to this value is $h(x)=(x-1)^2+1$ when $x<1$. As such, \n",
    "$$1+e+e^2 = (a-1)^2+1.$$"
   ]
  },
  {
   "cell_type": "code",
   "execution_count": 21,
   "metadata": {},
   "outputs": [
    {
     "data": {
      "text/latex": [
       "$\\displaystyle a=1 + \\sqrt{1 + e} e^{\\frac{1}{2}}.$"
      ],
      "text/plain": [
       "<IPython.core.display.Math object>"
      ]
     },
     "metadata": {},
     "output_type": "display_data"
    },
    {
     "data": {
      "text/latex": [
       "$\\displaystyle a=- \\sqrt{1 + e} e^{\\frac{1}{2}} + 1.$"
      ],
      "text/plain": [
       "<IPython.core.display.Math object>"
      ]
     },
     "metadata": {},
     "output_type": "display_data"
    }
   ],
   "source": [
    "from sympy import *\n",
    "from h2_math import *\n",
    "\n",
    "# Denote that a is a variable in the expression\n",
    "a = symbols('a')\n",
    "\n",
    "# Defining a function with name h\n",
    "h = make_fn('(x-1)**2+1')\n",
    "\n",
    "for a_vals in solve(h(a)-(1+exp(1)+exp(2)),a):\n",
    "    # The next line is for use in Markdown\n",
    "    display(Math(f'a={ latex(a_vals) }.'))\n",
    "    # print(latex(a_vals)) "
   ]
  },
  {
   "cell_type": "markdown",
   "metadata": {},
   "source": [
    "As $a<1$, we have that $(f^{-1}h)^{-1}(3)=- e^{\\frac{1}{2}}\\sqrt{1 + e}  + 1 = 1-\\sqrt{e^2+e}.$"
   ]
  },
  {
   "cell_type": "markdown",
   "metadata": {},
   "source": [
    "# Exercise 13 2018/NYJC/JC1 MYE/Q6 H2 Mathematics\n",
    "The functions $f$ and $g$ are defined by\n",
    "$$\\begin{align*}\n",
    "f\t:x &\\mapsto\\sin x+\\cos x,\\,-\\frac{\\pi}{4}\\leq x\\le\\frac{5\\pi}{4}, \\\\\n",
    "g\t:x &\\mapsto x^{2}+1,\\,x>-2\n",
    "\\end{align*}$$\n",
    "\n",
    "\n",
    "- (i)\tBy writing $f(x)=R\\sin (x+\\alpha)$ where $R>0$ and $0<\\alpha <\\frac{\\pi}{2}$, show that $gf$ exists and find the exact range of $gf$.\n",
    "- (ii)\tExplain why $f$ does not have an inverse.\n",
    "- (iii)\tThe function $h$ is such that $h(x)=f(x)$ and the domain of $h$ is of the form $(a,\\frac{5\\pi}{4})$. State the exact value of the minimum value of $a$ for $h^{-1}$ to exist.\n",
    "- (iv)\tOn a single diagram, sketch the graph of $y=h(x)$ and $y=h^{-1}(x)$. Your diagram should indicate the coordinates of the endpoints and the relationship between the two graphs.\n"
   ]
  },
  {
   "cell_type": "markdown",
   "metadata": {},
   "source": [
    "### Solution\n",
    "- (i) By R-formula, $f(x)=  \\sqrt{2} \\sin(x+\\frac{\\pi}{4})$. As such, $R_f=[-\\sqrt{2},\\sqrt{2}]$. Since $R_f \\subseteq (-2,\\infty)=D_g$, the composite function $gf$ exists.\n",
    "    Next, we find the rule of $gf$."
   ]
  },
  {
   "cell_type": "code",
   "execution_count": 22,
   "metadata": {},
   "outputs": [
    {
     "name": "stdout",
     "output_type": "stream",
     "text": [
      "The rule of gf\n"
     ]
    },
    {
     "data": {
      "text/latex": [
       "$\\displaystyle gf(x)=\\sin{\\left(2 x \\right)} + 2$"
      ],
      "text/plain": [
       "<IPython.core.display.Math object>"
      ]
     },
     "metadata": {},
     "output_type": "display_data"
    }
   ],
   "source": [
    "from sympy import *\n",
    "from h2_math import *\n",
    "\n",
    "# Defining the symbol for the parameters/arguments/input of the functions f,g\n",
    "x = symbols('x')\n",
    "\n",
    "# We define f,g \n",
    "f = make_fn('sqrt(2)*sin(x+pi/4)')\n",
    "g = make_fn('x**2+1')\n",
    "\n",
    "print('The rule of gf')\n",
    "#Compose g(f(x)) \n",
    "display(Math(f'gf(x)={ latex(simplify(g(f(x))))}'))\n",
    "\n",
    "#print(latex(g(f(x)))) #For Markdown use"
   ]
  },
  {
   "cell_type": "markdown",
   "metadata": {},
   "source": [
    "The graph of $gf$ looks like\n",
    "\n",
    "<center>\n",
    "\n",
    "<img src = '.\\img\\function_q13_1.png' width = '400'>\n",
    "\n",
    "</center>\n",
    "\n",
    "And from the graph, we see that $R_{gf}=[1,3]$.\n",
    "\n",
    "- (ii) We see that the graph of $f$ looks like \n",
    "\n",
    "    <center>\n",
    "\n",
    "    <img src = '.\\img\\function_q13_2.png' width = '400'>\n",
    "\n",
    "    </center>\n",
    "\n",
    "    The line $y=0$ cuts the graph at 2 points $x=-\\frac{\\pi}{4}$ and $x=\\frac{3\\pi}{4}$. As such, $f$ isn't a one-one function and consequently, $f$ doesn't have an inverse.\n",
    "\n",
    "- (iii) From the graph, if we are to restrict the domain of $h$ such that $h^{-1}$, the value of $a$ must be the $x$-coordinate of the maximum turning point of the graph in the domain. This happens when\n",
    "    $$\\begin{align*}\n",
    "    f\\left(x\\right)\t&=\\sqrt{2} \\\\\n",
    "    \\sqrt{2}\\sin\\left(x+\\frac{\\pi}{4}\\right)\t&=\\sqrt{2}   \n",
    "    \\end{align*}$$\n",
    "    And, solving gives $x=\\frac{\\pi}{4}$. As such, $a=\\frac{\\pi}{4}$.\n",
    "\n",
    "- (iv) The graph looks like \n",
    "\n",
    "    <center>\n",
    "\n",
    "    <img src = '.\\img\\function_q13_3.png' width = '400'>\n",
    "\n",
    "    </center>\n"
   ]
  }
 ],
 "metadata": {
  "interpreter": {
   "hash": "bfb4883d108fc92ac768439090a2e92bb9a1f760a54beeecfd6762b5dcd70fe3"
  },
  "kernelspec": {
   "display_name": "Python 3.10.2 64-bit",
   "language": "python",
   "name": "python3"
  },
  "language_info": {
   "codemirror_mode": {
    "name": "ipython",
    "version": 3
   },
   "file_extension": ".py",
   "mimetype": "text/x-python",
   "name": "python",
   "nbconvert_exporter": "python",
   "pygments_lexer": "ipython3",
   "version": "3.10.2"
  },
  "orig_nbformat": 4
 },
 "nbformat": 4,
 "nbformat_minor": 2
}
