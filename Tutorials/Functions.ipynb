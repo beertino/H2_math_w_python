{
 "cells": [
  {
   "cell_type": "markdown",
   "metadata": {},
   "source": [
    "# Q1\n",
    "The function $f$ is defined by\n",
    "$$f:x\\mapsto\\frac{ax}{bx-a},\\,x\\in\\mathbb{R},x\\neq\\frac{a}{b},$$\n",
    "\n",
    "where $a$ and $b$ are non-zero constants. \n",
    "\n",
    "- (a) (i)\tDetermine if $f^{-1}$  exists. If yes, find $f^{-1}(x)$.  \n",
    "- (a) (ii)\tHence, or otherwise, find the rule of the composite function, $f^2(x)$  and state the range of $f^2$.\n",
    "- (a) (iii)\tSolve the equation $f^{-1}(x)=x$.\n",
    "\n",
    "- (b) The function $g$ is defined by \n",
    "\t\t$$ g:x\\mapsto\\frac{1}{x},\\text{for all real non-zero}x.$$\n",
    "\tState whether the composite function $fg$ exists, justifying your answer.\n"
   ]
  },
  {
   "cell_type": "markdown",
   "metadata": {},
   "source": [
    "## Answer\n",
    "- (a)(i) We observe that the graph of $f(x)$ is a one-to-one function as any horizontal line $y=k$, $k\\in \\mathbb{R}$ cuts the graph at most once.\n",
    "\n",
    "<center>\n",
    "\n",
    "Insert picture here.\n",
    "\n",
    "</center>\n",
    "\n",
    "As such, the inverse function exist. Let $y=\\frac{ax}{bx-a}$, we make $y$ the subject"
   ]
  },
  {
   "cell_type": "code",
   "execution_count": 1,
   "metadata": {},
   "outputs": [
    {
     "data": {
      "text/plain": [
       "[a*y/(-a + b*y)]"
      ]
     },
     "execution_count": 1,
     "metadata": {},
     "output_type": "execute_result"
    }
   ],
   "source": [
    "from sympy import *\n",
    "\n",
    "x, y = symbols('x y')\n",
    "a, b = symbols('a b', real=True)\n",
    "\n",
    "f_inverse = solve((y-(a*x)/(b*x-a)),x)"
   ]
  },
  {
   "cell_type": "markdown",
   "metadata": {},
   "source": []
  }
 ],
 "metadata": {
  "interpreter": {
   "hash": "bfb4883d108fc92ac768439090a2e92bb9a1f760a54beeecfd6762b5dcd70fe3"
  },
  "kernelspec": {
   "display_name": "Python 3.10.2 64-bit",
   "language": "python",
   "name": "python3"
  },
  "language_info": {
   "codemirror_mode": {
    "name": "ipython",
    "version": 3
   },
   "file_extension": ".py",
   "mimetype": "text/x-python",
   "name": "python",
   "nbconvert_exporter": "python",
   "pygments_lexer": "ipython3",
   "version": "3.10.2"
  },
  "orig_nbformat": 4
 },
 "nbformat": 4,
 "nbformat_minor": 2
}
