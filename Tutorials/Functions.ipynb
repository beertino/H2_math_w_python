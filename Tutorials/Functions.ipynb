{
 "cells": [
  {
   "cell_type": "markdown",
   "metadata": {},
   "source": [
    "# Exercise 1 2021/NJC/Functions/Q2 H2 Mathematics\n",
    "For some unknown constants $a$ and $k$, the functions $f$, $g$ and $h$ are defined by \n",
    "$$ f\t:x\\mapsto\\left(2-x\\right)\\left(4+x\\right),\\,x<2,$$\n",
    "$$ g\t:x\\mapsto\\left(2-x\\right)\\left(4+x\\right),\\,x\\leq k,$$\n",
    "$$ h\t:x\\mapsto2^{x^{3}},\\,x\\in\\left(-\\infty,a\\right).$$\n",
    "\n",
    "\n",
    "- (i)\tFind the range of $f$, and show that $f^{-1}$ does not exist.\n",
    "- (ii)\tFind the greatest value of $k$ such that $g^{-1}$  exists. Using this greatest value of $k$, define $g^{-1}$  in a similar form.\n",
    "- (iii)\tFind the range of values of $a$ such that the composite function $fh$ exists."
   ]
  },
  {
   "cell_type": "markdown",
   "metadata": {},
   "source": [
    "## Answer\n",
    "- (i) The graph of $f$ looks like \n",
    "\n",
    "<center>\n",
    "\n",
    "<img src = '.\\img\\function_q1_1.png' width = '480' height ='480'>\n",
    "\n",
    "</center>\n",
    "\n",
    "The maximum turning point is at $(1,9)$. Thus, $R_f=(-\\infty,9]$.\n",
    "\n",
    "The horizontal line $y=1$ passes through the graph twice, thus, the function cannot be one-to-one and consequently, cannot have an inverse. \n",
    "\n",
    "- (ii) From the graph drawn earlier, the greatest value of $k$ for $g^{-1}$ to exist is 1. With the value of $k$, let $y=(2-x)(4+x)$, we make $x$ the subject."
   ]
  },
  {
   "cell_type": "code",
   "execution_count": 43,
   "metadata": {},
   "outputs": [
    {
     "data": {
      "text/latex": [
       "$\\displaystyle x=- \\sqrt{9 - y} - 1$"
      ],
      "text/plain": [
       "<IPython.core.display.Math object>"
      ]
     },
     "metadata": {},
     "output_type": "display_data"
    },
    {
     "data": {
      "text/latex": [
       "$\\displaystyle x=\\sqrt{9 - y} - 1$"
      ],
      "text/plain": [
       "<IPython.core.display.Math object>"
      ]
     },
     "metadata": {},
     "output_type": "display_data"
    }
   ],
   "source": [
    "from h2_math import *\n",
    "\n",
    "f = '(2-x)*(4+x)'\n",
    "\n",
    "get_inverse(f)"
   ]
  },
  {
   "cell_type": "markdown",
   "metadata": {},
   "source": [
    "Since $x\\leq k$, $g^{-1}:x\\mapsto -1-\\sqrt{9-x}$."
   ]
  },
  {
   "cell_type": "markdown",
   "metadata": {},
   "source": [
    "- (iii) For $fh$ to exists, we need $R_h\\subseteq D_f$ as such we need to solve $2^{a^3}<2$, so $a< (\\frac{\\ln 9}{\\ln 2})^{\\frac{1}{3}}=1$."
   ]
  },
  {
   "cell_type": "markdown",
   "metadata": {},
   "source": [
    "# Exercise 2 2021/NJC/Functions/Q2 H2 Mathematics\n",
    "The functions $f$ and $g$ are defined by\n",
    "$$ f:x\\mapsto e^{\\left|3-x\\right|},\\,x\\in\\mathbb{R},$$\n",
    "$$ g:x\\mapsto\\left(x-1\\right)^{2}+a,\\,x\\in\\mathbb{R}\\,\\text{and\\,}a\\,\\text{is a positive constant.}$$\n",
    "\n",
    "- (i)\tSketch the graph of $y = f(x)$, and show that $f^{-1}$  does not exist.\t\n",
    "- (ii)\tThe function $f$ has an inverse if its domain is restricted to $x\\geq b$. State the smallest possible value of $b$ and define, in similar form, the inverse function $f^{-1}$  corresponding to this domain for $f$.\n",
    "- (iii)\tUsing the value of $b$ in (ii), find the smallest possible value of $a$ such that the composite function $f^{-1}g$  exists. State the range of $f^{-1}g$  for this value of $a$.\t\n"
   ]
  },
  {
   "cell_type": "markdown",
   "metadata": {},
   "source": [
    "## Answer\n",
    "(i) We have that \n",
    "\n",
    "<center>\n",
    "\n",
    "<img src = '.\\img\\function_q2_1.png' width = '480' height ='480'>\n",
    "\n",
    "</center>\n",
    "\n",
    "The horizontal line $y=2$ passes through the graph twice, thus, the function cannot be one-to-one and consequently, cannot have an inverse. \n",
    "\n",
    "(ii) From the graph, we see that that the smallest possible value of $b$ is 1."
   ]
  },
  {
   "cell_type": "code",
   "execution_count": 2,
   "metadata": {},
   "outputs": [
    {
     "data": {
      "text/latex": [
       "$\\displaystyle x=\\log{\\left(y \\right)} + 3$"
      ],
      "text/plain": [
       "<IPython.core.display.Math object>"
      ]
     },
     "metadata": {},
     "output_type": "display_data"
    }
   ],
   "source": [
    "from h2_math import *\n",
    "\n",
    "#Note that there |3-x| = |x-3| and since x>=3, |x-3| = x-3\n",
    "f = '(exp(1))**(x-3)'\n",
    "\n",
    "get_inverse(f)"
   ]
  },
  {
   "cell_type": "markdown",
   "metadata": {},
   "source": [
    "Thus, $f^{-1}(x)=\\ln(x)+3$."
   ]
  },
  {
   "cell_type": "markdown",
   "metadata": {},
   "source": [
    "- (iii) $f^{-1}g$ exists if $[a,\\infty)=R_g \\subseteq D_{f^{-1}}=R_f=[1,\\infty)$. Therefore, the smallest possible value of $a$ is 1.\n",
    "\n",
    "If $a=1$, $R_g=[1,\\infty)$ and therefore, $R_{f^{-1}g}=[3,\\infty)$ based on the graph drawn in part(i)."
   ]
  },
  {
   "cell_type": "markdown",
   "metadata": {},
   "source": [
    "# Exercise 3 2021/NJC/Functions/Q3 H2 Mathematics\n",
    "It is given that $\\lambda$  is an unknown constant. The functions $f$ and $g$ are defined as follows:\n",
    "$$ f:x\\mapsto\\frac{5-x}{1-x},\\,x\\in\\mathbb{R},x\\neq1,$$\n",
    "$$ g:x\\mapsto2x^{2}+4x+\\lambda,\\,x\\in\\mathbb{R},x>-2.$$\n",
    "\n",
    "- (a) (i) Explain why $f^{-1}$ exists, and show that $f^{-1}(x)=f(x)$.\n",
    "- (a) (ii) Hence, or otherwise, evaluate $f^{51}(4)$, where $f^{n}(x)$ denotes \n",
    "$$ \\underset{n\\,\\text{times}}{\\underbrace{fff\\cdots f}}(x).$$\n",
    "- (b) (i)\tFind the range of values of $\\lambda$ such that $fg$ exists.\n",
    "- (b) (ii)\tGiven that $fg$ exists, find the range of $fg$ in terms of $\\lambda$.\n"
   ]
  },
  {
   "cell_type": "markdown",
   "metadata": {},
   "source": [
    "## Answer\n",
    "- (a) (i) We observe that the graph of $f(x)$ is a one-to-one function as any horizontal line $y=k$, $k\\in \\mathbb{R}$ cuts the graph at most once.\n",
    "\n",
    "<center>\n",
    "\n",
    "<img src = '.\\img\\function_q3_1.png' width = '480' height ='480'>\n",
    "\n",
    "</center>\n",
    "\n",
    "As such, the inverse function exist. Let $y=\\frac{5-x}{1-x}$, we make $x$ the subject"
   ]
  },
  {
   "cell_type": "code",
   "execution_count": 4,
   "metadata": {},
   "outputs": [
    {
     "data": {
      "text/latex": [
       "$\\displaystyle x=\\frac{y - 5}{y - 1}$"
      ],
      "text/plain": [
       "<IPython.core.display.Math object>"
      ]
     },
     "metadata": {},
     "output_type": "display_data"
    }
   ],
   "source": [
    "from h2_math import *\n",
    "\n",
    "# The rule of the function to get in\n",
    "f = '(5-x)/(1-x)'\n",
    "\n",
    "get_inverse(f)"
   ]
  },
  {
   "cell_type": "markdown",
   "metadata": {},
   "source": [
    "Thus, $f^{-1}(x)=\\frac{x-5}{x-1}=f(x)$."
   ]
  },
  {
   "cell_type": "markdown",
   "metadata": {},
   "source": [
    "- (a) (ii) From part (i), we see that $f^2(x)=x$, which further implies that $f^51(x) =f^{{50}}(f(x))=f(x)=\\frac{5-x}{1-x}$. As such, $$f^{{51}}(4)=\\frac{5-4}{1-4}=-\\frac{1}{3}.$$\n",
    "\n",
    "We verify our solution by bruteforcing our way to get the composite function."
   ]
  },
  {
   "cell_type": "code",
   "execution_count": 41,
   "metadata": {},
   "outputs": [
    {
     "name": "stdout",
     "output_type": "stream",
     "text": [
      "Checking the composition of function\n"
     ]
    },
    {
     "data": {
      "text/latex": [
       "$\\displaystyle f^{51}(x)=\\frac{x - 5}{x - 1}$"
      ],
      "text/plain": [
       "<IPython.core.display.Math object>"
      ]
     },
     "metadata": {},
     "output_type": "display_data"
    },
    {
     "name": "stdout",
     "output_type": "stream",
     "text": [
      "Evaluating at x=4\n"
     ]
    },
    {
     "data": {
      "text/latex": [
       "$\\displaystyle f^{51}(4)=- \\frac{1}{3}$"
      ],
      "text/plain": [
       "<IPython.core.display.Math object>"
      ]
     },
     "metadata": {},
     "output_type": "display_data"
    }
   ],
   "source": [
    "from sympy import Function\n",
    "\n",
    "x = symbols('x')\n",
    "\n",
    "# We need to do the following to define the function f in the question\n",
    "class f(Function):\n",
    "    @classmethod\n",
    "    def eval(cls, x):\n",
    "        return (5-x)/(1-x)\n",
    "\n",
    "composite_function = x\n",
    "\n",
    "for n in range(51):\n",
    "    #Note that we simplify here because otherwise, the expression just gets\n",
    "    #into a bigger and bigger nest\n",
    "    composite_function = simplify(f(composite_function))\n",
    "\n",
    "print('Checking the composition of function')\n",
    "display(Math(f'f^{{51}}(x)={ latex(composite_function)}'))\n",
    "\n",
    "print('Evaluating at x=4')\n",
    "display(Math(f'f^{{51}}(4)={ latex(composite_function.subs(x,4))}'))"
   ]
  },
  {
   "cell_type": "markdown",
   "metadata": {},
   "source": [
    "- (b) (i) $fg$ exists when $R_g \\subseteq D_f$. First, we note that by completing square $g(x)=2\\left(x+1\\right)^{2}+\\left(\\lambda-2\\right)$ with minimum turning point point at $x=-1>-2$. \n",
    "\n",
    "<center>\n",
    "\n",
    "<img src = '.\\img\\function_q3_2.png' width = '480' height ='480'>\n",
    "\n",
    "</center>\n",
    "\n",
    "As such, $R_g=[\\lambda -2,\\infty)$. Thus, for $R_g$ to be a subset of $D_f$, we would then require \n",
    "\n",
    "\\begin{align*}\n",
    "\\lambda - 2 &> 1\\\\\n",
    "\\lambda &>3.\n",
    "\\end{align*}"
   ]
  },
  {
   "cell_type": "markdown",
   "metadata": {},
   "source": [
    "- (b) (ii) We note that for $x>1$, if $x_0<x_1$, $f(x_0)<f(x_1)$ and $f(x)<1$ as $x=1$ is a vertical asympotote of $f$. Therefore, \n",
    "\n",
    "\\begin{align*}\n",
    "R_{fg} &= [f(\\lambda - 2),1)\\\\\n",
    "&= [\\frac{\\lambda - 7}{\\lambda -3},1).\n",
    "\\end{align*}"
   ]
  },
  {
   "cell_type": "markdown",
   "metadata": {},
   "source": [
    "# Exercise 4 2021/NJC/Functions/Q4 H2 Mathematics\n",
    "The function $f$ is defined by\n",
    "$$f:x\\mapsto\\frac{ax}{bx-a},\\,x\\in\\mathbb{R},x\\neq\\frac{a}{b},$$\n",
    "\n",
    "where $a$ and $b$ are non-zero constants. \n",
    "\n",
    "- (a) (i)\tDetermine if $f^{-1}$  exists. If yes, find $f^{-1}(x)$.  \n",
    "- (a) (ii)\tHence, or otherwise, find the rule of the composite function, $f^2(x)$  and state the range of $f^2$.\n",
    "- (a) (iii)\tSolve the equation $f^{-1}(x)=x$.\n",
    "\n",
    "- (b) The function $g$ is defined by \n",
    "\t\t$$ g:x\\mapsto\\frac{1}{x},\\text{for all real non-zero }x.$$\n",
    "\tState whether the composite function $fg$ exists, justifying your answer.\n"
   ]
  },
  {
   "cell_type": "markdown",
   "metadata": {},
   "source": [
    "## Answer\n",
    "- (a) (i) We observe that the graph of $f(x)$ is a one-to-one function as any horizontal line $y=k$, $k\\in \\mathbb{R}$ cuts the graph at most once.\n",
    "\n",
    "<center>\n",
    "\n",
    "Insert picture here.\n",
    "\n",
    "</center>\n",
    "\n",
    "As such, the inverse function exist. Let $y=\\frac{ax}{bx-a}$, we make $x$ the subject"
   ]
  },
  {
   "cell_type": "code",
   "execution_count": 5,
   "metadata": {},
   "outputs": [
    {
     "data": {
      "text/latex": [
       "$\\displaystyle x=\\frac{a y}{- a + b y} $"
      ],
      "text/plain": [
       "<IPython.core.display.Math object>"
      ]
     },
     "metadata": {},
     "output_type": "display_data"
    }
   ],
   "source": [
    "# Modules for algebraic manipulation and pretty printing\n",
    "from sympy import *\n",
    "from IPython.display import Math,display,Latex\n",
    "\n",
    "x, y = symbols('x y')\n",
    "a, b = symbols('a b', real=True)\n",
    "\n",
    "f_inverse = solve((y-(a*x)/(b*x-a)),x)\n",
    "display(Math(f'x={ latex(f_inverse[0])}'))"
   ]
  },
  {
   "cell_type": "markdown",
   "metadata": {},
   "source": [
    "Thus, $f^{-1}(x)=\\frac{a x}{- a + b x}$. From the graph, we see that $R_f = (-\\infty,0) \\cup (0,\\infty)$. Therefore, $D_{f^{-1}} = (-\\infty,0) \\cup (0,\\infty)$ as well."
   ]
  },
  {
   "cell_type": "markdown",
   "metadata": {},
   "source": [
    "- (a) (ii) The smart way is to notice that $f(x)=f^{-1}(x)$ and as such, \n",
    "\n",
    "\\begin{align*}\n",
    "f(x) &= f^{-1}(x)\\\\\n",
    "f(f(x)) &= f(f^{-1}(x))\\\\\n",
    "f^2(x) &= x.\n",
    "\\end{align*}\n",
    "\n",
    "Altenatively, we can brute force it by evaluating the rule of the composite function via the definition given."
   ]
  },
  {
   "cell_type": "code",
   "execution_count": 17,
   "metadata": {},
   "outputs": [
    {
     "name": "stdout",
     "output_type": "stream",
     "text": [
      "Checking the composition of function\n"
     ]
    },
    {
     "data": {
      "text/latex": [
       "$\\displaystyle f^2(x)=\\frac{a^{2} x}{\\left(- a + b x\\right) \\left(\\frac{a b x}{- a + b x} - a\\right)}$"
      ],
      "text/plain": [
       "<IPython.core.display.Math object>"
      ]
     },
     "metadata": {},
     "output_type": "display_data"
    },
    {
     "name": "stdout",
     "output_type": "stream",
     "text": [
      "After simplification\n"
     ]
    },
    {
     "data": {
      "text/latex": [
       "$\\displaystyle f^2(x)=x$"
      ],
      "text/plain": [
       "<IPython.core.display.Math object>"
      ]
     },
     "metadata": {},
     "output_type": "display_data"
    }
   ],
   "source": [
    "from sympy import Function\n",
    "\n",
    "# We need to do the following to define the function f in the question\n",
    "class f(Function):\n",
    "    a, b = symbols('a b', real=True)\n",
    "    @classmethod\n",
    "    def eval(cls, x):\n",
    "        return (a*x)/(b*x-a)\n",
    "\n",
    "print('Checking the composition of function')\n",
    "display(Math(f'f^2(x)={ latex(f(f(x)))}'))\n",
    "print('After simplification')\n",
    "display(Math(f'f^2(x)={ latex(simplify(f(f(x))))}'))"
   ]
  },
  {
   "cell_type": "markdown",
   "metadata": {},
   "source": [
    "Since $f^2(x)=x$ and $D_f=\\mathbb{R}\\backslash\\left\\{ \\frac{a}{b}\\right\\} $, we have $R_f=\\mathbb{R}\\backslash\\left\\{ \\frac{a}{b}\\right\\} $ as well."
   ]
  },
  {
   "cell_type": "markdown",
   "metadata": {},
   "source": [
    "- (a) (iii) We have that "
   ]
  },
  {
   "cell_type": "code",
   "execution_count": 20,
   "metadata": {},
   "outputs": [
    {
     "data": {
      "text/latex": [
       "$\\displaystyle x=0$"
      ],
      "text/plain": [
       "<IPython.core.display.Math object>"
      ]
     },
     "metadata": {},
     "output_type": "display_data"
    },
    {
     "data": {
      "text/latex": [
       "$\\displaystyle x=\\frac{2 a}{b}$"
      ],
      "text/plain": [
       "<IPython.core.display.Math object>"
      ]
     },
     "metadata": {},
     "output_type": "display_data"
    }
   ],
   "source": [
    "from sympy import Function\n",
    "from IPython.display import Math,display,Latex\n",
    "\n",
    "# Note that f_inv has the same rule as f. So, we can reuse the same function\n",
    "class f(Function):\n",
    "    a, b = symbols('a b', real=True)\n",
    "    @classmethod\n",
    "    def eval(cls, x):\n",
    "        return (a*x)/(b*x-a)\n",
    "\n",
    "\n",
    "for x_vals in solve(f(x)-x,x):\n",
    "    display(Math(f'x={ latex(x_vals) }.'))"
   ]
  },
  {
   "cell_type": "markdown",
   "metadata": {},
   "source": [
    "- (b) Observe that the graph of $g$ looks like \n",
    "\n",
    "<center>\n",
    "\n",
    "INSERT PICTURE HERE\n",
    "\n",
    "</center>\n",
    "\n",
    "As such $R_g=\\mathbb{R}\\backslash{0}$. Since $D_f=\\mathbb{R}\\backslash\\left\\{ \\frac{a}{b}\\right\\} $, we have that $R_g \\nsubseteq D_f$ as $\\frac{a}{b}\\in R_g$, but $\\frac{a}{b} \\notin D_f$. Thus, the function $fg$ does not exist."
   ]
  },
  {
   "cell_type": "markdown",
   "metadata": {},
   "source": [
    "## Exercise 5 2021/NJC/Functions/Q4 H2 Mathematics\n",
    "\n",
    "It is given that\n",
    "\n",
    "$$f\\left(x\\right)=\\left|\\frac{x-2a}{2}\\right|\\,\\text{for}\\,0\\leq x<4a,\\,\\text{where }a\\,\\text{is a positive constant,}$$\n",
    "\n",
    "and that $f(x)=f(x+4a)$ for all real values of $x$.\n",
    "\n",
    "- **(i)**\tFind the values of $f(-5a)$ and $f(8a)$ in terms of $a$.\n",
    "- **(ii)**\tSketch the graph of $y=f(x)$ for $-6a\\leq x\\leq 10a$.\n",
    "- **(iii)**\tHence or otherwise, find the exact value of ${\\displaystyle \\int_{-6a}^{10a}f\\left(x\\right)\\,dx}$  in terms of $a$. \n"
   ]
  },
  {
   "cell_type": "code",
   "execution_count": 16,
   "metadata": {},
   "outputs": [
    {
     "data": {
      "text/plain": [
       "'x'"
      ]
     },
     "execution_count": 16,
     "metadata": {},
     "output_type": "execute_result"
    }
   ],
   "source": [
    "#YOUR_ANSWER_HERE"
   ]
  },
  {
   "cell_type": "markdown",
   "metadata": {},
   "source": [
    "# Exercise 6 2021/NJC/Functions/Q4 H2 Mathematics\n",
    "The function $f$ is defined as\n",
    "$$ f:x\\mapsto x^2-\\lambda x+3, x\\in \\mathbb{R},$$\n",
    "\n",
    "where $\\lambda$ is a non-zero constant.\n",
    "- **(i)** Find the range of $f$, giving your answer in terms of $\\lambda$.\t\n",
    "\n",
    "The function $f$ has an inverse function if its domain is restricted to $x\\leq k$. \n",
    "- **(ii)** State the greatest value of $k$ in terms of $\\lambda$.  \n",
    "\n",
    "Using the result in **(ii)** for the case $\\lambda=4$,\n",
    "\n",
    "- **(iii)**\tsketch, on the same diagram, the graphs of $y=f(x)$ and $y=f^{-1}(x)$, illustrating clearly the relationship between the two graphs, and labelling the axial intercept(s), if any.\n",
    "- **(iv)** Find the exact solution of $f(x)=f^{-1}(x)$."
   ]
  },
  {
   "cell_type": "code",
   "execution_count": null,
   "metadata": {},
   "outputs": [],
   "source": [
    "#YOUR_ANSWER_HERE"
   ]
  },
  {
   "cell_type": "markdown",
   "metadata": {},
   "source": [
    "# Exercise 7 2021/NJC/Functions/Q7 H2 Mathematics\n",
    "The function $f$ is defined by \n",
    "$$f:x\\mapsto (7+x)(1-x)-15, x\\in [-2,\\infty).$$\n",
    " \n",
    "- (i)\tShow that $f^{-1}$ exists, and find its domain.\n",
    "- (ii)\tSketch, on the same diagram, the graphs of \n",
    "\t$$y =f(x), y=f^{-1}(x) \\text{ and } y=f^{-1}f(x),$$\n",
    "\tshowing clearly the relationship between the graphs.\n",
    "- (iii)\tHence find the exact solution of $f^{-1}f(x)\\leq f(x)$.\t"
   ]
  },
  {
   "cell_type": "code",
   "execution_count": null,
   "metadata": {},
   "outputs": [],
   "source": [
    "#YOUR_ANSWER_HERE"
   ]
  },
  {
   "cell_type": "markdown",
   "metadata": {},
   "source": [
    "# Exercise 8 2021/NJC/Functions/Q8 H2 Mathematics\n",
    "The functions $f$ and $g$ are defined by \n",
    "$$\\begin{align*}\n",
    "f\t:x &\\mapsto\\frac{3x}{x+2},\\ &,x>-2\\\\\n",
    "g\t:x &\\mapsto x^{2}+1,\\ &,x\\leq5 \n",
    "\\end{align*}$$\n",
    "\n",
    "Sketch, on separate diagrams, the graph of $y=f(x)$ and $y=g(x)$. \n",
    "\n",
    "Determine, whether each of the following composite functions exists:\n",
    "- (a) $fg$\n",
    "- (b) $gf$ \n",
    "\n",
    "If any of the functions exists, then find its rule, domain and range.\t\n"
   ]
  },
  {
   "cell_type": "code",
   "execution_count": null,
   "metadata": {},
   "outputs": [],
   "source": [
    "#YOUR_ANSWER_HERE"
   ]
  },
  {
   "cell_type": "markdown",
   "metadata": {},
   "source": [
    "# Exercise 9 2021/NJC/Functions/Q9 H2 Mathematics\n",
    "The functions $f$ and $g$ are defined by\n",
    "$$\\begin{align*}\n",
    "f\t:x &\\mapsto\\frac{2}{x^{2}+1},\\,x\\leq k\\,\\text{ and }k\\,\\text{ is an unknown constant}, \\\\\n",
    "g\t:x &\\mapsto\\frac{1}{x-1},\\,x\\in[2,\\infty)\n",
    "\\end{align*}$$\n",
    "\n",
    "\n",
    "It is given that $f^{-1}$ exists. State the largest value of $k$, and use this value to\n",
    "\n",
    "- (i)\tdefine $f^{-1}$ and\n",
    "- (ii)\tshow that the composite function $f^{-1}g$ exists. Also, find its range.\n"
   ]
  },
  {
   "cell_type": "code",
   "execution_count": null,
   "metadata": {},
   "outputs": [],
   "source": [
    "#YOUR_ANSWER_HERE"
   ]
  },
  {
   "cell_type": "markdown",
   "metadata": {},
   "source": [
    "# Exercise 10 2021/NJC/Functions/Q10 H2 Mathematics\n",
    "The function $f$ is defined by\n",
    "$$f:x\\mapsto x^2-4x+1, x\\leq a \\text{ and }a \\text{ is an unknown constant}.$$\n",
    "\n",
    "- (i)\tFind the largest value of $a$ for which $f^{-1}$ exists, and define $f^{-1}$ for this case.\n",
    "- (ii)\tUsing the value of $a$ in (i), sketch, on the same the diagram, the graphs of $y=f(x), y=f^{-1}(x) and ff^{-1}(x)$.\n",
    "    Hence solve $f(x)=f^{-1}(x)$, leaving your answer in exact form."
   ]
  },
  {
   "cell_type": "code",
   "execution_count": null,
   "metadata": {},
   "outputs": [],
   "source": [
    "#YOUR_ANSWER_HERE"
   ]
  },
  {
   "cell_type": "markdown",
   "metadata": {},
   "source": [
    "# Exercise 11 2021/NJC/Functions/Q11 H2 Mathematics\n",
    "The functions $f$ and $g$ are defined by\n",
    "$$\\begin{align*}\n",
    "f&:x\\mapsto\\frac{1}{2}\\left(x^{2}-3x+2\\right),x\\in\\mathbb{R}\\\\\n",
    "g&:x\\mapsto\\sqrt{x+1},x\\in[-1,\\infty)\n",
    "\\end{align*}$$\n",
    " \n",
    "\n",
    "- (i)\tSketch the graphs of $y = f(x)$ and $y = g(x)$, labelling clearly the coordinates of stationary points and axial intercepts, if any.\n",
    "- (ii)\tDetermine if $f^{-1}$ exists, justifying your answer. \n",
    "- (iii)\tThe composite function $gf$ exists if the domain of $f$ is restricted to $x\\geq k$.  Given that the range of $gf$ is $[1,\\infty)$, find the range of possible values of $k$."
   ]
  },
  {
   "cell_type": "code",
   "execution_count": null,
   "metadata": {},
   "outputs": [],
   "source": [
    "#YOUR_ANSWER_HERE"
   ]
  },
  {
   "cell_type": "markdown",
   "metadata": {},
   "source": [
    "# Exercise 12 2021/NJC/Functions/Q12 H2 Mathematics\n",
    "The function $f$ is defined by\n",
    "$$f:x\\mapsto \\frac{e^x-1}{e-1} \\text{ for }x\\in \\mathbb{R}.$$\n",
    "\n",
    "Sketch the graph of $y=f(x)$ and state the range of $f$.\n",
    "\n",
    "Another function $h$ is defined by\n",
    "\n",
    "$$h:x\\mapsto\\begin{cases}\n",
    "\\left(x-1\\right)^{2}+1 & ,\\,x\\le1\\\\\n",
    "1-\\frac{\\left|1-x\\right|}{2} & ,\\,1<x\\leq4\n",
    "\\end{cases}$$\n",
    " \n",
    "Sketch the graph of $y=h(x)$ for $x\\leq 4$ and explain why the composite function $f^{-1}h$ exists. Hence find the exact value of $(f^{-1}h)^{-1}(3)$.\n"
   ]
  },
  {
   "cell_type": "code",
   "execution_count": null,
   "metadata": {},
   "outputs": [],
   "source": [
    "#YOUR_ANSWER_HERE"
   ]
  },
  {
   "cell_type": "markdown",
   "metadata": {},
   "source": [
    "# Exercise 13 2018/NYJC/JC1 MYE/Q6 H2 Mathematics\n",
    "The functions $f$ and $g$ are defined by\n",
    "$$\\begin{align*}\n",
    "f\t:x &\\mapsto\\sin x+\\cos x,\\,-\\frac{\\pi}{4}\\leq x\\le\\frac{5\\pi}{4}, \\\\\n",
    "g\t:x &\\mapsto x^{2}+1,\\,x>-2\n",
    "\\end{align*}$$\n",
    "\n",
    "\n",
    "- (i)\tBy writing $f(x)=R\\sin (x+\\alpha)$ where $R>0$ and $0<\\alpha <\\frac{\\pi}{2}$, show that $gf$ exists and find the exact range of $gf$.\n",
    "- (ii)\tExplain why $f$ does not have an inverse.\n",
    "- (iii)\tThe function $h$ is such that $h(x)=f(x)$ and the domain of $h$ is of the form $(a,\\frac{5\\pi}{4})$. State the exact value of the minimum value of $a$ for $h^{-1}$ to exist.\n",
    "- (iv)\tOn a single diagram, sketch the graph of $y=h(x)$ and $y=h^{-1}(x)$. Your diagram should indicate the coordinates of the endpoints and the relationship between the two graphs.\n"
   ]
  },
  {
   "cell_type": "code",
   "execution_count": null,
   "metadata": {},
   "outputs": [],
   "source": [
    "#YOUR_ANSWER_HERE"
   ]
  }
 ],
 "metadata": {
  "interpreter": {
   "hash": "bfb4883d108fc92ac768439090a2e92bb9a1f760a54beeecfd6762b5dcd70fe3"
  },
  "kernelspec": {
   "display_name": "Python 3.10.2 64-bit",
   "language": "python",
   "name": "python3"
  },
  "language_info": {
   "codemirror_mode": {
    "name": "ipython",
    "version": 3
   },
   "file_extension": ".py",
   "mimetype": "text/x-python",
   "name": "python",
   "nbconvert_exporter": "python",
   "pygments_lexer": "ipython3",
   "version": "3.10.2"
  },
  "orig_nbformat": 4
 },
 "nbformat": 4,
 "nbformat_minor": 2
}
