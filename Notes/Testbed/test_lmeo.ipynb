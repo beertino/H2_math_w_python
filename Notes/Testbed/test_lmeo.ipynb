{
 "cells": [
  {
   "cell_type": "code",
   "execution_count": null,
   "metadata": {},
   "outputs": [],
   "source": [
    "from sympy import *\n",
    "from h2_math import *\n",
    "\n",
    "# Denote that a is a variable in the expression\n",
    "\n",
    "\n",
    "# Defining a function with name h\n",
    "class h(Function):\n",
    "    @classmethod\n",
    "    def eval(cls, x):\n",
    "        # Return the rule of the function \n",
    "        return (x-1)**2+1\n",
    "\n",
    "for a_vals in solve(h(a)-(1+exp(1)+exp(2)),a):\n",
    "    # The next line is for use in Markdown\n",
    "    display(Math(f'a={ latex(a_vals) }.'))\n",
    "    # print(latex(a_vals)) "
   ]
  },
  {
   "cell_type": "code",
   "execution_count": 4,
   "metadata": {},
   "outputs": [
    {
     "data": {
      "text/latex": [
       "$\\displaystyle \\left(x - 1\\right)^{2} + 1$"
      ],
      "text/plain": [
       "(x - 1)**2 + 1"
      ]
     },
     "execution_count": 4,
     "metadata": {},
     "output_type": "execute_result"
    }
   ],
   "source": [
    "from sympy import *\n",
    "from h2_math import *\n",
    "\n",
    "x = symbols('x')\n",
    "\n",
    "class h(Function):\n",
    "    @classmethod\n",
    "    def eval(cls, x):\n",
    "        # Return the rule of the function \n",
    "        return eval('(x-1)**2+1')\n",
    "\n",
    "\n"
   ]
  },
  {
   "cell_type": "code",
   "execution_count": null,
   "metadata": {},
   "outputs": [],
   "source": []
  }
 ],
 "metadata": {
  "interpreter": {
   "hash": "bfb4883d108fc92ac768439090a2e92bb9a1f760a54beeecfd6762b5dcd70fe3"
  },
  "kernelspec": {
   "display_name": "Python 3.10.2 64-bit",
   "language": "python",
   "name": "python3"
  },
  "language_info": {
   "codemirror_mode": {
    "name": "ipython",
    "version": 3
   },
   "file_extension": ".py",
   "mimetype": "text/x-python",
   "name": "python",
   "nbconvert_exporter": "python",
   "pygments_lexer": "ipython3",
   "version": "3.10.2"
  },
  "orig_nbformat": 4
 },
 "nbformat": 4,
 "nbformat_minor": 2
}
