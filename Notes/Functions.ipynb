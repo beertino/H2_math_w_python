{
 "cells": [
  {
   "cell_type": "markdown",
   "metadata": {},
   "source": [
    "# 1. Functions – Rule, Domain and Range\n",
    "Let $X$ and $Y$ be sets. A **function** $f$ from $X$ to $Y$, denoted as $f:X\\rightarrow Y$, is a mapping (think of this as a way to associate or relate or pair) of *each element* of the set $X$ to exactly one of the elements of the set $Y$. To denote elements $x$ and $y$ are paired, we write $x\\mapsto y$. Furthermore, if the element $x$ in $X$ is mapped to the element $y$ in $Y$ by the function $f$, we write $f(x)=y$, and we say that $y$ is the **image of $x$ under $f$**. Besides a way of association, with this definition, we can think of a function $f$ of some kind of machine that accepts an input $x\\in X$ and gives an output $y\\in Y$. \n",
    "\n",
    ">Note:\n",
    ">- *each element* means that every element in $X$ has to be associated to some element in $Y$. However, not every element in $Y$ has to be associated with.\n",
    ">- *exactly one* means that a function is single-valued. It will not give more than one output for the same input.\n",
    "\n",
    "### Example 1\n",
    "Let $X=\\{ 1, 2, 3, 4\\}$ and $Y=\\{ 3,5,7,9\\}$. \n",
    "- **(a)** Let $f$ be a way of relating the elements $1,2,3,4$ in $X$ with the elements in $5,3,7,9$ in $Y$ respectively. We write:\n",
    "    - $1 \\mapsto 5$, $2 \\mapsto 3$, $3 \\mapsto 7$, $4 \\mapsto 9$\n",
    "    - $f$ is a function because it fulfills the definition above. \n",
    "- **(b)** Let $g$ be a way of relating the elements $1,2,3,4$ in $X$ with the elements in $3,7,9,7$ in $Y$ respectively. We write:\n",
    "    - $1 \\mapsto 5$, $2 \\mapsto 7$, $3 \\mapsto 9$, $4 \\mapsto 7$\n",
    "    - $g$ is also a function because it fulfills the definition above. \n",
    "- **(c)** Let $h$ be a way of relating the elements $1,2,3,3$ in $X$ with the elements in $3,7,3,9$ in $Y$ respectively. We write:\n",
    "    - $1 \\mapsto 3$, $2 \\mapsto 7$, 3 is mapped twice to different elements in $Y$, $3 \\mapsto 3$, $3 \\mapsto 9$, and 4 isn't mapped to anything.\n",
    "    - $h$ is **NOT** a function because it violates 2 conditions in the definition above (See Note). \n",
    "\n",
    "For a function $f:X\\rightarrow Y$,:\n",
    "- the set $X$ is called the **domain of $f$**, denoted by $D_{f}$. \n",
    "- The set $Y$ is called the **codomain of $f$**, and\n",
    "- the *set of elements in the set $Y$ with at least one element $x$ in the set $X$ associated to it* is called the **range of $f$**, usually denoted by $R_{f}$. In other words, The range of $f$ is defined as the set of all the possible images of the elements of $X$ under the function $f$ i.e., $R_f =\\{f(x) : x\\in X\\}$.\n",
    "- It is quite obvious from the definition that the range $R_f$ is always a subset of the codomain of $f$.\n",
    "\n",
    "### Example 2\n",
    "Referring back to Example 1\n",
    "- **(a)** $D_f=\\{1,2,3,4\\}$, $R_f=\\{3,5,7,9\\}$ and $R_f$ is the same as the codomain of $f$.\n",
    "- **(b)** $D_g=\\{1,2,3,4\\}$, $R_g=\\{3,7,9\\}$ and $R_g$ is a proper subset of the codomain of $f$.\n",
    "- **(c)** THe terms wouldn't make sense as the relation $h$ is not even a function. In our definition, the concepts of domain, codomain and range only makes sense if the relation is a function.\n",
    "\n",
    "In a function $f:X\\rightarrow Y$, the precise description of the way to associate element $x\\in X$ with some element $y\\in Y$ is termed the **rule of $f$**. We have seen earlier that if $y$ and $x$ is associated as such, we write $f(x)=y$. Therefore, we can also take that $f(x)$ as the rule of the function $f$. And in A-Level, $f(x)$ is often an expression in the variable $x$. Also, if use the machine anology, we can think of domain of $f$ as the collection of all possible inputs of the function.\n",
    "\n",
    "### Example 3\n",
    "Let $f$ be a function that maps the element $x\\in X=\\{1,2,3,4\\}$ with the square of itself $x^2$. Then, we have $x\\mapsto x^2$, or $f(x)$ which is $x^2$, to be the rule of $f$.\n",
    "\n",
    "With Python, given the domain and rule of $f$, we can use *list comprehension* to get the range of $f$! This is very nice, because this way of doing matches with how we mathematically define $R_f$.\n",
    "\n",
    "> Note that "
   ]
  },
  {
   "cell_type": "code",
   "execution_count": 14,
   "metadata": {},
   "outputs": [
    {
     "data": {
      "text/latex": [
       "$\\displaystyle R_f=\\{ {16, 1, 4, 9} \\}$"
      ],
      "text/plain": [
       "<IPython.core.display.Math object>"
      ]
     },
     "metadata": {},
     "output_type": "display_data"
    }
   ],
   "source": [
    "# We import the following so that we can display the results prettily\n",
    "from IPython.display import Math,display,Latex\n",
    "\n",
    "# Here's the \"domain\" (set of input values). Technically, sets doesn't have an order.\n",
    "# In this case we're actually using a list for the iteration.\n",
    "X = [1,2,3,4]\n",
    "\n",
    "# Defining the function f\n",
    "def f(x):\n",
    "    # We return the elements that is associated with x under the\n",
    "    # desired rule\n",
    "    return x**2\n",
    "\n",
    "# Collecting the elements that elements in the domain gets mapped to\n",
    "# and put them in a list. \n",
    "range_of_f = [f(x) for x in X]\n",
    "\n",
    "display(Math(f'R_f=\\{{ {set(range_of_f)} \\}}'))"
   ]
  },
  {
   "cell_type": "markdown",
   "metadata": {},
   "source": [
    "# 2. Representations of Relations\n",
    "Let $X$ and $Y$ be sets. Besides the representation shown in Example 1, the relation between the elements $x\\in X$ and $y\\in Y$ can be illustrated by any of the following.\n",
    "\n",
    "## 2.1 Tabular Representation\n",
    "In the **tabular representation**, we have two columns in the table. One column contains the values $x$ in the domain and the other, the value $y$ in the codomain such that $f(x)=y$.\n",
    "\n",
    "Using the relations in Example 1, we have the following tables\n",
    "\n",
    "<center>\n",
    "\n",
    "| $x$ | $y$ |\n",
    "|-|-|\n",
    "|1|5\n",
    "|2|3\n",
    "|3|7\n",
    "|4|9\n",
    "\n",
    "<br>\n",
    "\n",
    "| $x$ | $y$ |\n",
    "|-|-|\n",
    "|1|3\n",
    "|2|7\n",
    "|3|9\n",
    "|4|7\n",
    "\n",
    "<br>\n",
    "\n",
    "| $x$ | $y$ |\n",
    "|-|-|\n",
    "|1|3\n",
    "|2|7\n",
    "|3|3,9\n",
    "\n",
    "</center>\n",
    "\n",
    "In this tabular form, we can detect whether a relation is not a function by looking at the values in the column.\n",
    "- if **column containing values from the domain has missing values from the domain**, the relation cannot be a function\n",
    "- if **a cell in the column containing values from the codomain has more than 1 values in it**, the relation cannot be a function\n",
    "\n",
    "## 2.2 Venn Diagram Representation\n",
    "When the number of elements in the sets are small, besides tabular form, we can also use the **venn diagram reprentation**. In this representation, the sets are drawn as two different bubbles with the elements inside each set drawn inside the bubbles as well. The association between the elements from the two sets are shown by drawing an arrow between those elements, i.e. if $x\\mapsto y$ or $y=f(x)$, we draw an arrow starting from $x\\in X$ and point to $y\\in Y$.\n",
    "\n",
    "Using the relations in Example 1 again, we have \n",
    "\n",
    "<center>\n",
    "\n",
    "Insert relevant picture here.\n",
    "\n",
    "</center>\n",
    "\n",
    "<br>\n",
    "\n",
    "## 2.3 Graphical Representation on 2D Cartesian plane.\n",
    "This representation of relations is by far the most useful, which contributes to its popularity in mathematics. \n",
    "\n",
    "Let $X$ and $Y$ be sets. In this **graphical representation**, if $x\\mapsto y$, we can create a point $(x,y)$ and plot this point in the Cartesian plane. \n",
    "\n",
    "Again, we use the relations in Example 1. \n",
    "\n",
    "<center>\n",
    "\n",
    "Insert relevant picture here.\n",
    "\n",
    "</center>\n",
    "\n",
    "<br>\n",
    "\n",
    "> Note: This last representation is the reason why the relation $y=mx+c$ which you probably would have encountered earlier in your previous mathematics classes be called *linear*, as when you plot all the pairs under the relation, it really looks like a line. \n",
    "\n",
    "### Example 4\n",
    "Recall that in the example 1, for the relation $f$, $1 \\mapsto 5$, $2 \\mapsto 3$, $3 \\mapsto 7$, $4 \\mapsto 9$. As such, we:\n",
    "1. create all the points, which are $(1,5)$, $(2,3)$, $(3,7)$, $(4,9)$,\n",
    "2. plot the points on the Cartesian plane"
   ]
  },
  {
   "cell_type": "code",
   "execution_count": 7,
   "metadata": {},
   "outputs": [
    {
     "data": {
      "image/png": "[encoded data removed]",
      "text/plain": [
       "<Figure size 432x288 with 1 Axes>"
      ]
     },
     "metadata": {
      "needs_background": "light"
     },
     "output_type": "display_data"
    }
   ],
   "source": [
    "# We import the following so\n",
    "from matplotlib import pyplot as plt\n",
    "\n",
    "# Rule of f\n",
    "def f(x):\n",
    "    if x == 1:\n",
    "        return 5\n",
    "    if x == 2:\n",
    "        return 3 \n",
    "    if x == 3:\n",
    "        return 7 \n",
    "    if x == 4:\n",
    "        return 9 \n",
    "\n",
    "# domain of f\n",
    "domain_of_f = [1,2,3,4]\n",
    "\n",
    "# create the collection of the points (x,f(x)) before plotting\n",
    "set_of_points = [(x,f(x)) for x in domain_of_f]\n",
    "\n",
    "# The following are just commands for the plotting procedures.\n",
    "# There's no need to be overly fixated on it\n",
    "plt.clf()\n",
    "range_of_f = [f(x) for x in domain_of_f]\n",
    "plt.plot(domain_of_f,range_of_f,'ro')\n",
    "ax = plt.gca()\n",
    "ax.spines['top'].set_visible(False)\n",
    "ax.spines['right'].set_visible(False)\n",
    "for x in domain_of_f:\n",
    "    point = (x,f(x))\n",
    "    plt.annotate(f'{point}',point)\n",
    "\n",
    "# show the plot at the end\n",
    "plt.show()"
   ]
  },
  {
   "cell_type": "markdown",
   "metadata": {},
   "source": [
    "Similarly, for the relation $g$, $1 \\mapsto 5$, $2 \\mapsto 7$, $3 \\mapsto 9$, $4 \\mapsto 7$."
   ]
  },
  {
   "cell_type": "code",
   "execution_count": 16,
   "metadata": {},
   "outputs": [
    {
     "data": {
      "image/png": "[encoded data removed]",
      "text/plain": [
       "<Figure size 432x288 with 1 Axes>"
      ]
     },
     "metadata": {
      "needs_background": "light"
     },
     "output_type": "display_data"
    }
   ],
   "source": [
    "# We import the following so\n",
    "from matplotlib import pyplot as plt\n",
    "\n",
    "# Rule of g\n",
    "def g(x):\n",
    "    if x == 1:\n",
    "        return 5\n",
    "    if x == 2:\n",
    "        return 7 \n",
    "    if x == 3:\n",
    "        return 9 \n",
    "    if x == 4:\n",
    "        return 7 \n",
    "\n",
    "# domain of g\n",
    "domain_of_g = [1,2,3,4]\n",
    "\n",
    "# create the collection of the points (x,f(x)) before plotting\n",
    "set_of_points = [(x,g(x)) for x in domain_of_g]\n",
    "\n",
    "# The following are just commands for the plotting procedures.\n",
    "# There's no need to be overly fixated on it\n",
    "plt.clf()\n",
    "range_of_g = [g(x) for x in domain_of_g]\n",
    "plt.plot(domain_of_g,range_of_g,'ro')\n",
    "ax = plt.gca()\n",
    "ax.spines['top'].set_visible(False)\n",
    "ax.spines['right'].set_visible(False)\n",
    "for x in domain_of_f:\n",
    "    point = (x,g(x))\n",
    "    plt.annotate(f'{point}',point)\n",
    "\n",
    "# show the plot at the end\n",
    "plt.show()"
   ]
  },
  {
   "cell_type": "markdown",
   "metadata": {},
   "source": [
    "The graphical representation of a relation can also show when the relation is not a function. In example 1, we see the relation $h$, $1 \\mapsto 3$, $2 \\mapsto 7$, 3 is mapped twice to different elements in $Y$, $3 \\mapsto 3$, $3 \\mapsto 9$, and 4 isn't mapped to anything. Note in the following graph that there are 2 points ( $(3,3)$ and $(3,9)$) that has the same input value $x$. By definition of a function, such thing cannot happen (see earlier section). As such, $h$ cannot be a function."
   ]
  },
  {
   "cell_type": "code",
   "execution_count": 21,
   "metadata": {},
   "outputs": [
    {
     "data": {
      "image/png": "[encoded data removed]",
      "text/plain": [
       "<Figure size 432x288 with 1 Axes>"
      ]
     },
     "metadata": {
      "needs_background": "light"
     },
     "output_type": "display_data"
    }
   ],
   "source": [
    "# We import the following so\n",
    "from matplotlib import pyplot as plt\n",
    "\n",
    "# Note that we would even have problem in defining the relation h as\n",
    "# when x = 3, there are 2 return values\n",
    "\n",
    "# create the collection of the points (x,f(x)) before plotting\n",
    "set_of_points = [(1,3),(2,7),(3,3),(3,9)]\n",
    "\n",
    "# The following are just commands for the plotting procedures.\n",
    "# There's no need to be overly fixated on it\n",
    "plt.clf()\n",
    "x=0\n",
    "y=1\n",
    "plt.plot([pt[x] for pt in set_of_points],[pt[y] for pt in set_of_points],'ro')\n",
    "ax = plt.gca()\n",
    "ax.spines['top'].set_visible(False)\n",
    "ax.spines['right'].set_visible(False)\n",
    "for point in set_of_points:\n",
    "    plt.annotate(f'{point}',point)\n",
    "\n",
    "# show the plot at the end\n",
    "plt.show()"
   ]
  },
  {
   "cell_type": "markdown",
   "metadata": {},
   "source": [
    "The power of this approach is more apparent when there're are many more points on the graph. In such case, whenever a vertical line $x = k$ can be drawn such that it cuts through the graph at least twice. The relation cannot be a function. This test to check if a relation is a function or not is called the **vertical line test**, i.e., to check if a relation is a function, draw vertical lines and check if it cuts the graph more than once. "
   ]
  },
  {
   "cell_type": "markdown",
   "metadata": {},
   "source": []
  },
  {
   "cell_type": "code",
   "execution_count": 20,
   "metadata": {},
   "outputs": [
    {
     "name": "stdout",
     "output_type": "stream",
     "text": [
      "[1, 2, 3, 3]\n",
      "[1, 2, 3, 3]\n"
     ]
    }
   ],
   "source": []
  },
  {
   "cell_type": "code",
   "execution_count": null,
   "metadata": {},
   "outputs": [],
   "source": []
  }
 ],
 "metadata": {
  "interpreter": {
   "hash": "9855bcb2db2fc1adb021fa4ac9c7dfbb81452ef889b3ef5659154f2722c9fc88"
  },
  "kernelspec": {
   "display_name": "Python 3.7.6 ('base')",
   "language": "python",
   "name": "python3"
  },
  "language_info": {
   "codemirror_mode": {
    "name": "ipython",
    "version": 3
   },
   "file_extension": ".py",
   "mimetype": "text/x-python",
   "name": "python",
   "nbconvert_exporter": "python",
   "pygments_lexer": "ipython3",
   "version": "3.10.2"
  },
  "orig_nbformat": 4
 },
 "nbformat": 4,
 "nbformat_minor": 2
}
