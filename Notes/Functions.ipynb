{
 "cells": [
  {
   "cell_type": "markdown",
   "metadata": {},
   "source": [
    "# 0. Motivation\n",
    "\n",
    "Talk about how a single layered network works and explain how sigmoid/logistic helps with training ... could be a running example across topics"
   ]
  },
  {
   "cell_type": "markdown",
   "metadata": {},
   "source": [
    "# 1. Functions – Rule, Domain and Range\n",
    "Let $X$ and $Y$ be sets. A **function** $f$ from $X$ to $Y$, denoted as $f:X\\rightarrow Y$, is a mapping (think of this as a way to associate or relate or pair) of *each element* of the set $X$ to exactly one of the elements of the set $Y$. To denote elements $x$ and $y$ are paired, we write $x\\mapsto y$. Furthermore, if the element $x$ in $X$ is mapped to the element $y$ in $Y$ by the function $f$, we write $f(x)=y$, and we say that $y$ is the **image of $x$ under $f$**. Besides a way of association, with this definition, we can think of a function $f$ of some kind of machine that accepts an input $x\\in X$ and gives an output $y\\in Y$. \n",
    "\n",
    ">Note:\n",
    ">- *each element* means that every element in $X$ has to be associated to some element in $Y$. However, not every element in $Y$ has to be associated with.\n",
    ">- *exactly one* means that a function is single-valued. It will not give more than one output for the same input.\n",
    "\n",
    "### Example 1\n",
    "Let $X=\\{ 1, 2, 3, 4\\}$ and $Y=\\{ 3,5,7,9\\}$. \n",
    "- **(a)** Let $f$ be a way of relating the elements $1,2,3,4$ in $X$ with the elements in $5,3,7,9$ in $Y$ respectively. We write:\n",
    "    - $1 \\mapsto 5$, $2 \\mapsto 3$, $3 \\mapsto 7$, $4 \\mapsto 9$\n",
    "    - $f$ is a function because it fulfills the definition above. \n",
    "- **(b)** Let $g$ be a way of relating the elements $1,2,3,4$ in $X$ with the elements in $3,7,9,7$ in $Y$ respectively. We write:\n",
    "    - $1 \\mapsto 3$, $2 \\mapsto 7$, $3 \\mapsto 9$, $4 \\mapsto 7$\n",
    "    - $g$ is also a function because it fulfills the definition above. \n",
    "- **(c)** Let $h$ be a way of relating the elements $1,2,3,3$ in $X$ with the elements in $3,7,3,9$ in $Y$ respectively. We write:\n",
    "    - $1 \\mapsto 3$, $2 \\mapsto 7$, 3 is mapped twice to different elements in $Y$, $3 \\mapsto 3$, $3 \\mapsto 9$, and 4 isn't mapped to anything.\n",
    "    - $h$ is **NOT** a function because it violates 2 conditions in the definition above (See Note). \n",
    "\n",
    "For a function $f:X\\rightarrow Y$,:\n",
    "- the set $X$ is called the **domain of $f$**, denoted by $D_{f}$. \n",
    "- The set $Y$ is called the **codomain of $f$**, and\n",
    "- the *set of elements in the set $Y$ with at least one element $x$ in the set $X$ associated to it* is called the **range of $f$**, usually denoted by $R_{f}$. In other words, The range of $f$ is defined as the set of all the possible images of the elements of $X$ under the function $f$ i.e., $R_f =\\{f(x) : x\\in X\\}$.\n",
    "- It is quite obvious from the definition that the range $R_f$ is always a subset of the codomain of $f$.\n",
    "\n",
    "### Example 2\n",
    "Referring back to Example 1\n",
    "- **(a)** $D_f=\\{1,2,3,4\\}$, $R_f=\\{3,5,7,9\\}$ and $R_f$ is the same as the codomain of $f$.\n",
    "- **(b)** $D_g=\\{1,2,3,4\\}$, $R_g=\\{3,7,9\\}$ and $R_g$ is a proper subset of the codomain of $f$.\n",
    "- **(c)** THe terms wouldn't make sense as the relation $h$ is not even a function. In our definition, the concepts of domain, codomain and range only makes sense if the relation is a function.\n",
    "\n",
    "In a function $f:X\\rightarrow Y$, the precise description of the way to associate element $x\\in X$ with some element $y\\in Y$ is termed the **rule of $f$**. We have seen earlier that if $y$ and $x$ is associated as such, we write $f(x)=y$. Therefore, we can also take that $f(x)$ as the rule of the function $f$. And in A-Level, $f(x)$ is often an expression in the variable $x$. Also, if use the machine anology, we can think of domain of $f$ as the collection of all possible inputs of the function.\n",
    "\n",
    "> To define a function $f$, it is imperative to supply:\n",
    "> 1. the *rule* of $f$, and \n",
    "> 2. the *domain* of $f$. \n",
    "\n",
    "### Example 3\n",
    "Let $f$ be a function that maps the element $x\\in X=\\{1,2,3,4\\}$ with the square of itself $x^2$. Then, we have $x\\mapsto x^2$, or $f(x)$ which is $x^2$, to be the rule of $f$.\n",
    "\n",
    "With Python, given the domain and rule of $f$, we can use *list comprehension* to get the range of $f$! This is very nice, because this way of doing matches with how we mathematically define $R_f$.\n",
    "\n",
    "> Note that "
   ]
  },
  {
   "cell_type": "code",
   "execution_count": 14,
   "metadata": {},
   "outputs": [
    {
     "data": {
      "text/latex": [
       "$\\displaystyle R_f=\\{ {16, 1, 4, 9} \\}$"
      ],
      "text/plain": [
       "<IPython.core.display.Math object>"
      ]
     },
     "metadata": {},
     "output_type": "display_data"
    }
   ],
   "source": [
    "# We import the following so that we can display the results prettily\n",
    "from IPython.display import Math,display,Latex\n",
    "\n",
    "# Here's the \"domain\" (set of input values). Technically, sets doesn't have an order.\n",
    "# In this case we're actually using a list for the iteration.\n",
    "X = [1,2,3,4]\n",
    "\n",
    "# Defining the function f\n",
    "def f(x):\n",
    "    # We return the elements that is associated with x under the\n",
    "    # desired rule\n",
    "    return x**2\n",
    "\n",
    "# Collecting the elements that elements in the domain gets mapped to\n",
    "# and put them in a list. \n",
    "range_of_f = [f(x) for x in X]\n",
    "\n",
    "display(Math(f'R_f=\\{{ {set(range_of_f)} \\}}'))"
   ]
  },
  {
   "cell_type": "markdown",
   "metadata": {},
   "source": [
    "## 1.1 Interval Notation\n",
    "When dealing with domains and ranges of functions, in A-Level, we don't usually deal with finite number of values, e.g. $x\\geq 3$ are ALL $x$-values greater than 3. As such, representation by listing out in terms of elements in sets are often impossible. Consequently, the following shorthand **interval notation** together with their meaning is listed below. We will use them often and thus, familiarity with these notations is going to be assumed for subsequent parts.\n",
    "\n",
    "Let $a$ and $b$ be real numbers such that $a\\leq b$, we have:\n",
    "- $[a,b] = \\{ x\\in \\mathbb{R}: a\\leq x\\leq b\\}$\n",
    "- $[a,b) = \\{ x\\in \\mathbb{R}: a\\leq x< b\\}$\n",
    "- $(a,b] = \\{ x\\in \\mathbb{R}: a< x\\leq b\\}$\n",
    "- $(a,b) = \\{ x\\in \\mathbb{R}: a< x< b\\}$ \n",
    "- $(a,\\infty) = \\{ x\\in \\mathbb{R}: a< x\\}$. Note that we don't write $a<x<\\infty$.\n",
    "- $(-\\infty,a) = \\{ x\\in \\mathbb{R}: x<a\\}$ \n",
    "- $[a,\\infty) = \\{ x\\in \\mathbb{R}: a\\leq  x\\}$. \n",
    "- $(-\\infty,a] = \\{ x\\in \\mathbb{R}: x\\leq a\\}$ \n",
    "- $(-\\infty,\\infty) = \\mathbb{R}$ is special. \n",
    "\n",
    "Square brackets `[]` are used to denote that in the interval the end points are *included* while parentheses `()` are used when the end points of the interval are *excluded*.\n",
    "\n",
    "## Example 4\n",
    "Students at this level often use the set notation haphazardly. To illustrate this, consider $\\{1,8\\}$ and $[1,8]$. They look similar but has completely different meaning.\n",
    "- $\\{1,8\\}$ is a set containing **two** elements, namely $1$ and $8$, while,\n",
    "- $[1,8]= \\{ x\\in \\mathbb{R}: 1\\leq x\\leq 8\\}$ has infinitely many elements. "
   ]
  },
  {
   "cell_type": "markdown",
   "metadata": {},
   "source": [
    "# 2. Representations of Relations\n",
    "Let $X$ and $Y$ be sets. Besides the representation shown in Example 1, the relation between the elements $x\\in X$ and $y\\in Y$ can be illustrated by any of the following.\n",
    "\n",
    "## 2.1 Tabular Representation\n",
    "In the **tabular representation**, we have two columns in the table. One column contains the values $x$ in the domain and the other, the value $y$ in the codomain such that $f(x)=y$.\n",
    "\n",
    "Using the relations in Example 1, we have the following tables\n",
    "\n",
    "<center>\n",
    "\n",
    "| $x$ | $y$ |\n",
    "|-|-|\n",
    "|1|5\n",
    "|2|3\n",
    "|3|7\n",
    "|4|9\n",
    "\n",
    "<br>\n",
    "\n",
    "| $x$ | $y$ |\n",
    "|-|-|\n",
    "|1|3\n",
    "|2|7\n",
    "|3|9\n",
    "|4|7\n",
    "\n",
    "<br>\n",
    "\n",
    "| $x$ | $y$ |\n",
    "|-|-|\n",
    "|1|3\n",
    "|2|7\n",
    "|3|3,9\n",
    "\n",
    "</center>\n",
    "\n",
    "In this tabular form, we can detect whether a relation is not a function by looking at the values in the column.\n",
    "- if **column containing values from the domain has missing values from the domain**, the relation cannot be a function\n",
    "- if **a cell in the column containing values from the codomain has more than 1 values in it**, the relation cannot be a function\n",
    "\n",
    "## 2.2 Venn Diagram Representation\n",
    "When the number of elements in the sets are small, besides tabular form, we can also use the **venn diagram reprentation**. In this representation, the sets are drawn as two different bubbles with the elements inside each set drawn inside the bubbles as well. The association between the elements from the two sets are shown by drawing an arrow between those elements, i.e. if $x\\mapsto y$ or $y=f(x)$, we draw an arrow starting from $x\\in X$ and point to $y\\in Y$.\n",
    "\n",
    "Using the relations in Example 1 again, we have \n",
    "\n",
    "<center>\n",
    "\n",
    "<img src=\"img/function-venn.png\" width=\"600\"  align=\"center\"/>\n",
    "\n",
    "</center>\n",
    "\n",
    "<br>\n",
    "\n",
    "Note:\n",
    "- The relation as shown in Figure A satisfies the definition of a function as every element in $X$ is mapped to exactly one element in $Y$. \n",
    "- For Figure B, we see that two elements of $X$ (namely 2 and 4) are mapped to the element 7 in $Y$, this relation shown  still satisfies the definition of a function. If there are more than one element in the input space (domain) gets mapped to the same element in the output space (codomain), we call this relation **many-to-one**. From the example, we see that a many-to-one relation is a function.\n",
    "- The relation as shown in Figure C is not a function for two reasons.\n",
    "    - the element 3 in $X$ is mapped to two elements in $Y$, and\n",
    "    - the element 4 in $X$ is not mapped to any element in $Y$.\n",
    "    In this example, if any of the reason above holds, the relation is already not a function as it fails the definition.\n",
    "    Such relation such that there are elements in the domain that gets mapped to the different elements in the codomain is called  **one-to-many**.\n",
    "    From the example, we see that a one-to-many relation is *NOT a function*.\n",
    "\n",
    "\n",
    "## 2.3 Graphical Representation on 2D Cartesian plane.\n",
    "This representation of relations is by far the most useful, which contributes to its popularity in mathematics. \n",
    "\n",
    "Let $X$ and $Y$ be sets. In this **graphical representation**, if $x\\mapsto y$, we can create a point $(x,y)$ and plot this point in the Cartesian plane. \n",
    "\n",
    "Again, we use the relations in Example 1. Refer to the diagrams in Example 4 and Example 5.\n",
    "\n",
    "> Note: This last representation is the reason why the relation $y=mx+c$ which you probably would have encountered earlier in your previous mathematics classes be called *linear*, as when you plot all the pairs under the relation, it really looks like a line. \n",
    "\n",
    "### Example 5\n",
    "Recall that in the example 1, for the relation $f$, $1 \\mapsto 5$, $2 \\mapsto 3$, $3 \\mapsto 7$, $4 \\mapsto 9$. As such, we:\n",
    "1. create all the points, which are $(1,5)$, $(2,3)$, $(3,7)$, $(4,9)$,\n",
    "2. plot the points on the Cartesian plane"
   ]
  },
  {
   "cell_type": "code",
   "execution_count": 7,
   "metadata": {},
   "outputs": [
    {
     "data": {
      "image/png": "[encoded data removed]",
      "text/plain": [
       "<Figure size 432x288 with 1 Axes>"
      ]
     },
     "metadata": {
      "needs_background": "light"
     },
     "output_type": "display_data"
    }
   ],
   "source": [
    "# We import the following so\n",
    "from matplotlib import pyplot as plt\n",
    "\n",
    "# Rule of f\n",
    "def f(x):\n",
    "    if x == 1:\n",
    "        return 5\n",
    "    if x == 2:\n",
    "        return 3 \n",
    "    if x == 3:\n",
    "        return 7 \n",
    "    if x == 4:\n",
    "        return 9 \n",
    "\n",
    "# domain of f\n",
    "domain_of_f = [1,2,3,4]\n",
    "\n",
    "# create the collection of the points (x,f(x)) before plotting\n",
    "set_of_points = [(x,f(x)) for x in domain_of_f]\n",
    "\n",
    "# The following are just commands for the plotting procedures.\n",
    "# There's no need to be overly fixated on it\n",
    "plt.clf()\n",
    "range_of_f = [f(x) for x in domain_of_f]\n",
    "plt.plot(domain_of_f,range_of_f,'ro')\n",
    "ax = plt.gca()\n",
    "ax.spines['top'].set_visible(False)\n",
    "ax.spines['right'].set_visible(False)\n",
    "for x in domain_of_f:\n",
    "    point = (x,f(x))\n",
    "    plt.annotate(f'{point}',point)\n",
    "\n",
    "# show the plot at the end\n",
    "plt.show()"
   ]
  },
  {
   "cell_type": "markdown",
   "metadata": {},
   "source": [
    "Similarly, for the relation $g$, $1 \\mapsto 5$, $2 \\mapsto 7$, $3 \\mapsto 9$, $4 \\mapsto 7$."
   ]
  },
  {
   "cell_type": "code",
   "execution_count": 3,
   "metadata": {},
   "outputs": [
    {
     "data": {
      "image/png": "[encoded data removed]",
      "text/plain": [
       "<Figure size 432x288 with 1 Axes>"
      ]
     },
     "metadata": {
      "needs_background": "light"
     },
     "output_type": "display_data"
    }
   ],
   "source": [
    "# We import the following so\n",
    "from matplotlib import pyplot as plt\n",
    "\n",
    "# Rule of g\n",
    "def g(x):\n",
    "    if x == 1:\n",
    "        return 5\n",
    "    if x == 2:\n",
    "        return 7 \n",
    "    if x == 3:\n",
    "        return 9 \n",
    "    if x == 4:\n",
    "        return 7 \n",
    "\n",
    "# domain of g\n",
    "domain_of_g = [1,2,3,4]\n",
    "\n",
    "# create the collection of the points (x,f(x)) before plotting\n",
    "set_of_points = [(x,g(x)) for x in domain_of_g]\n",
    "\n",
    "# The following are just commands for the plotting procedures.\n",
    "# There's no need to be overly fixated on it\n",
    "plt.clf()\n",
    "range_of_g = [g(x) for x in domain_of_g]\n",
    "plt.plot(domain_of_g,range_of_g,'ro')\n",
    "ax = plt.gca()\n",
    "ax.spines['top'].set_visible(False)\n",
    "ax.spines['right'].set_visible(False)\n",
    "for x in domain_of_g:\n",
    "    point = (x,g(x))\n",
    "    plt.annotate(f'{point}',point)\n",
    "\n",
    "# show the plot at the end\n",
    "plt.show()"
   ]
  },
  {
   "cell_type": "markdown",
   "metadata": {},
   "source": [
    "The graphical representation of a relation can also show when the relation is not a function. In example 1, we see the relation $h$, $1 \\mapsto 3$, $2 \\mapsto 7$, 3 is mapped twice to different elements in $Y$, $3 \\mapsto 3$, $3 \\mapsto 9$, and 4 isn't mapped to anything. Note in the following graph that there are 2 points ( $(3,3)$ and $(3,9)$) that has the same input value $x$. By definition of a function, such thing cannot happen (see earlier section). As such, $h$ cannot be a function."
   ]
  },
  {
   "cell_type": "code",
   "execution_count": 21,
   "metadata": {},
   "outputs": [
    {
     "data": {
      "image/png": "[encoded data removed]",
      "text/plain": [
       "<Figure size 432x288 with 1 Axes>"
      ]
     },
     "metadata": {
      "needs_background": "light"
     },
     "output_type": "display_data"
    }
   ],
   "source": [
    "# We import the following \n",
    "from matplotlib import pyplot as plt\n",
    "\n",
    "# Note that we would even have problem in defining the relation h as\n",
    "# when x = 3, there are 2 return values\n",
    "\n",
    "# create the collection of the points (x,f(x)) before plotting\n",
    "set_of_points = [(1,3),(2,7),(3,3),(3,9)]\n",
    "\n",
    "# The following are just commands for the plotting procedures.\n",
    "# There's no need to be overly fixated on it\n",
    "plt.clf()\n",
    "x=0\n",
    "y=1\n",
    "plt.plot([pt[x] for pt in set_of_points],[pt[y] for pt in set_of_points],'ro')\n",
    "ax = plt.gca()\n",
    "ax.spines['top'].set_visible(False)\n",
    "ax.spines['right'].set_visible(False)\n",
    "for point in set_of_points:\n",
    "    plt.annotate(f'{point}',point)\n",
    "\n",
    "# show the plot at the end\n",
    "plt.show()"
   ]
  },
  {
   "cell_type": "markdown",
   "metadata": {},
   "source": [
    "The power of this approach is more apparent when there're are many points defined by the relation. As we could show further connections between the points in the relation, like shapes they trace, clustering etc. \n",
    "\n",
    "### Example 6\n",
    "In the following example, we will show how the function $$f:x\\mapsto x^2, \\quad \\text{for } x\\geq 2$$ can be represented by the graphical approach.\n",
    "\n",
    "> Note that the interval $x\\geq 2$ actually contains **infinite number of points**. In Python, we can't actually have infinitely many such points and also the lower $x_l$ and upper bounds $x_u$ of the $x$ values has to be determined before plotting. As such, the trick is to \n",
    "> 1. limit the number $n$ of the points that we want to display. To mimic an infinite number of points behaviour, we pick a large enough value of $n$ that is appropriate\n",
    ">2. to distribute $n$ points across the $x$-values uniformly, we \n",
    ">    - set $\\Delta x=\\frac{x_{l}-x_{u}}{n}$, and \n",
    ">    - compute $f(x+i\\Delta x)$ for $0 \\leq i \\leq n$,\n",
    ">    - collect these computed values into a list of $(x,f(x))$ values. These are our points.\n",
    ">3. plot the points on the cartesian diagram. Adjusting value of $n$ if necessary to achieve the smoothness and connectedness of the curve"
   ]
  },
  {
   "cell_type": "code",
   "execution_count": 16,
   "metadata": {},
   "outputs": [
    {
     "data": {
      "image/png": "[encoded data removed]",
      "text/plain": [
       "<Figure size 432x288 with 1 Axes>"
      ]
     },
     "metadata": {
      "needs_background": "light"
     },
     "output_type": "display_data"
    }
   ],
   "source": [
    "from matplotlib import pyplot as plt\n",
    "\n",
    "# Rule of f\n",
    "def f(x):\n",
    "    return x**2 \n",
    "\n",
    "# Mimicking the domain of f \n",
    "upper_x_bound = 10\n",
    "lower_x_bound = 0\n",
    "no_of_points = 100\n",
    "domain_of_f = [2+((upper_x_bound-lower_x_bound)/no_of_points)*i for i in range(no_of_points)]\n",
    "\n",
    "# create the collection of the points (x,f(x)) before plotting\n",
    "set_of_points = [(x,f(x)) for x in domain_of_f]\n",
    "\n",
    "# The following are just commands for the plotting procedures.\n",
    "# There's no need to be overly fixated on it\n",
    "plt.clf()\n",
    "range_of_f = [f(x) for x in domain_of_f]\n",
    "plt.plot(domain_of_f,range_of_f,'ro')\n",
    "ax = plt.gca()\n",
    "ax.spines['top'].set_visible(False)\n",
    "ax.spines['right'].set_visible(False)\n",
    "ax.set_xbound(lower=0, upper=None)\n",
    "\n",
    "# show the plot at the end\n",
    "plt.show()"
   ]
  },
  {
   "cell_type": "markdown",
   "metadata": {},
   "source": [
    "Recall that the range of a function $f:X\\rightarrow Y$ is defined as the set of all the possible images of the elements of $X$ under the function $f$.\n",
    "\n",
    "### Example 7\n",
    "- **(a)** Given that $f$ is the function with rule $f(x)=x^3$ defined on $D_f=\\{1,2,3\\}$. Find $R_f$.\n",
    "- **(b)** Given that $g$ is the function with rule $g(x)=x^3$ defined on $D_g=[1,3]$. Find $R_g$.  \n",
    "- **(c)** Given that $h$ is the function with rule $h(x)=x^3$ defined on $D_h=[1,3]$. Find $R_h$.    "
   ]
  },
  {
   "cell_type": "code",
   "execution_count": 49,
   "metadata": {},
   "outputs": [
    {
     "data": {
      "image/png": "[encoded data removed]",
      "text/plain": [
       "<Figure size 432x288 with 1 Axes>"
      ]
     },
     "metadata": {
      "needs_background": "light"
     },
     "output_type": "display_data"
    },
    {
     "data": {
      "image/png": "[encoded data removed]",
      "text/plain": [
       "<Figure size 432x288 with 1 Axes>"
      ]
     },
     "metadata": {
      "needs_background": "light"
     },
     "output_type": "display_data"
    },
    {
     "data": {
      "image/png": "[encoded data removed]",
      "text/plain": [
       "<Figure size 432x288 with 1 Axes>"
      ]
     },
     "metadata": {
      "needs_background": "light"
     },
     "output_type": "display_data"
    }
   ],
   "source": [
    "# We import the following so\n",
    "from matplotlib import pyplot as plt\n",
    "\n",
    "# Rules of f, g and h\n",
    "def f(x):\n",
    "    return x**3\n",
    "\n",
    "def g(x):\n",
    "    return x**3\n",
    "\n",
    "def h(x):\n",
    "    return (x-2)**2\n",
    "\n",
    "# domain of f, g, and h\n",
    "domain_of_f = [1,2,3]\n",
    "\n",
    "# Mimicking the domain of g and domain of h\n",
    "# the variables are repeated for clarity purpose\n",
    "upper_x_bound = 3\n",
    "lower_x_bound = 1\n",
    "no_of_points = 100\n",
    "domain_of_g = [1+((upper_x_bound-lower_x_bound)/no_of_points)*i for i in range(no_of_points)]\n",
    "domain_of_h = [1+((upper_x_bound-lower_x_bound)/no_of_points)*i for i in range(no_of_points)]\n",
    "\n",
    "# Plotting f\n",
    "plt.clf()\n",
    "range_of_f = [f(x) for x in domain_of_f]\n",
    "plt.plot(domain_of_f,range_of_f,'ro')\n",
    "ax = plt.gca()\n",
    "ax.spines['top'].set_visible(False)\n",
    "ax.spines['right'].set_visible(False)\n",
    "for x in domain_of_f:\n",
    "    point = (x,f(x))\n",
    "    plt.annotate(f'{point}',point)\n",
    "\n",
    "plt.show()\n",
    "\n",
    "# Plotting g\n",
    "plt.clf()\n",
    "range_of_g = [g(x) for x in domain_of_g]\n",
    "plt.plot(domain_of_g,range_of_g,'bo')\n",
    "ax = plt.gca()\n",
    "ax.spines['top'].set_visible(False)\n",
    "ax.spines['right'].set_visible(False)\n",
    "\n",
    "\n",
    "# annotating start and end point\n",
    "# note that in plt.annotate, we are just adjusting the 2nd argument for the position of the text for visual clarity\n",
    "domain_g_lower = 1\n",
    "domain_g_upper = 3\n",
    "start_point = (domain_g_lower,g(domain_g_lower))\n",
    "plt.annotate(f'{start_point}',(start_point[0],start_point[1]+2))\n",
    "end_point = (domain_g_upper,g(domain_g_upper))\n",
    "plt.annotate(f'{end_point}',(end_point[0],end_point[1]-2))\n",
    "\n",
    "plt.show()\n",
    "\n",
    "# Plotting h\n",
    "plt.clf()\n",
    "range_of_h = [h(x) for x in domain_of_h]\n",
    "plt.plot(domain_of_h,range_of_h,'bx')\n",
    "ax = plt.gca()\n",
    "ax.spines['top'].set_visible(False)\n",
    "ax.spines['right'].set_visible(False)\n",
    "\n",
    "# annotating start and end point\n",
    "# note that in plt.annotate, we are just adjusting the 2nd argument for the position of the text for visual clarity\n",
    "domain_h_lower = 1\n",
    "domain_h_upper = 3\n",
    "start_point = (domain_h_lower,h(domain_h_lower))\n",
    "plt.annotate(f'{start_point}',(start_point[0]+0.1,start_point[1]))\n",
    "end_point = (domain_h_upper,h(domain_h_upper))\n",
    "plt.annotate(f'{end_point}',(end_point[0],end_point[1]))\n",
    "min_point = (2,h(2))\n",
    "plt.annotate(f'{min_point}',(min_point[0],min_point[1]+0.05))\n",
    "\n",
    "plt.show()"
   ]
  },
  {
   "cell_type": "markdown",
   "metadata": {},
   "source": [
    "*Solution*:\n",
    "- **(a)** We have $f(1)=1$, $f(2)=8$ and $f(3)=27$. Hence, $R_f=\\{1,8,27\\}$.\n",
    "- **(b)** From the graph, we see that the values of $g(x)$ for any $x \\in D_g$ is between $1=g(1)$ and $27=g(3)$ inclusive. Hence, $R_g=[1,27]$.\n",
    "- **(c)** From the graph, we can see the values of $h(x)$ for any $x \\in D_h$ is between $0$, which happens to be the minimum value that $h(x)$ can take in the domain and $1=h(1)=h(3)$, which happens to be values at the end values of the interval $[1,3]$.\n",
    "\n",
    "Note:\n",
    "1.\tTo find the range of a function that is defined over an interval, it is highly recommended (for A-Level purpose, we will it **necessary**) to sketch the graph of the function **within the domain** for visual clarity. \n",
    "2.\tIn general, we cannot use the endpoints of the domain to find the range (see Example 7). Parts **(b)** and **(c)** illustrate this point. We can however do so if we are sure that the graph of the function is increasing or decreasing over the entire domain."
   ]
  },
  {
   "cell_type": "markdown",
   "metadata": {},
   "source": [
    "### Example 9\n",
    "State the rule and domain, and find the range of each of the following functions.\n",
    "- **(a)** $f:x\\mapsto x^2, x\\in \\mathbb{R}$\n",
    "- **(b)** $g:x\\mapsto x^2, x\\in [-1,1]$ \n",
    "- **(c)** $h:x\\mapsto x^2, x\\in [-1,2)$"
   ]
  },
  {
   "cell_type": "code",
   "execution_count": 57,
   "metadata": {},
   "outputs": [
    {
     "data": {
      "image/png": "[encoded data removed]",
      "text/plain": [
       "<Figure size 432x288 with 1 Axes>"
      ]
     },
     "metadata": {
      "needs_background": "light"
     },
     "output_type": "display_data"
    },
    {
     "data": {
      "image/png": "[encoded data removed]",
      "text/plain": [
       "<Figure size 432x288 with 1 Axes>"
      ]
     },
     "metadata": {
      "needs_background": "light"
     },
     "output_type": "display_data"
    },
    {
     "data": {
      "image/png": "[encoded data removed]",
      "text/plain": [
       "<Figure size 432x288 with 1 Axes>"
      ]
     },
     "metadata": {
      "needs_background": "light"
     },
     "output_type": "display_data"
    }
   ],
   "source": [
    "# We import the following so\n",
    "from matplotlib import pyplot as plt\n",
    "\n",
    "# Rules of f, g and h\n",
    "def f(x):\n",
    "    return x**2\n",
    "\n",
    "def g(x):\n",
    "    return x**2\n",
    "\n",
    "def h(x):\n",
    "    return x**2\n",
    "\n",
    "# Mimicking domain of f, g, and h\n",
    "upper_x_bound = 3\n",
    "lower_x_bound = 1\n",
    "no_of_points = 100\n",
    "domain_of_f = [-3+((3-(-3))/no_of_points)*i for i in range(no_of_points)]\n",
    "domain_of_g = [-1+((1-(-1))/no_of_points)*i for i in range(no_of_points)]\n",
    "domain_of_h = [-1+((2-(-1))/no_of_points)*i for i in range(no_of_points)]\n",
    "\n",
    "# Plotting f\n",
    "plt.clf()\n",
    "range_of_f = [f(x) for x in domain_of_f]\n",
    "plt.plot(domain_of_f,range_of_f,'ro')\n",
    "ax = plt.gca()\n",
    "ax.spines['top'].set_visible(False)\n",
    "ax.spines['right'].set_visible(False)\n",
    "ax.set_xbound(lower=-3, upper=3)\n",
    "ax.set_ybound(lower=-1, upper=5)\n",
    "\n",
    "# Since the domain is R, we don't annotate start and end points\n",
    "# We annotate the minimum point\n",
    "min_point = (0,0)\n",
    "plt.annotate(f'{min_point}',(min_point[0],min_point[1]+0.3))\n",
    "\n",
    "plt.show()\n",
    "\n",
    "# Plotting g\n",
    "plt.clf()\n",
    "range_of_g = [g(x) for x in domain_of_g]\n",
    "plt.plot(domain_of_g,range_of_g,'bo')\n",
    "ax = plt.gca()\n",
    "ax.spines['top'].set_visible(False)\n",
    "ax.spines['right'].set_visible(False)\n",
    "ax.set_xbound(lower=-3, upper=3)\n",
    "ax.set_ybound(lower=-1, upper=5)\n",
    "\n",
    "# annotating start and end point\n",
    "# note that in plt.annotate, we are just adjusting the 2nd argument for the position of the text for visual clarity\n",
    "domain_g_lower = -1\n",
    "domain_g_upper = 1\n",
    "start_point = (domain_g_lower,g(domain_g_lower))\n",
    "plt.annotate(f'{start_point}',(start_point[0],start_point[1]+0.1))\n",
    "end_point = (domain_g_upper,g(domain_g_upper))\n",
    "plt.annotate(f'{end_point}',(end_point[0],end_point[1]+0.1))\n",
    "min_point = (0,0)\n",
    "plt.annotate(f'{min_point}',(min_point[0],min_point[1]+0.3))\n",
    "\n",
    "plt.show()\n",
    "\n",
    "# Plotting h\n",
    "plt.clf()\n",
    "range_of_h = [h(x) for x in domain_of_h]\n",
    "plt.plot(domain_of_h,range_of_h,'bx')\n",
    "ax = plt.gca()\n",
    "ax.spines['top'].set_visible(False)\n",
    "ax.spines['right'].set_visible(False)\n",
    "ax.set_xbound(lower=-3, upper=3)\n",
    "ax.set_ybound(lower=-1, upper=5)\n",
    "\n",
    "# annotating start and end point\n",
    "# note that in plt.annotate, we are just adjusting the 2nd argument for the position of the text for visual clarity\n",
    "domain_h_lower = -1\n",
    "domain_h_upper = 2\n",
    "start_point = (domain_h_lower,h(domain_h_lower))\n",
    "plt.annotate(f'{start_point}',(start_point[0]+0.1,start_point[1]))\n",
    "end_point = (domain_h_upper,h(domain_h_upper))\n",
    "plt.annotate(f'{end_point}',(end_point[0],end_point[1]))\n",
    "min_point = (0,0)\n",
    "plt.annotate(f'{min_point}',(min_point[0],min_point[1]+0.3))\n",
    "\n",
    "\n",
    "plt.show()"
   ]
  },
  {
   "cell_type": "markdown",
   "metadata": {},
   "source": [
    "*Solution*\n",
    "\n",
    "From the graph plotted above, we have that \n",
    "\n",
    "<center>\n",
    "\n",
    "||Rule|Domain|Range|\n",
    "|-|-|-|-|\n",
    "|$f$|$f(x)=x^2$|$D_f=(-\\infty,\\infty)$|$R_f=[0,\\infty)$|\n",
    "|$g$|$g(x)=x^2$|$D_g=[-1,1]$|$R_g=[0,1]$|\n",
    "|$h$|$h(x)=x^2$|$D_h=[-1,2)$|$R_h=[0,4)$|\n",
    "\n",
    "</center>\n",
    "\n",
    "<br>\n",
    "\n",
    "> Note:\tThough functions $f$, $g$ and $h$ have the same rule, they have different domains. The implication is that the graphs of functions $f$, $g$ and $h$ look different. As a result, functions $f$, $g$ and $h$ are not the same functions."
   ]
  },
  {
   "cell_type": "markdown",
   "metadata": {},
   "source": [
    "### 2.3.1 Vertical Line Test\n",
    "Furthermore, to determine whether a relation is indeed a function with the graphical relation, we can use the **vertical line test** (VLT). With this test, we:\n",
    "1. try to find a vertical line $x = k$ that can be drawn such that it cuts through the graph at least twice. \n",
    "2. if such vertical line exists, the relation cannot be a function. (why?)\n",
    "3. on the other hand, if such vertical line cannot be drawn, the relation is indeed a function.  \n",
    "\n",
    "Observe that the graph of $f$ is only defined for $x \\geq 2$ from its definition. Thus, if we apply VLT, we only try to find a vertical line $x = k$, where $k \\in D_f$, i.e $x\\geq 2$. And it can be observed that no such vertical line exists. \n",
    "\n",
    "### Example 8\n",
    "In the following example, the relation that is represented by the graph **IS NOT A FUNCTION** as it fails the vertical line test."
   ]
  },
  {
   "cell_type": "code",
   "execution_count": 21,
   "metadata": {},
   "outputs": [
    {
     "data": {
      "image/png": "[encoded data removed]",
      "text/plain": [
       "<Figure size 432x288 with 1 Axes>"
      ]
     },
     "metadata": {
      "needs_background": "light"
     },
     "output_type": "display_data"
    }
   ],
   "source": [
    "from matplotlib import pyplot as plt\n",
    "\n",
    "# Rule of the relation\n",
    "def relation(x):\n",
    "    return x**2 - 5 \n",
    "\n",
    "# Mimicking the interval of x\n",
    "upper_x_bound = 10\n",
    "lower_x_bound = -10\n",
    "no_of_points = 1000\n",
    "interval_of_relation = [lower_x_bound+((upper_x_bound-lower_x_bound)/no_of_points)*i for i in range(no_of_points)]\n",
    "\n",
    "# create the collection of the points before plotting\n",
    "set_of_points = [(relation(x),x) for x in interval_of_relation]\n",
    "\n",
    "# The following are just commands for the plotting procedures.\n",
    "# There's no need to be overly fixated on it\n",
    "plt.clf()\n",
    "values = [relation(x) for x in interval_of_relation]\n",
    "plt.plot(values,interval_of_relation,'ro')\n",
    "ax = plt.gca()\n",
    "ax.spines['top'].set_visible(False)\n",
    "ax.spines['right'].set_visible(False)\n",
    "ax.set_xbound(lower=lower_x_bound, upper=upper_x_bound)\n",
    "ax.set_ybound(lower=-10, upper=10)\n",
    "\n",
    "# show the plot at the end\n",
    "plt.show()"
   ]
  },
  {
   "cell_type": "markdown",
   "metadata": {},
   "source": [
    "It fails the vertical line test because the vertical line $x=0$ will cut the graph *more than once* (twice in this case).\n",
    "\n",
    "The rule of the relation in the above graph is actually $y^2 - 5 = x$ for $x \\geq 0$. If we see the algebraic form of the relation, we see that for any $x$, we have $x \\mapsto \\sqrt{x+5}$ and $x \\mapsto -\\sqrt{x+5}$. In other words, a single value of $x$ (except 0) is mapped to two different values, violating the definition of a function discussed in Section 1."
   ]
  },
  {
   "cell_type": "markdown",
   "metadata": {},
   "source": [
    "# 3. Equality of Functions\n",
    "Let $f$ and $g$ be functions, we say $f = g$ if \n",
    "1. the domains of $f$ and $g$ is the same, i.e. $D_f = D_g$, and\n",
    "2. $f(x)=g(x)$ for all the values in their domain. Roughly speaking, the 'rules are the same' (in inverted comma, because the two expressions could look different but evaluated to the same value)\n",
    "\n",
    "### Example 7\n",
    "1. The function $f:x\\mapsto 2x, x>=0$ is not the same as the function $g:x \\mapsto 2x, x>=-1$ even though they have the same rule.\n",
    "2. The functions $h_1:x \\mapsto \\sin{x}, x\\in \\{k\\pi : k\\in \\mathbb{Z}\\}$ is the same as the function $h_2:x\\mapsto 0, x\\in \\{k\\pi : k\\in \\mathbb{Z}\\}$."
   ]
  },
  {
   "cell_type": "markdown",
   "metadata": {},
   "source": [
    "# 4. Piecewise Function\n",
    "A **piecewise function** is one that has a different rule for different intervals (think parts) of its domain component. \n",
    "\n",
    "> In Python, this basically means that we can just use `if` conditional statement to handle the different rules for the different intervals. \n",
    "\n",
    "## Example 8\n",
    "A piecewise function $g$ is defined as $$g\\left(x\\right)=\\begin{cases}\n",
    "-x+1, & x<0,\\\\\n",
    "x, & x\\geq0.\n",
    "\\end{cases}$$\n",
    " \n",
    "Find the range of $g$."
   ]
  },
  {
   "cell_type": "markdown",
   "metadata": {},
   "source": [
    "*Solution*\n",
    "\n",
    "The graphical representation of $g$ is as follows."
   ]
  },
  {
   "cell_type": "code",
   "execution_count": 60,
   "metadata": {},
   "outputs": [
    {
     "data": {
      "image/png": "[encoded data removed]",
      "text/plain": [
       "<Figure size 432x288 with 1 Axes>"
      ]
     },
     "metadata": {
      "needs_background": "light"
     },
     "output_type": "display_data"
    }
   ],
   "source": [
    "# We import the following so\n",
    "from matplotlib import pyplot as plt\n",
    "\n",
    "# Rules of g\n",
    "def g(x):\n",
    "    # using if for the interval x<0\n",
    "    if x<0:\n",
    "        return -x+1\n",
    "\n",
    "    # the other rule for the interval x>=0    \n",
    "    elif x>=0:\n",
    "        return x\n",
    "\n",
    "# Mimicking domain of g\n",
    "upper_x_bound = 3\n",
    "lower_x_bound = -3\n",
    "no_of_points = 100\n",
    "domain_of_g = [-3+((3-(-3))/no_of_points)*i for i in range(no_of_points)]\n",
    "\n",
    "# Plotting g\n",
    "plt.clf()\n",
    "range_of_g = [g(x) for x in domain_of_g]\n",
    "plt.plot(domain_of_g,range_of_g,'ro')\n",
    "ax = plt.gca()\n",
    "ax.spines['top'].set_visible(False)\n",
    "ax.spines['right'].set_visible(False)\n",
    "ax.set_xbound(lower=-3, upper=3)\n",
    "ax.set_ybound(lower=-1, upper=5)\n",
    "\n",
    "# Since the domain is R, we don't annotate start and end points\n",
    "# We annotate the points where the pieces have different rule\n",
    "right_piece = (0,g(0))\n",
    "plt.annotate(f'{right_piece}',(right_piece[0],right_piece[1]-0.3))\n",
    "left_piece = (0,g(0)+1)\n",
    "plt.annotate(f'{left_piece}',(left_piece[0],left_piece[1]+0.3))\n",
    "\n",
    "plt.show()"
   ]
  },
  {
   "cell_type": "markdown",
   "metadata": {},
   "source": [
    "From the graph of $g$, we can see that $R_g=[0,\\infty)$."
   ]
  },
  {
   "cell_type": "markdown",
   "metadata": {},
   "source": [
    "# 5. One-to-One Functions\n",
    "We have defined functions to be relations that have exactly one output for every possible input. This does not restrict that the output cannot be repeated. It is natural to consider whether we can have functions that have a unique output for every possible input. If this is possible, then if we know the output of the function, we can easily recover the input. \n",
    "\n",
    "An example that describes the desirability of this situation would be a mapping from a person to his/her IC number. Given we have a database of the details of the people, by knowing the IC number of a person, we can easily recover various details of the person like name, contact etc. \n",
    "\n",
    "Given a function $f$, we say that $f$ is **one-to-one** (or 1-1) if for any $x_1,x_2\\in X$ such that $x_1 \\neq x_2$, $f(x_1) \\neq f(x_2$. Or, equivalently, if $f(x_1)=f(x_2)$, then it must be the case that $x_1 = x_2$. \n",
    "\n",
    "In plain English, $f$ is 1-1 if no two elements of $X$ have the same image.\n",
    "\n",
    "<center>\n",
    "\n",
    "<img src=\"img/function-one-one.png\" width=\"600\"  align=\"center\"/>\n",
    "\n",
    "</center>\n",
    "\n",
    "<br>\n",
    "\n",
    "> In the above example:\n",
    "> - $f$ is not an example of a 1-1 function but we can *restrict its domain* to make it 1-1. Say, its minimum point occurs at $(a,f(a))$, then its restricted domain can be $x\\geq a$ for $f$ to be 1-1.\n",
    "> - Any value that is greater than $a$ can also be used. For example, if $b>a$ then $f(x)$ where $x\\geq b$ is also a 1-1 function.\n",
    "> - $x\\geq a$ or $x\\in [a,\\infty)$ is known as the **maximal domain** for $f$ to be 1-1. We will define it below.\n",
    "\n",
    "## 5.1 Testing if a Function is 1-1\n",
    "Based on the definition of a one-one function given above, to show that a function $f$ is 1-1 using a graphical argument, we should \n",
    "- EITHER, show that **every** horizontal line $y=b$, $b\\in R_f$ cuts the graph of $y=f(x), x\\in D_f$ **exactly once**,\n",
    "- OR, show that **every** horizontal line $y=b$, $b\\in \\mathbb{R}$  cuts the graph of $y=f(x), x\\in D_f$ **at most once**.\n",
    "\n",
    "On the flipside, to show that a function f is NOT 1-1, we should provide a counter-example. This can be achieved by employing one of the following methods.\n",
    "- Method 1 Using a graphical argument: Find **one** horizontal line such that it cuts the graph of $y=f(x), x\\in D_f$ **at least twice**. \n",
    "- Method 2 Using the defintion: Find $x_1,x_2 \\in D_f$ such that $x_1\\neq x_2$ but $f(x_1)=f(x_2)$.\n",
    "\n",
    "> Note:\t\n",
    "> 1. It is necessary to provide a relevant graph and the statement above to show that the function is indeed 1-1. \n",
    "> 2. However to show that the function is not 1-1, we only need to provide a counterexample by stating explicitly an equation of a horizontal line that intersects the graph at least twice.\n",
    "\n",
    "<br>\n",
    "\n",
    "## Example 9\n",
    "We say a function $g$ is a **restriction of a function $f$** if:\n",
    "- the rule of $g$ is the same as $f$, i.e. $g(x)=f(x)$, but\n",
    "- domain of $g$ is strictly smaller than the domain of $f$, i.e. $D_g \\subset D_f$.\n",
    "\n",
    "Determine if the following are one-to-one functions, giving your reasons. If it is not one-to-one, find a restriction of the function with a maximal domain such that it is one-to-one and has the same range as the original function.\n",
    "- **(i)** $f:x\\mapsto x^2,x\\in \\mathbb{R}$, \t  \n",
    "- **(ii)** $g:x\\mapsto x^2-4x+1, x\\in \\mathbb{R}, x\\geq 1$,\t  \n",
    "- **(iii)** $h:x\\mapsto\\frac{1-x}{x},x>0$.\t  \n",
    "\n",
    "*Solution*\n",
    "- **(i)** The horizontal line $y=1$ cuts the graph of $y=x^2$ twice. Hence, $f$ is not 1-1.\n",
    "    Alternatively, since $f(-1)=1=f(1)$, $f$ is not 1-1. \n",
    "    Now $R_f=[0,\\infty)$. From the graph, if we restrict the domain to $[0,\\infty)$, then every horizontal line will cut the graph exactly once. Furthermore, the range is the same as $R_f$. Therefore, a required restriction of $f$ is $f_1:x\\mapsto x^2, x\\geq 0$.\n",
    "\n",
    "    <center>\n",
    "\n",
    "    <img src=\"img/function-one-one-1.png\" width=\"400\"  align=\"center\"/>\n",
    "\n",
    "    </center>\n",
    "- **(ii)** From the graph, the horizontal line $y=-2$ cuts the curve at 2 points. Hence $g$ is not 1-1. Alternatively, since $f(1)=-2=f(4)$, $f$ is not 1-1. Now $R_g=[-3,\\infty)$. From the graph, a restriction of $g$ is $g_1:x\\mapsto x^2-4x+1,x\\geq 2$.\n",
    "    <center>\n",
    "\n",
    "    <img src=\"img/function-one-one-2.png\" width=\"400\"  align=\"center\"/>\n",
    "\n",
    "    </center>\n",
    "- **(iii)** From the graph, any horizontal line $y=k$, $k>-1$ cuts the graph exactly once. Therefore $h$ is a 1-1 function.\n",
    "    <center>\n",
    "\n",
    "    <img src=\"img/function-one-one-3.png\" width=\"400\"  align=\"center\"/>\n",
    "\n",
    "    </center>"
   ]
  },
  {
   "cell_type": "markdown",
   "metadata": {},
   "source": [
    "# 6. Composite Functions\n",
    "So far, we have examined various examples of functions individually. A natural question that arises from this is as follow: Given two functions $f,g$, can we create a new function with them as constituents?\n",
    "\n",
    "The answer is YES, and one way to achieve it is by chaining the output of a function, say $g$, and using it as an input for the next function, say $f$. However, this approach will not always work and in this section, we will see the conditions when we can actually do this.\n",
    "\n",
    "Such expected behaviour is totally natural and frequently encountered. For a more concrete example, consider the following situation. We have a square with sides of length $x$ units. If we are to increase the side of the square by 2 units and then, scale the sides of the square by a factor of 3, what is the area of the resultant square?\n",
    "\n",
    "Intuitive, we would have done the following in sequence \n",
    "\n",
    "$$\\begin{align*}\n",
    "x&\\mapsto x+2 \\\\ \n",
    "x+2&\\mapsto 3(x+2) \\\\\n",
    "3(x+2)&\\mapsto (3(x+2))^2.\n",
    "\\end{align*}$$ \n",
    "\n",
    "So, if we think about it, we have $x\\mapsto (3(x+2))^2$.\n",
    "\n",
    "The main point this example try to illustrate is that we are taking outputs of a mapping to be used as an input of *another* mapping repeatedly (see line 2 and 3) and in the end, we can actually just condense the multiple mapping steps into only ONE map.\n",
    "\n",
    "Such approach of creating a new function (by nesting a function inside another) is what we call **function composition**, and the resulting function is called a **composite function**. We will make the definition formal a little later\n",
    "\n",
    "## 6.1 Condition for Existence for Composite Functions\n",
    "In the example given in the previous section, it is indeed reasonable that such composite function would exist in the end. However, such procedure doesn't always necessarily produce a function in the end. \n",
    "\n",
    "For example, consider $f:{1,2}\\mapsto 0$ and $g:{3,4}\\mapsto 1$. We see that\n",
    "1. if we start with $f$ first, then $1\\mapsto 0$ and $2\\mapsto 0$, but in both cases $0$ cannot be mapped by $g$ as $0$ doesn't exists in the domain of $g$.\n",
    "2. on the other hand, if we are to start with $g$ first, then $3\\mapsto 1$ and $4\\mapsto 1$, and since $1$ is inside the domain of $f$, we can continue further to have $$3\\mapsto 1\\mapsto 0, 4\\mapsto 1 \\mapsto 0.$$\n",
    "\n",
    "> Note: the input elements in this process to generate composite functions is always the elements in the domain of the first function being considered. In the above cases, it is $D_f$ and $D_g$ respectively.\n",
    "\n",
    "As such, we can conclude that in order for the chaining of the values to be carried out successfully, the output of the first function must be able to be used as the input of the function that comes after. If $g,f$ is the first and second function respectively, symbolically, this means that $R_g$ must fall within $D_f$, i.e. $R_g\\subseteq D_f$.\n",
    "\n",
    "We are now ready to define a composite function. \n",
    "\n",
    "Let $f:X_1\\rightarrow Y_1$ and $g:X_2 \\rightarrow Y_2$. The **composite function** $f\\circ g$ (note that this seemingly has 2 functions, but really just symbol used to represent a single SINGLE function) is a function such that \n",
    "1. $R_g \\subseteq D_f = X_1$. Note that $R_g$ is not necessarily $X_1$.\n",
    "2. $f\\circ g:X_2 \\rightarrow Y_1$. In particular, note that $D_{f\\circ g}=D_g$.\n",
    "3. for any $x\\in X$, $x\\mapsto  f(g(x))$. In other words, $f\\circ g (x) = f(g(x))$. Note that the RHS has TWO functions $f$ and $g$, while the LHS only has ONE function, $f\\circ g$.\n",
    "\n",
    "Graphically, \n",
    "\n",
    "<center>\n",
    "\n",
    "<img src=\"img/function-composite.png\" width=\"400\"  align=\"center\"/>\n",
    "\n",
    "</center>\n",
    "\n",
    "On the other hand, if $R_g \\nsubseteq D_f$, graphically we have\n",
    "\n",
    "<center>\n",
    "\n",
    "<img src=\"img/function-no-composite.png\" width=\"400\"  align=\"center\"/>\n",
    "\n",
    "</center>\n",
    "\n",
    "In particular, there are some elements in $R_g$ that cannot be mapped under the rule of $f$. Consequently, in such case, the composite function $f\\circ g$ cannot exist.\n",
    "\n",
    "> The shorthand for the composite function $f\\circ g$ is just $fg$. So, in the subsequent parts, we will drop the $\\circ$ symbols to refer to the composite functions.\n",
    "\n",
    "### Example 10\n",
    "The functions $f$ and $g$ are defined as \n",
    "$$\\begin{align*}\n",
    "    f:x &\\mapsto \\ln x, \\quad & x\\in (0,\\infty), \\\\\n",
    "    g:x &\\mapsto -x, \\quad &x\\in \\mathbb{R}.\n",
    "\\end{align*}$$\n",
    "\n",
    "We note that $R_g = \\mathbb{R}$ and $D_f=(0,\\infty)$. So, we have that $R_g\\nsubseteq D_f$. As a consequence, the composite function $f\\circ g$ cannot exist. \n",
    "For a concrete example of an element that cannot be mapped, we take $1 \\in D_g$, we see that under $g$,\n",
    "$$ 1\\mapsto g(1)=-1.$$\n",
    "However, $-1\\notin D_f$ and as such $f(-1)=f(g(1))$ is undefined. "
   ]
  },
  {
   "cell_type": "markdown",
   "metadata": {},
   "source": [
    "### Example (Restriction of Domain for Composite to Exist)\n",
    "The functions $f$ and $g$ are defined as\n",
    "$$\\begin{align*}\n",
    "    f\t:x&\\mapsto e^{1-x} &,x\\in\\mathbb{R},x>0 \\\\ \n",
    "    g\t:x&\\mapsto\\ln\\left(x-1\\right) &,x\\in\\mathbb{R},x>1\n",
    "\\end{align*}$$\n",
    " \n",
    "By restricting the domain of $g$ to $(a,\\infty)$, where $a$ is a real number, find the least value of $a$ such that the composite function $fg$ exists. Define $fg$ in similar form.\n",
    "\n",
    "*Solution*\n",
    "\n",
    "For the composite function to exist, we must restrict the domain of $g$ such that the range of the restriction function is a subset of $D_f=(0,\\infty)$. Since we want the least value of $a$, we will attempt to find an answer based on the whole of $D_f$ first.\n",
    "\n",
    "From the graph of $y=g(x)$, we see that if we restrict the domain to $(2,\\infty)$ , then the range of the restriction of $g$ is $(0,\\infty)$   which is $D_f$."
   ]
  },
  {
   "cell_type": "code",
   "execution_count": 62,
   "metadata": {},
   "outputs": [
    {
     "data": {
      "image/png": "[encoded data removed]",
      "text/plain": [
       "<Figure size 432x288 with 1 Axes>"
      ]
     },
     "metadata": {
      "needs_background": "light"
     },
     "output_type": "display_data"
    },
    {
     "data": {
      "text/plain": [
       "<sympy.plotting.plot.Plot at 0x1f4d3fcbf40>"
      ]
     },
     "execution_count": 62,
     "metadata": {},
     "output_type": "execute_result"
    }
   ],
   "source": [
    "from sympy.calculus.util import *\n",
    "\n",
    "x = symbols('x')\n",
    "\n",
    "# We define the function g \n",
    "class g(Function):\n",
    "    @classmethod\n",
    "    def eval(cls, x):\n",
    "        return log(x-1)\n",
    "\n",
    "plot(g(x),xlim=(-5,5),ylim=(-5,5))"
   ]
  },
  {
   "cell_type": "markdown",
   "metadata": {},
   "source": [
    "Therefore least value of $a$ is 2."
   ]
  },
  {
   "cell_type": "code",
   "execution_count": 49,
   "metadata": {},
   "outputs": [
    {
     "name": "stdout",
     "output_type": "stream",
     "text": [
      "The rule of fg\n"
     ]
    },
    {
     "data": {
      "text/latex": [
       "$\\displaystyle fg(x)=\\frac{e}{x - 1}$"
      ],
      "text/plain": [
       "<IPython.core.display.Math object>"
      ]
     },
     "metadata": {},
     "output_type": "display_data"
    }
   ],
   "source": [
    "from sympy import *\n",
    "from IPython.display import Math,display,Latex\n",
    "\n",
    "# Defining the symbol for the parameters/arguments/input of the functions f,g\n",
    "x = symbols('x')\n",
    "\n",
    "# We define the function f \n",
    "class f(Function):\n",
    "    @classmethod\n",
    "    def eval(cls, x):\n",
    "        # the rule of f \n",
    "        return exp(1-x)\n",
    "\n",
    "# We define the function g \n",
    "class g(Function):\n",
    "    @classmethod\n",
    "    def eval(cls, x):\n",
    "        # the rule of g \n",
    "        return log(x-1)\n",
    "\n",
    "print('The rule of fg')\n",
    "#Compose f(g(x)) \n",
    "display(Math(f'fg(x)={ latex(f(g(x)))}'))\n"
   ]
  },
  {
   "cell_type": "markdown",
   "metadata": {},
   "source": [
    "### Example\n",
    "The functions $f$ and $g$ are defined as\n",
    "$$\\begin{align*}\n",
    "    f:x & \\mapsto \\frac{x}{ax-b}, x\\in \\mathbb{R}, & x\\neq \\frac{b}{a} \\\\\n",
    "    g:x & \\mapsto \\sqrt{x}, & x\\in (0,\\infty)\n",
    "\\end{align*}$$\n",
    " \n",
    "Explain whether the composite function $fg$ exists, justifying your answer.\n",
    "\n",
    "*Solution*\n",
    "Since \n",
    "$R_g=(0,\\infty) \\nsubseteq \\mathbb{R}\\backslash \\{\\frac{b}{a}\\}$ , the composite function $fg$ does not exist."
   ]
  },
  {
   "cell_type": "markdown",
   "metadata": {},
   "source": [
    "### Example 11\n",
    "The functions $f$ and $g$ are defined as \n",
    "$$\\begin{align*}\n",
    "    f:x &\\mapsto x+1, \\quad & x\\in \\mathbb{R}, \\\\\n",
    "    g:x &\\mapsto x^2, \\quad &x\\in \\mathbb{R}.\n",
    "\\end{align*}$$\n",
    " \n",
    "It is given that $fg$ and $gf$ exists (the hardworking reader should verify this), find $fg(x)$ and $gf(x)$.\n",
    "\n",
    "*Solution*:\n",
    "So this example is asking us to find the rules of the composite function $fg$ and $gf$. As defined earlier, $fg(x)=f(g(x))$ and $gf(x)=g(f(x))$. As such,\n",
    "\n",
    "Since $f(x)=x+1$ and $g(x)=x^2$,\n",
    "$$\\begin{align*}\n",
    "fg(x)&=f(g(x))\\\\\n",
    "    &=f(x^2)\\\\\n",
    "    &=x^2+1,\\\\\n",
    "gf(x)&=g(f(x))\\\\\n",
    "    &=g(x+1)\\\\\n",
    "    &=(x+1)^2.\n",
    "\\end{align*}$$\n",
    "\n",
    "> Example 11 illustrates the fact that generally $gf$ and $fg$ are **NOT** equivalent, that is, composition of functions are not commutative."
   ]
  },
  {
   "cell_type": "markdown",
   "metadata": {},
   "source": [
    "To work my abstract mathematical functions in Python, we can use the `Sympy` package. The precise functionalities are left for the reader to read up. In the code below, we will show how to:\n",
    "1. define a function in Python that behaves like a mathematical function,\n",
    "2. do function compositions."
   ]
  },
  {
   "cell_type": "code",
   "execution_count": 5,
   "metadata": {},
   "outputs": [
    {
     "name": "stdout",
     "output_type": "stream",
     "text": [
      "The rule of fg\n"
     ]
    },
    {
     "data": {
      "text/latex": [
       "$\\displaystyle fg(x)=x^{2} + 1$"
      ],
      "text/plain": [
       "<IPython.core.display.Math object>"
      ]
     },
     "metadata": {},
     "output_type": "display_data"
    },
    {
     "name": "stdout",
     "output_type": "stream",
     "text": [
      "The rule of gf\n"
     ]
    },
    {
     "data": {
      "text/latex": [
       "$\\displaystyle gf(x)=\\left(x + 1\\right)^{2}$"
      ],
      "text/plain": [
       "<IPython.core.display.Math object>"
      ]
     },
     "metadata": {},
     "output_type": "display_data"
    }
   ],
   "source": [
    "from sympy import *\n",
    "from IPython.display import Math,display,Latex\n",
    "\n",
    "# Defining the symbol for the parameters/arguments/input of the functions f,g\n",
    "x = symbols('x')\n",
    "\n",
    "# We define the function f \n",
    "class f(Function):\n",
    "    @classmethod\n",
    "    def eval(cls, x):\n",
    "        # the rule of f is the value that is returned by the function\n",
    "        return x+1\n",
    "\n",
    "# We define the function g \n",
    "class g(Function):\n",
    "    @classmethod\n",
    "    def eval(cls, x):\n",
    "        # the rule of g is the value that is returned by the function\n",
    "        return x**2\n",
    "\n",
    "print('The rule of fg')\n",
    "#Note that we can compose f(g(x)) with Sympy module and it behaves as how we expect it to be in mathematics\n",
    "display(Math(f'fg(x)={ latex(f(g(x)))}'))\n",
    "\n",
    "print('The rule of gf')\n",
    "#Similarly,we can compose g(f(x)) with Sympy module\n",
    "display(Math(f'gf(x)={ latex(g(f(x)))}'))"
   ]
  },
  {
   "cell_type": "markdown",
   "metadata": {},
   "source": [
    "### Example \n",
    "The functions f and g are defined as \n",
    "$$\\begin{align*}\n",
    "f:x&\\mapsto\\frac{1}{x^{2}-1},\\quad x\\in\\mathbb{R},x\\neq-1,x\\neq1\\\\\n",
    "g:x&\\mapsto\\frac{1}{x-3},\\quad x\\in\\mathbb{R},x\\neq2,x\\neq3,x\\neq4\n",
    "\\end{align*}$$\n",
    "Show that $fg\\left(x\\right)=\\frac{\\left(x-3\\right)^{2}}{\\left(4-x\\right)\\left(x-2\\right)}$.\n",
    "\n",
    "*Solution*\n",
    "\n",
    "By definition,  \n",
    "\n",
    "$$\\begin{align*}\n",
    "\n",
    "fg\\left(x\\right)\t&=f\\left(g\\left(x\\right)\\right) \\\\\n",
    "\t&=f\\left(\\frac{1}{x-3}\\right) \\\\\n",
    "\t&=\\frac{1}{\\left(\\frac{1}{x-3}\\right)^{2}-1} \\\\\n",
    "\t&=\\frac{\\left(x-3\\right)^{2}}{1-\\left(x-3\\right)^{2}} \\\\\n",
    "\t&=\\frac{\\left(x-3\\right)^{2}}{\\left(1-\\left(x-3\\right)\\right)\\left(1+\\left(x-3\\right)\\right)} \\\\\n",
    "\t&=\\frac{\\left(x-3\\right)^{2}}{\\left(4-x\\right)\\left(x-2\\right)}\n",
    "\\end{align*}$$\n",
    "\n",
    "We verify our answer with Python again."
   ]
  },
  {
   "cell_type": "code",
   "execution_count": 7,
   "metadata": {},
   "outputs": [
    {
     "name": "stdout",
     "output_type": "stream",
     "text": [
      "The rule of fg\n"
     ]
    },
    {
     "data": {
      "text/latex": [
       "$\\displaystyle fg(x)=\\frac{1}{-1 + \\frac{1}{\\left(x - 3\\right)^{2}}}$"
      ],
      "text/plain": [
       "<IPython.core.display.Math object>"
      ]
     },
     "metadata": {},
     "output_type": "display_data"
    },
    {
     "name": "stdout",
     "output_type": "stream",
     "text": [
      "After simplification\n"
     ]
    },
    {
     "data": {
      "text/latex": [
       "$\\displaystyle fg(x)=- \\frac{\\left(x - 3\\right)^{2}}{\\left(x - 3\\right)^{2} - 1}$"
      ],
      "text/plain": [
       "<IPython.core.display.Math object>"
      ]
     },
     "metadata": {},
     "output_type": "display_data"
    }
   ],
   "source": [
    "from sympy import *\n",
    "from IPython.display import Math,display,Latex\n",
    "\n",
    "x = symbols('x')\n",
    "\n",
    "# We define the function f \n",
    "class f(Function):\n",
    "    @classmethod\n",
    "    def eval(cls, x):\n",
    "        return 1/(x**2-1)\n",
    "\n",
    "# We define the function g \n",
    "class g(Function):\n",
    "    @classmethod\n",
    "    def eval(cls, x):\n",
    "        return 1/(x-3)\n",
    "\n",
    "print('The rule of fg')\n",
    "#fg(x)\n",
    "display(Math(f'fg(x)={ latex(f(g(x)))}'))\n",
    "print('After simplification')\n",
    "display(Math(f'fg(x)={ latex(simplify(f(g(x))))}'))\n"
   ]
  },
  {
   "cell_type": "markdown",
   "metadata": {},
   "source": [
    "Note that the answer from Python is not yet the form required by the question, but a simple algebraic manipulation will get us there."
   ]
  },
  {
   "cell_type": "markdown",
   "metadata": {},
   "source": [
    "### Example 12\n",
    "Based on the functions $f,g$ defined in Example 11, find $ff(x)$ and $gg(x)$."
   ]
  },
  {
   "cell_type": "code",
   "execution_count": 6,
   "metadata": {},
   "outputs": [
    {
     "name": "stdout",
     "output_type": "stream",
     "text": [
      "The rule of ff\n"
     ]
    },
    {
     "data": {
      "text/latex": [
       "$\\displaystyle ff(x)=x + 2$"
      ],
      "text/plain": [
       "<IPython.core.display.Math object>"
      ]
     },
     "metadata": {},
     "output_type": "display_data"
    },
    {
     "name": "stdout",
     "output_type": "stream",
     "text": [
      "The rule of gg\n"
     ]
    },
    {
     "data": {
      "text/latex": [
       "$\\displaystyle gf(x)=x^{4}$"
      ],
      "text/plain": [
       "<IPython.core.display.Math object>"
      ]
     },
     "metadata": {},
     "output_type": "display_data"
    }
   ],
   "source": [
    "from sympy import *\n",
    "from IPython.display import Math,display,Latex\n",
    "\n",
    "# Defining the symbol for the parameters/arguments/input of the functions f,g\n",
    "x = symbols('x')\n",
    "\n",
    "# We define the function f \n",
    "class f(Function):\n",
    "    @classmethod\n",
    "    def eval(cls, x):\n",
    "        return x+1\n",
    "\n",
    "# We define the function g \n",
    "class g(Function):\n",
    "    @classmethod\n",
    "    def eval(cls, x):\n",
    "        return x**2\n",
    "\n",
    "print('The rule of ff')\n",
    "display(Math(f'ff(x)={ latex(f(f(x)))}'))\n",
    "\n",
    "print('The rule of gg')\n",
    "display(Math(f'gg(x)={ latex(g(g(x)))}'))"
   ]
  },
  {
   "cell_type": "markdown",
   "metadata": {},
   "source": [
    "> Example 12 illustrates the fact that we can compose functions with itself.\n",
    "\n",
    "Such composite functions illustrated in Example 12 is kinda special and has a certain notation attached with it. Below, we will write out the definition.\n",
    "\n",
    "Let $f:X\\rightarrow Y$ be a function that can be composed with itself repeatedly. Then if $n$ is an integer, $$f^{n}\\left(x\\right)=\\underset{\\text{There are }n \\text{ number of }f \\text{'s}}{\\underbrace{f\\left(f\\left(f\\left(f\\left(f\\left(\\dots\\right)\\right)\\right)\\right)\\right)}}.$$\n",
    "\n",
    "With this notation, then the functions in Example 12 are just $ff(x)=f^2(x)$ and $gg(x)=g^2(x)$. And from this point, we shall use this notation.\n",
    "\n",
    "It is important to note that:\n",
    "1. In general, the rule of the composite function $f^2(x)=f(f(x))$ is **NOT THE SAME** as the square of the function rule $f(x)^2$. I.e., $f^2(x)\\neq (f(x))^2$.\n",
    "2. The only exception for this are the trigonometric functions, where $\\sin ^{n}(x) =(\\sin(x))^{n}, \\cos ^{n}(x) =(\\cos(x))^{n}$ etc. This mismatch of the definition is due to historical reasons and the community of mathematicians just go along with it."
   ]
  },
  {
   "cell_type": "markdown",
   "metadata": {},
   "source": [
    "# 7. Inverse Functions\n",
    "In section 5, we have seen a special case of functions which are the one-one functions. Let $f:X\\rightarrow Y$ be such one-one function. This means that for every element $x\\in X$, there exists one and only one element $y\\in Y$ such that $f(x)=y$. And if we think about it, this property is really nice because this means that for every such $y$, there is only one such $x$ that gets mapped to it. In other words, we can actually recover the element $x$ that gets mapped to it.\n",
    "\n",
    "Using our analogy of ID number earlier, from an ID number, we can get the details of the person with such ID number and vice versa, knowing the details of the person, we can get the ID number.\n",
    "\n",
    "Graphically, we have that\n",
    "\n",
    "<center>\n",
    "\n",
    "<img src=\"img/function-inverse.png\" width=\"600\"  align=\"center\"/>\n",
    "\n",
    "</center>\n",
    "\n",
    "All seems dandy so far. However, we note that if $R_f \\neq Y$ for $f$, then there are some elements ($y_5,y_6$ in the diagram above) that doesn't get paired with any $x\\in X$. This means that **if we want the reverse mapping to also be a function**, we need to restrict the elements of $Y$ to be considered for the reverse mapping to be just those who belongs in $R_f$ as well.\n",
    "\n",
    "Such reverse mapping of $f$ that is also a function is what we call an **inverse function** (not reverse). We will give the definition below.\n",
    "\n",
    "Let $f:X\\rightarrow Y$ be a one-to-one function. $g$ is the **inverse function** of $f$ if\n",
    "1. $g:R_f\\rightarrow X$ such that,\n",
    "2. $g(f(x))=x$.\n",
    "\n",
    "If $g$ is the inverse function of $f$, we write $g$ as $f^{-1}$. So, point (2) above is usually written as $f^{-1}(f(x))=x$.\n",
    "\n",
    "> Note:\n",
    "> 1. From the the definition, $D_{f^{-1}}=R_f$,\n",
    "> 2. $R_{f^{-1}}=D_f$, i.e., we can recover every element of $X$ just from an element $y\\in R_f$.\n",
    "> 3. For any $y\\in Y$ and $x\\in X$, if $y=f(x)$, then $f^{-1}(y)=x$.\n",
    "> 4. $f^{-1}(x) \\neq \\frac{1}{f(x)}$. This is similar to the notation used for the trigonometric functions, e.g., $\\sin x \\neq \\frac{1}{\\sin x}$. (Well, we see again that the notations for the trigo functions are not consistent 🙄)\n",
    "> 5. If $f^{-1}$ is an inverse of $f$, then $f$ must also be an inverse of $g$. In other words, we also have $f(f^{-1}(x))=x$.\n",
    "> 6. For $f$ to have an inverse function (i.e. for $f^{-1}$ to exist), $f$ must be a one-one function."
   ]
  },
  {
   "cell_type": "markdown",
   "metadata": {},
   "source": [
    "We will illustrate point 6 graphically. Let us recall that a function is either a many-to-one relation or a one-to-one relation. However, it cannot be a one-to-many relation.\n",
    "\n",
    "- Case 1. $f$ is a many-to-one function\n",
    "    \n",
    "    <center>\n",
    "\n",
    "    <img src=\"img/function-inverse-many-to-one.png\" width=\"300\"  align=\"center\"/>\n",
    "\n",
    "    </center>\n",
    "\n",
    "    Both $x_1$ and $x_2$  are mapped to the value $y_0$ by the function $f$. For the inverse function to exist, every $y$-value in the range of $f$ can only be mapped from at most one $x$-value. In this case, we cannot have an inverse function.\n",
    "\n",
    "- Case 2. $f$ is a one-to-one function\n",
    "    \n",
    "    <center>\n",
    "\n",
    "    <img src=\"img/function-inverse-one-to-one.png\" width=\"300\"  align=\"center\"/>\n",
    "\n",
    "    </center>\n",
    "\n",
    "    Since every $y$-value is mapped from a unique $x$-value (Since $f(x_1)=f(x_2) \\implies x_1=x_2$ for one-to-one function), every $x$-value can be *reversely* mapped from at most one $y$-value. Thus the inverse function exists."
   ]
  },
  {
   "cell_type": "markdown",
   "metadata": {},
   "source": [
    "### Example\n",
    "For each of the following functions, determine if the inverse function exist. Justify your answer. \n",
    "- **(i)** $f:x \\mapsto x^4$, $x\\in \\mathbb{R}$, \t \n",
    "- **(ii)** $g:x \\mapsto x^4$, $x\\in \\mathbb{R}$, $x\\geq 1$.\t \n",
    "\n",
    "*Solution*\n",
    "- **(i)** Since the horizontal line $y = 1$ cuts the graph of $y=x^4$ twice, $f$ is not 1-1. Therefore $f^{-1}$  does not exist.\n",
    "    <center>\n",
    "\n",
    "    <img src=\"img/function-inverse-f.png\" width=\"300\"  align=\"center\"/>\n",
    "\n",
    "    </center>\n",
    "\n",
    "- **(ii)** The sketch of the graph looks like.\n",
    "\n",
    "    <center>\n",
    "\n",
    "    <img src=\"img/function-inverse-g.png\" width=\"300\"  align=\"center\"/>\n",
    "\n",
    "    </center>    \n",
    "\n",
    "\n",
    "    Since any horizontal line $y=b$, $b\\in\\mathbb{R}$, cuts the graph of $y=g(x)$ at most once, $g$ is 1-1. Therefore $g^{-1}$ exists.\n",
    "    Note:\n",
    "    - The horizontal line test **does not directly lead to the existence of inverse functions**. Thus, it is **NOT** correct to write:\n",
    "        “Since any horizontal line $y=b$, $b\\in \\mathbb{R}$, cuts the graph of $y = g(x)$ at most once, then $g^{-1}$ exists.” It must be first stated that the function is 1-1. "
   ]
  },
  {
   "cell_type": "markdown",
   "metadata": {},
   "source": [
    "## 7.1 Graphical Representation of Inverse Functions\n",
    "Consider the graph of a one-to-one function $f:x\\mapsto y, x\\in D_f$. We have seen in Section 2 that the function can be representation as a set of points on a Cartesian plane. Symbolically this set is $\\{(a,f(a)): a \\in D_f\\}$. Consequently, if $f^{-1}$ maps back the values in $R_f$ to $D_f$, then this means that if we are to represent $f^{-1}$ then the set of points that we need to consider is $$\\{(f(a),a) : a \\in D_f\\}.$$\n",
    "\n",
    "Note:\n",
    "1. this means that we are just swapping the $x$ and $y$ coordinates of the points in the representation.\n",
    "2. the graph of function $f:x\\mapsto x, x\\in D_f$ is special because if we are to swap the $x,y$ coordinates of the points and collect them, the resulting set of points is still the same.  \n",
    "\n",
    "### Example\n",
    "Consider the function $f(x)=x^2$, $x>0$. We see that \n",
    "\n",
    "<center>\n",
    "\n",
    "|Value of $a$ |  $f(x)=x^2$, $x>0$ | $f^{-1}(x)=\\sqrt{x}$, $x>0$\n",
    "|- | - | -\n",
    "|1 |\t$(1, 1)$ |\t$(1, 1)$\n",
    "|2 |\t$(2, 4)$ |\t$(4, 2)$\n",
    "|3 |\t$(3, 9)$ |\t$(9, 3)$\n",
    "|5 |\t$(5, 25)$ |\t$(25, 5)$\n",
    "\n",
    "</center>"
   ]
  },
  {
   "cell_type": "code",
   "execution_count": 12,
   "metadata": {},
   "outputs": [
    {
     "data": {
      "image/png": "[encoded data removed]",
      "text/plain": [
       "<Figure size 432x288 with 1 Axes>"
      ]
     },
     "metadata": {
      "needs_background": "light"
     },
     "output_type": "display_data"
    }
   ],
   "source": [
    "# We import the following so\n",
    "from matplotlib import pyplot as plt\n",
    "\n",
    "# Rules of f, g and h\n",
    "def f(x):\n",
    "    return x**2\n",
    "\n",
    "# Mimicking domain of f\n",
    "upper_x_bound = 0\n",
    "lower_x_bound = 5\n",
    "no_of_points = 100\n",
    "domain_of_f = [0+((5-(0))/no_of_points)*i for i in range(no_of_points)]\n",
    "\n",
    "# Plotting f, red \n",
    "plt.clf()\n",
    "range_of_f = [f(x) for x in domain_of_f]\n",
    "plt.plot(domain_of_f,range_of_f,'ro')\n",
    "\n",
    "# We annotate the left boundary point\n",
    "left_point = (0,f(0))\n",
    "plt.annotate(f'{left_point}',(left_point[0],left_point[1]+0.3))\n",
    "\n",
    "# Since the points in the inverse of f can be obtained by \n",
    "# swapping the x and y coordinates of the points\n",
    "# we have the domain of the inverse of f to be just the range of f,\n",
    "# range of f inv is the domain of f\n",
    "# plotting f inverse, blue\n",
    "# Note that we didn't even need to recompute the mappings\n",
    "domain_of_f_inv = range_of_f\n",
    "range_of_f_inv = domain_of_f\n",
    "plt.plot(domain_of_f_inv,range_of_f_inv,'bx')\n",
    "ax = plt.gca()\n",
    "ax.spines['top'].set_visible(False)\n",
    "ax.spines['right'].set_visible(False)\n",
    "ax.set_xbound(lower=-1, upper=3)\n",
    "ax.set_ybound(lower=-1, upper=3)\n",
    "\n",
    "plt.show()"
   ]
  },
  {
   "cell_type": "markdown",
   "metadata": {},
   "source": [
    "A very important observation from the example above is that when we plot these points on the Cartesian plane will help us see that the coordinates in the right column are reflection of those in the left column in the line $y=x$. \n",
    "\n",
    "To see this, we will include the line $y=x$ in the diagram above in green colour."
   ]
  },
  {
   "cell_type": "code",
   "execution_count": 17,
   "metadata": {},
   "outputs": [
    {
     "data": {
      "image/png": "[encoded data removed]",
      "text/plain": [
       "<Figure size 432x288 with 1 Axes>"
      ]
     },
     "metadata": {
      "needs_background": "light"
     },
     "output_type": "display_data"
    }
   ],
   "source": [
    "# We import the following so\n",
    "from matplotlib import pyplot as plt\n",
    "\n",
    "# Rules of f, g and h\n",
    "def f(x):\n",
    "    return x**2\n",
    "\n",
    "# Mimicking domain of f\n",
    "upper_x_bound = 0\n",
    "lower_x_bound = 5\n",
    "no_of_points = 100\n",
    "domain_of_f = [0+((5-(0))/no_of_points)*i for i in range(no_of_points)]\n",
    "\n",
    "# Plotting f, red \n",
    "plt.clf()\n",
    "range_of_f = [f(x) for x in domain_of_f]\n",
    "plt.plot(domain_of_f,range_of_f,'ro')\n",
    "\n",
    "# We annotate the left boundary point\n",
    "left_point = (0,f(0))\n",
    "plt.annotate(f'{left_point}',(left_point[0],left_point[1]+0.3))\n",
    "\n",
    "# Since the points in the inverse of f can be obtained by \n",
    "# swapping the x and y coordinates of the points\n",
    "# we have the domain of the inverse of f to be just the range of f,\n",
    "# range of f inv is the domain of f\n",
    "# plotting f inverse, blue\n",
    "# Note that we didn't even need to recompute the mappings\n",
    "domain_of_f_inv = range_of_f\n",
    "range_of_f_inv = domain_of_f\n",
    "plt.plot(domain_of_f_inv,range_of_f_inv,'bx')\n",
    "\n",
    "\n",
    "# Plotting h(x) = x, green\n",
    "upper_x_bound = -5\n",
    "lower_x_bound = 5\n",
    "no_of_points = 1000\n",
    "domain_of_h = [-5+((5-(-5))/no_of_points)*i for i in range(no_of_points)]\n",
    "range_of_h = [-5+((5-(-5))/no_of_points)*i for i in range(no_of_points)]\n",
    "plt.plot(domain_of_h,range_of_h,'go')\n",
    "ax = plt.gca()\n",
    "ax.spines['top'].set_visible(False)\n",
    "ax.spines['right'].set_visible(False)\n",
    "ax.set_xbound(lower=-1, upper=3)\n",
    "ax.set_ybound(lower=-1, upper=3)\n",
    "\n",
    "plt.show()"
   ]
  },
  {
   "cell_type": "markdown",
   "metadata": {},
   "source": [
    "> In other words, let $f:X\\mapsto Y$ be a function such that the inverse function $f^{-1}$ exist. Then the graph of $y=f^{-1}(x)$ is the reflection of the graph $y=f(x)$ in the line $y=x$, i.e. the graphs of $f$ and $f^-1$ is symmetric about the line $y=x$."
   ]
  },
  {
   "cell_type": "markdown",
   "metadata": {},
   "source": [
    "### Example\n",
    "The graphs of $y = f(x)$ and $y = x$ are shown below. Sketch, on the same diagram, the graph of $y=f^{-1}(x)$, labelling the coordinates of the endpoints. \n",
    "\n",
    "<center>\n",
    "\n",
    "<img src=\"img/function-inverse-graph.png\" width=\"400\"  align=\"center\"/>\n",
    "\n",
    "</center>\n",
    "\n",
    "*Solution*\n",
    "\n",
    "The graph of $f^{-1}(x)$ is indicated in red.\n",
    "\n",
    "<center>\n",
    "\n",
    "<img src=\"img/function-inverse-graph-with-inverse.png\" width=\"400\"  align=\"center\"/>\n",
    "\n",
    "</center>"
   ]
  },
  {
   "cell_type": "markdown",
   "metadata": {},
   "source": [
    "## 7.2 Finding the Rule of Inverse Functions\n",
    "Recall that in our dealing of function $f:X \\rightarrow Y$, we have $y=f(x)$, where $f(x)$ is just an expression in $x$. In other words, to get $y$, we need to operate on expressions in $x$. Now, if inverse functions reverse the mapping, the core idea is then to get $x$, we need to operate on expressions in $y$. As such, the logical thing to find the rule of the inverse function is to start with the original equation involving $y$ and $x$ where $y$ is the subject and manipulate them algebraically until $x$ becomes the subject instead. As such, we have the steps outlined below.\n",
    "\n",
    "Suppose $f$ is the rule for a one-to-one function $f$. To find $f^{-1}(x)$, the rule of the inverse function of $f$, we apply the following steps.\n",
    "1. Let $y=f(x)$\n",
    "2. Make $x$ the subject of the equation, i.e. express $x$ in terms of $y$.  \n",
    "3. This expression in terms of $y$ is the rule of the $f^{1}$, i.e. it's the $f^{-1}(y)$.\n",
    "4. As it is customary for functions to use $x$ as input, we replace the occurences of $y$ with $x$. \n",
    "\n",
    "### Example\n",
    "Let $f:x\\mapsto 2x-2$, $x\\in \\mathbb{R}$. \n",
    "- Explain why $f^{-1}$ exists.\n",
    "- Find the rule of $f^{-1}$.\n",
    "- Determine the domain of $f^{-1}$.\n",
    "\n",
    "*Solution*\n",
    "- It is straightforward to see that $f$ is a one-one function (left as an exercise for reader). As such, $f^{-1}$ must exist.\n",
    "- To determine the rule, following the steps above gives:\n",
    "    1. Let $y=2x-2$\n",
    "    2. Make $x$ the subject of the equation, $$x=\\frac{y+2}{2}.$$\n",
    "    3. Rule of $f^{-1}$: $f^{-1}(y)=\\frac{y+2}{2}$.\n",
    "    4. Replacing $y$ with $x$ in the rule in (3): $f^{-1}(x)=\\frac{x+2}{2}$\n",
    "- $D_{f^{-1}}=R_f=\\mathbb{R}$.\n",
    "\n",
    "In conclusion, $f^{-1}:x\\mapsto \\frac{x+2}{2}$, $D_{f^{-1}}=R_f=\\mathbb{R}$.\n",
    "\n",
    "We will verify that $f^{-1}(x)$ defined above is indeed the inverse, by checking the composite functions $g(f(x))$ and $f(g(x))$ where $g(x)=\\frac{x+2}{2}$. Note that we are not writing as $f^{-1}$ because if we are checking, we can't assume that $g$ is already the inverse of $f$."
   ]
  },
  {
   "cell_type": "code",
   "execution_count": 5,
   "metadata": {},
   "outputs": [
    {
     "name": "stdout",
     "output_type": "stream",
     "text": [
      "The rule of gf\n"
     ]
    },
    {
     "data": {
      "text/latex": [
       "$\\displaystyle gf(x)=x$"
      ],
      "text/plain": [
       "<IPython.core.display.Math object>"
      ]
     },
     "metadata": {},
     "output_type": "display_data"
    },
    {
     "name": "stdout",
     "output_type": "stream",
     "text": [
      "The rule of fg\n"
     ]
    },
    {
     "data": {
      "text/latex": [
       "$\\displaystyle fg(x)=x$"
      ],
      "text/plain": [
       "<IPython.core.display.Math object>"
      ]
     },
     "metadata": {},
     "output_type": "display_data"
    }
   ],
   "source": [
    "from sympy import *\n",
    "from IPython.display import Math,display,Latex\n",
    "\n",
    "# Defining the symbol for the parameters/arguments/input of the functions f,g\n",
    "x = symbols('x')\n",
    "\n",
    "# We define the function f \n",
    "class f(Function):\n",
    "    @classmethod\n",
    "    def eval(cls, x):\n",
    "        return 2*x-2\n",
    "\n",
    "# We define the function g \n",
    "class g(Function):\n",
    "    @classmethod\n",
    "    def eval(cls, x):\n",
    "        return (x+2)/2\n",
    "\n",
    "print('The rule of gf')\n",
    "display(Math(f'gf(x)={ latex(g(f(x)))}'))\n",
    "\n",
    "print('The rule of fg')\n",
    "display(Math(f'fg(x)={ latex(f(g(x)))}'))"
   ]
  },
  {
   "cell_type": "markdown",
   "metadata": {},
   "source": [
    "Since $gf(x)=x=fg(x)$, it is indeed the case that $f^{-1}(x)=g(x)=\\frac{x+2}{2}$."
   ]
  },
  {
   "cell_type": "markdown",
   "metadata": {},
   "source": [
    "### Example\n",
    "It is given that $f:x\\mapsto 2x^2+3x$, $x\\geq 0$. Find $f^{-1}$ in a similar form. \n",
    "\n",
    "*Solution*\n",
    "\n",
    "We will use Python to help us find the rule of $f^{-1}(x)$."
   ]
  },
  {
   "cell_type": "code",
   "execution_count": 10,
   "metadata": {},
   "outputs": [
    {
     "data": {
      "text/latex": [
       "$\\displaystyle x=- \\frac{\\sqrt{8 y + 9}}{4} - \\frac{3}{4}$"
      ],
      "text/plain": [
       "<IPython.core.display.Math object>"
      ]
     },
     "metadata": {},
     "output_type": "display_data"
    },
    {
     "data": {
      "text/latex": [
       "$\\displaystyle x=\\frac{\\sqrt{8 y + 9}}{4} - \\frac{3}{4}$"
      ],
      "text/plain": [
       "<IPython.core.display.Math object>"
      ]
     },
     "metadata": {},
     "output_type": "display_data"
    }
   ],
   "source": [
    "# Modules for algebraic manipulation and pretty printing\n",
    "from sympy import *\n",
    "from IPython.display import Math,display,Latex\n",
    "\n",
    "x, y = symbols('x y')\n",
    "\n",
    "#the solve(expr,x) method takes the parameters expression 'expr' and variable 'x' to solve the equation 'expr' = 0 for the variable 'x'\n",
    "#as such as we start with y=f(x), we need to rearrage to 'y-f(x)=0' and pass in 'y-f(x)' instead \n",
    "expr = 2*(x**2)+3*x\n",
    "f_inverse = solve(y-expr,x)\n",
    "\n",
    "#Note that there are 2 solutions in f_inverse and we need to reject the \n",
    "#appropriate one    \n",
    "for i in range(2):\n",
    "    display(Math(f'x={ latex(f_inverse[i])}'))"
   ]
  },
  {
   "cell_type": "markdown",
   "metadata": {},
   "source": [
    "At this point, we have that either:\n",
    "1. $x=-\\frac{3}{4}+\\frac{\\sqrt{8y+9}}{4}$, OR\n",
    "2. $x=-\\frac{3}{4}-\\frac{\\sqrt{8y+9}}{4}$.\n",
    "\n",
    "However, it cannot be both as $f^{-1}$ will no longer be a function (why?). \n",
    "\n",
    "To determine the correct one to accept, we observe that the question says that for $x$ to be in $D_f$, $x\\geq 0$, as such (2) has to be rejected as $x\\leq 0$ in such case.\n",
    "\n",
    "Furthermore, $D_{f^{-1}}=R_f=[0,\\infty)$. (check)\n",
    "\n",
    "Consequently, $f^{-1}(x)=-\\frac{3}{4}+\\frac{\\sqrt{8x+9}}{4}$ where $D_{f^{-1}}=[0,\\infty)$."
   ]
  },
  {
   "cell_type": "markdown",
   "metadata": {},
   "source": [
    "### Example  Specimen Paper / II / Q1(ii) modified ( Restriction of Domain for Inverse to Exist)\n",
    "The function $f$ is defined as follows: \n",
    "$$ f:x \\mapsto 3\\cos x-2\\sin x,x\\in \\mathbb{R}, -\\pi \\leq x <\\pi.$$\n",
    "\n",
    "If the domain of $f$ is further restricted to $[a,b]$, the function $f^{-1}$ exists. Write down the largest value of $b$ for which $f^{-1}$  exists, where $a$ is a negative real constant. Find $f^{-1}(x)$.\n",
    "\n",
    "*Solution*\n",
    "We first plot the function in the given interval."
   ]
  },
  {
   "cell_type": "code",
   "execution_count": 30,
   "metadata": {},
   "outputs": [
    {
     "data": {
      "image/png": "[encoded data removed]",
      "text/plain": [
       "<Figure size 432x288 with 1 Axes>"
      ]
     },
     "metadata": {
      "needs_background": "light"
     },
     "output_type": "display_data"
    },
    {
     "name": "stdout",
     "output_type": "stream",
     "text": [
      "Plot object containing:\n",
      "[0]: cartesian line: -2*sin(x) + 3*cos(x) for x over (-3.141592653589793, 3.141592653589793)\n"
     ]
    }
   ],
   "source": [
    "from sympy.calculus.util import *\n",
    "\n",
    "x = symbols('x')\n",
    "\n",
    "# We define the function f \n",
    "class f(Function):\n",
    "    @classmethod\n",
    "    def eval(cls, x):\n",
    "        return 3*cos(x)-2*sin(x)\n",
    "\n",
    "print(plot(f(x),(x,-pi,pi)))"
   ]
  },
  {
   "cell_type": "code",
   "execution_count": 45,
   "metadata": {},
   "outputs": [
    {
     "name": "stdout",
     "output_type": "stream",
     "text": [
      "The coordinates of the maximum and minimum points, in this order, is/are\n"
     ]
    },
    {
     "data": {
      "text/latex": [
       "$\\displaystyle (- \\operatorname{atan}{\\left(\\frac{2}{3} \\right)},\\sqrt{13})$"
      ],
      "text/plain": [
       "<IPython.core.display.Math object>"
      ]
     },
     "metadata": {},
     "output_type": "display_data"
    },
    {
     "data": {
      "text/latex": [
       "$\\displaystyle (\\pi - \\operatorname{atan}{\\left(\\frac{2}{3} \\right)},- \\sqrt{13})$"
      ],
      "text/plain": [
       "<IPython.core.display.Math object>"
      ]
     },
     "metadata": {},
     "output_type": "display_data"
    }
   ],
   "source": [
    "#Find the stationary points of the function \n",
    "stat_points = stationary_points(f(x), x, ivl)\n",
    "\n",
    "print(f'The coordinates of the maximum and minimum points, in this order, is/are')\n",
    "for i in stat_points:\n",
    "    display(Math(f'({latex(i)},{latex(f(i))})'))"
   ]
  },
  {
   "cell_type": "markdown",
   "metadata": {},
   "source": [
    "From the graph, we see that the local minimum and maximum values of the function occur at $x=−\\arctan(\\frac{3}{2})$ and $x=\\pi−\\arctan(\\frac{3}{2})$ respectively.\n",
    "\n",
    "Since $a$ is a negative real constant, the largest value of $b$ for which $f^{-1}$ exists must be the $x$-coordinate of the minimum point i.e. $b= \\pi -\\tan^{-1}(\\frac{2}{3})$.\n",
    "\n",
    "Next, we find the rule of $f^{-1}(x)$."
   ]
  },
  {
   "cell_type": "code",
   "execution_count": 18,
   "metadata": {},
   "outputs": [
    {
     "data": {
      "text/latex": [
       "$\\displaystyle x=2 \\operatorname{atan}{\\left(\\frac{\\sqrt{13 - y^{2}} - 2}{y + 3} \\right)}$"
      ],
      "text/plain": [
       "<IPython.core.display.Math object>"
      ]
     },
     "metadata": {},
     "output_type": "display_data"
    },
    {
     "data": {
      "text/latex": [
       "$\\displaystyle x=- 2 \\operatorname{atan}{\\left(\\frac{\\sqrt{13 - y^{2}} + 2}{y + 3} \\right)}$"
      ],
      "text/plain": [
       "<IPython.core.display.Math object>"
      ]
     },
     "metadata": {},
     "output_type": "display_data"
    }
   ],
   "source": [
    "from sympy import *\n",
    "from IPython.display import Math,display,Latex\n",
    "\n",
    "x, y = symbols('x y')\n",
    "\n",
    "# Making x the subject\n",
    "expr = 3*cos(x)-2*sin(x)\n",
    "f_inverse = solve(y-expr,x)\n",
    "\n",
    "# We use try-except block in case there's only 1 value\n",
    "# Generally, A level functions don't have more than 2 possible relation for the inverse\n",
    "try:    \n",
    "    for i in range(2):\n",
    "        display(Math(f'x={ latex(f_inverse[i])}'))\n",
    "except:\n",
    "    pass"
   ]
  },
  {
   "cell_type": "markdown",
   "metadata": {},
   "source": [
    "Since $a\\leq x \\leq b=\\pi−\\arctan(\\frac{3}{2})$, by checking the graph of the $y=2\\tan^{-1}\\left(\\frac{\\sqrt{13-x^{2}}-2}{x+3}\\right)$ and $y=-2\\tan^{-1}\\left(\\frac{\\sqrt{13-x^{2}}-2}{x+3}\\right)$, we conclude that $$x=2\\tan^{-1}\\left(\\frac{\\sqrt{13-y^{2}}-2}{y+3}\\right).$$\n",
    "\n",
    "And, thus, $f^{-1}(x)=2\\tan^{-1}\\left(\\frac{\\sqrt{13-x^{2}}-2}{x+3}\\right)$.\n",
    "\n",
    "*Alternative Solution with R formula*\n",
    "\n",
    "Note that, from R formula, we can write\n",
    "$$\\begin{align*}\n",
    "f\\left(x\\right)\t&=3\\cos x-2\\sin x \\\\\n",
    "\t&=\\sqrt{3^{2}+2^{2}}\\cos\\left(x+\\tan^{-1}\\left(\\frac{2}{3}\\right)\\right) \\\\\n",
    "\t&=\\sqrt{13}\\cos\\left(x+0.588\\right).\n",
    "\\end{align*}$$\n",
    "\n",
    "As such, $f^{-1}(x)=\\cos^{-1}\\left(\\frac{x}{\\sqrt{13}}\\right)-0.588$. (Left as exercise for reader)"
   ]
  },
  {
   "cell_type": "markdown",
   "metadata": {},
   "source": [
    "## 7.3 Composition of a 1-1 Function with its Inverse\n",
    "Recall that the inverse function of $f$ *reverses* the mapping done by the function $f$. As such, if $f^{-1}(x)$ is applied to $f(x)$, then we will get $x$. In other words, we obtain $f^{-1}f(x)=x$  without performing any algebraic manipulation. Similarly, we can also deduce that $f^{-1}f(x)=x$.\n",
    "\n",
    "However, even though the rules of $f^{-1}f(x)$ and $f^{-1}f(x)$ both simplifies to $x$. We **cannot conclude** that the two functions $ff^{-1}$ and $f^{-1}f$ are the same function as their domains might differ. Note that both $ff^{-1}$ and $f^{-1}f$ are just composite functions and thus, \n",
    "$$\\begin{align*}\n",
    "    D_{ff^{-1}}&=D_{f^{-1}}\\\\\n",
    "    D_{f^{-1}f}&=D_{f}\n",
    "\\end{align*}$$\n",
    "\n",
    "and there's no guarantee that they will be the same. Consequently, the two functions need not be equal even though they share the same rule.\n",
    "\n",
    "### Example\n",
    "It is given that $f$ is a one-to-one function defined by $f:x\\mapsto 2x+3$, $-2\\leq x\\leq 2$. Find\n",
    "- $f^{-1}f$\n",
    "- $ff^{-1}$\n",
    "\n",
    "Sketch the graphs of $y=f^{-1}f(x)$ and $y=ff^{-1}$ on a single diagram.\n",
    "Hence solve $ f^{-1}f(x) = ff^{-1}(x)$.\n",
    "\n",
    "*Solution*\n",
    "\n",
    "We note that \n",
    "- $f^{-1}f(x)=x$, $D_{f^{-1}f}=D_f=[-2,2]$\n",
    "- $f(x)f^{-1}=x$, $D_{ff^{-1}}=D_{f^{-1}}=R_f=[-1,7]$"
   ]
  },
  {
   "cell_type": "code",
   "execution_count": 67,
   "metadata": {},
   "outputs": [
    {
     "data": {
      "image/png": "[encoded data removed]",
      "text/plain": [
       "<Figure size 432x288 with 1 Axes>"
      ]
     },
     "metadata": {
      "needs_background": "light"
     },
     "output_type": "display_data"
    },
    {
     "data": {
      "image/png": "[encoded data removed]",
      "text/plain": [
       "<Figure size 432x288 with 1 Axes>"
      ]
     },
     "metadata": {
      "needs_background": "light"
     },
     "output_type": "display_data"
    },
    {
     "data": {
      "text/plain": [
       "<sympy.plotting.plot.Plot at 0x1f4d21f4ee0>"
      ]
     },
     "execution_count": 67,
     "metadata": {},
     "output_type": "execute_result"
    }
   ],
   "source": [
    "from sympy.calculus.util import *\n",
    "\n",
    "x = symbols('x')\n",
    "\n",
    "# We define the function ff^{-1} \n",
    "class f_f_inv(Function):\n",
    "    @classmethod\n",
    "    def eval(cls, x):\n",
    "        return x\n",
    "\n",
    "# We define the function f^{-1}f \n",
    "class f_inv_f(Function):\n",
    "    @classmethod\n",
    "    def eval(cls, x):\n",
    "        return x\n",
    "\n",
    "#Plotting ff^{-1}, blue\n",
    "plot(f_f_inv(x),(x,-1,7),xlim=(-10,10),ylim=(-10,10))\n",
    "\n",
    "#Plotting f^{-1}f, red\n",
    "plot(f_inv_f(x),(x,-2,2),xlim=(-10,10),ylim=(-10,10),line_color='red')"
   ]
  },
  {
   "cell_type": "markdown",
   "metadata": {},
   "source": [
    "We see that that the two functions are indeed different. Since the question wants both of them sketched on the same diagram. \n",
    "\n",
    "<center>\n",
    "\n",
    "<img src=\"img/function-inverse-ffinv.png\" width=\"400\"  align=\"center\"/>\n",
    "\n",
    "</center>"
   ]
  },
  {
   "cell_type": "markdown",
   "metadata": {},
   "source": [
    "From the diagram, it is easy then to read that when $ f^{-1}f(x) = ff^{-1}(x)$, the two graphs overlaps, which happens when $-1\\leq x\\leq 2$."
   ]
  },
  {
   "cell_type": "markdown",
   "metadata": {},
   "source": [
    "### Example \n",
    "The function $f$ is defined by\n",
    "$$ f:x\\mapsto \\frac{3x}{2x-3}, \\text{ for }x\\in \\mathbb{R},x\\neq \\frac{3}{2}.$$\n",
    "- **(i)**\tFind $f^{-1}(x)$. Hence or otherwise find $f^{2}(x)$ and state the range of $f^{2}$.\n",
    "- **(ii)**\tEvaluate $f^{2019}(5)$.\n",
    "\n",
    "*Solution*\n",
    "We first find the rule of $f^{-1}$."
   ]
  },
  {
   "cell_type": "code",
   "execution_count": 68,
   "metadata": {},
   "outputs": [
    {
     "data": {
      "text/latex": [
       "$\\displaystyle x=\\frac{3 y}{2 y - 3}$"
      ],
      "text/plain": [
       "<IPython.core.display.Math object>"
      ]
     },
     "metadata": {},
     "output_type": "display_data"
    }
   ],
   "source": [
    "from sympy import *\n",
    "from IPython.display import Math,display,Latex\n",
    "\n",
    "x, y = symbols('x y')\n",
    "\n",
    "#defining f\n",
    "class f(Function):\n",
    "    @classmethod\n",
    "    def eval(cls, x):\n",
    "        return (3*x)/(2*x-3)\n",
    "\n",
    "# Making x the subject\n",
    "f_inverse = solve(y-f(x),x)\n",
    "\n",
    "# We use try-except block in case there's only 1 value\n",
    "# Generally, A level functions don't have more than 2 possible relation for the inverse\n",
    "try:    \n",
    "    for i in range(2):\n",
    "        display(Math(f'x={ latex(f_inverse[i])}'))\n",
    "except:\n",
    "    pass"
   ]
  },
  {
   "cell_type": "markdown",
   "metadata": {},
   "source": [
    "So, we see that $f^{-1}(x)=\\frac{3x}{2x-3}=f(x)$. Consequently, \n",
    "\n",
    "$$\\begin{align*}\n",
    "    f^{-1}(x)&=f(x) \\\\\n",
    "    f(f^{-1}(x))&=f(f(x)) \\\\\n",
    "    x & =f^{2}(x).\n",
    "\\end{align*}$$\n",
    "\n",
    "Since $D_{f^2}=D_{ff}=D_{f}=\\mathbb{R}\\backslash \\{\\frac{3}{2}\\}$, and the rule $f^2(x)$ is just $x$, we have $R_{f^2}=\\mathbb{R}\\backslash \\{\\frac{3}{2}\\}$.\n",
    "\n",
    "- (ii) If we're bruteforcing this and doing it in a non-smart way, we see that we need to apply the function $f$ 2019 times."
   ]
  },
  {
   "cell_type": "code",
   "execution_count": 70,
   "metadata": {},
   "outputs": [
    {
     "name": "stdout",
     "output_type": "stream",
     "text": [
      "Checking the composition of function\n"
     ]
    },
    {
     "data": {
      "text/latex": [
       "$\\displaystyle f^{2019}(x)=\\frac{3 x}{2 x - 3}$"
      ],
      "text/plain": [
       "<IPython.core.display.Math object>"
      ]
     },
     "metadata": {},
     "output_type": "display_data"
    },
    {
     "name": "stdout",
     "output_type": "stream",
     "text": [
      "Evaluating at x=5\n"
     ]
    },
    {
     "data": {
      "text/latex": [
       "$\\displaystyle f^{2019}(5)=\\frac{12}{5}$"
      ],
      "text/plain": [
       "<IPython.core.display.Math object>"
      ]
     },
     "metadata": {},
     "output_type": "display_data"
    }
   ],
   "source": [
    "from sympy import Function\n",
    "\n",
    "x = symbols('x')\n",
    "\n",
    "# We need to do the following to define the function f in the question\n",
    "class f(Function):\n",
    "    @classmethod\n",
    "    def eval(cls, x):\n",
    "        return (3*x)/(2*x-3)\n",
    "\n",
    "composite_function = x\n",
    "\n",
    "for n in range(2019):\n",
    "    #Note that we simplify here because otherwise, the expression just gets\n",
    "    #into a bigger and bigger nest\n",
    "    composite_function = simplify(f(composite_function))\n",
    "\n",
    "print('Checking the composition of function')\n",
    "display(Math(f'f^{{2019}}(x)={ latex(composite_function)}'))\n",
    "\n",
    "print('Evaluating at x=5')\n",
    "display(Math(f'f^{{2019}}(5)={ latex(composite_function.subs(x,4))}'))"
   ]
  },
  {
   "cell_type": "markdown",
   "metadata": {},
   "source": [
    "On my machine this takes ~5 seconds to run. However, we can actually do this in a smarter way. \n",
    "\n",
    "In the previous part, we have shown that $f^{2}(x)=x$. Consequently, we observe that \n",
    "$$f^(x)&=f^{3}(x)=f^{5}(x)$$\n",
    "\n",
    "$$\\begin{align*}\n",
    "f^{2019}\\left(x\\right)\t&=f\\left(f^{2018}\\left(x\\right)\\right) \\\\\n",
    "\t&=f\\left(x\\right) \\\\\n",
    "\t&=\\frac{3x}{2x-3} \\\\\n",
    "f^{2019}\\left(5\\right)\t&=\\frac{3\\left(5\\right)}{2\\left(5\\right)-3} \\\\\n",
    "\t&=\\frac{15}{7}.\n",
    "\\end{align*}$$"
   ]
  },
  {
   "cell_type": "markdown",
   "metadata": {},
   "source": []
  }
 ],
 "metadata": {
  "interpreter": {
   "hash": "9855bcb2db2fc1adb021fa4ac9c7dfbb81452ef889b3ef5659154f2722c9fc88"
  },
  "kernelspec": {
   "display_name": "Python 3.7.6 ('base')",
   "language": "python",
   "name": "python3"
  },
  "language_info": {
   "codemirror_mode": {
    "name": "ipython",
    "version": 3
   },
   "file_extension": ".py",
   "mimetype": "text/x-python",
   "name": "python",
   "nbconvert_exporter": "python",
   "pygments_lexer": "ipython3",
   "version": "3.10.2"
  },
  "orig_nbformat": 4
 },
 "nbformat": 4,
 "nbformat_minor": 2
}
